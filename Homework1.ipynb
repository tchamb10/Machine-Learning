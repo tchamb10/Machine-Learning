{
 "cells": [
  {
   "cell_type": "code",
   "execution_count": null,
   "id": "d9fbf7e9-455f-4614-8750-edddd00b342c",
   "metadata": {},
   "outputs": [],
   "source": [
    "# IMPORTANT NOTE THE FOLLOWING CELL NUMBERS CONTAIN THE PLOTS\n",
    "# 22, 32, 49, 66, 85, 101, 117, 133\n",
    "# THE FOLLOWING NUMBERS ARE THE PAGE VALUES THAT CONTAIN THE PLOTS\n",
    "# 6, 9, 13, 17, 22, 27, 31, 36"
   ]
  },
  {
   "cell_type": "code",
   "execution_count": 1,
   "id": "7c9efc0d-e15a-41b2-82e1-6d856b158f2c",
   "metadata": {},
   "outputs": [],
   "source": [
    "import numpy as np\n",
    "import pandas as pd\n",
    "import matplotlib.pyplot as plt\n",
    "import seaborn as sns"
   ]
  },
  {
   "cell_type": "code",
   "execution_count": 2,
   "id": "4c18e647-eae2-412c-b7c4-4d9055c724f9",
   "metadata": {},
   "outputs": [
    {
     "data": {
      "text/plain": [
       "545"
      ]
     },
     "execution_count": 2,
     "metadata": {},
     "output_type": "execute_result"
    }
   ],
   "source": [
    "housing = pd.read_csv('Housing.csv')\n",
    "housing.head()\n",
    "m = len(housing)\n",
    "m"
   ]
  },
  {
   "cell_type": "code",
   "execution_count": 3,
   "id": "24fe0622-1fef-42e2-b465-acc1457e8b49",
   "metadata": {},
   "outputs": [],
   "source": [
    "def compute_cost(X, y, theta): # computing cost for theta\n",
    "    predictions = X.dot(theta)\n",
    "    errors = np.subtract(predictions, y)\n",
    "    sqrErrors = np.square(errors)\n",
    "    j = 1 / (2 * m) * np.sum(sqrErrors) \n",
    "    \n",
    "    return j\n",
    "\n",
    "\n",
    "\n",
    "def compute_cost1(X, y, theta, lam): # computing cost for theta\n",
    "    predictions = X.dot(theta)\n",
    "    errors = np.subtract(predictions, y)\n",
    "    sqrErrors = np.square(errors)\n",
    "    j = 1/(2*m) * (np.sum(sqrErrors) + lam * (np.sum(theta) - theta[0]))\n",
    "    \n",
    "    return j\n",
    "\n",
    "\n",
    "\n",
    "def gradient_descent(X, X2, y, y2, theta, alpha, iterations): # computing the cost for linear regression\n",
    "    cost_history = np.zeros(iterations)\n",
    "    cost_history2 = np.zeros(iterations)\n",
    "    \n",
    "    for i in range(iterations):\n",
    "        predictions = X.dot(theta)\n",
    "        errors = np.subtract(predictions, y)\n",
    "        sum_delta = (alpha / 381) * X.transpose().dot(errors);\n",
    "        theta = theta - sum_delta;\n",
    "        cost_history[i] = compute_cost(X, y, theta)\n",
    "        cost_history2[i] = compute_cost(X2, y2, theta)\n",
    "        \n",
    "    return theta, cost_history, cost_history2\n",
    "\n",
    "\n",
    "\n",
    "def gradient_descent1(X, X2, y, y2, theta, alpha, iterations, lam): # computing the cost for linear regression\n",
    "    cost_history = np.zeros(iterations)\n",
    "    cost_history2 = np.zeros(iterations)\n",
    "    \n",
    "    for i in range(iterations):\n",
    "        predictions = X.dot(theta)\n",
    "        errors = np.subtract(predictions, y)\n",
    "        sum_delta = (alpha / m) * X.transpose().dot(errors);\n",
    "        theta = theta * (1 - alpha * (lam/m))-sum_delta;\n",
    "        cost_history[i] = compute_cost1(X, y, theta, lam)\n",
    "        cost_history2[i] = compute_cost(X2, y2, theta)\n",
    "        \n",
    "    return theta, cost_history, cost_history2"
   ]
  },
  {
   "cell_type": "code",
   "execution_count": 4,
   "id": "9aa690a6-e2e4-44fc-9953-163585f8fcbc",
   "metadata": {},
   "outputs": [],
   "source": [
    "#Problem 1.a"
   ]
  },
  {
   "cell_type": "code",
   "execution_count": null,
   "id": "76c44c75-028a-412e-95aa-115c3f5f1dd1",
   "metadata": {},
   "outputs": [],
   "source": []
  },
  {
   "cell_type": "code",
   "execution_count": null,
   "id": "aec92eb6-a6ed-4c20-ba43-405371899c31",
   "metadata": {},
   "outputs": [],
   "source": []
  },
  {
   "cell_type": "code",
   "execution_count": null,
   "id": "078a3c0b-d565-4b2d-acf1-51a4ed5a6ba7",
   "metadata": {},
   "outputs": [],
   "source": []
  },
  {
   "cell_type": "code",
   "execution_count": null,
   "id": "f8f780b4-d81b-4f4a-a021-f69c063bb145",
   "metadata": {},
   "outputs": [],
   "source": []
  },
  {
   "cell_type": "code",
   "execution_count": 5,
   "id": "0a2ee5fc-033a-4c63-b1f4-ff445c1715b3",
   "metadata": {},
   "outputs": [
    {
     "data": {
      "text/html": [
       "<div>\n",
       "<style scoped>\n",
       "    .dataframe tbody tr th:only-of-type {\n",
       "        vertical-align: middle;\n",
       "    }\n",
       "\n",
       "    .dataframe tbody tr th {\n",
       "        vertical-align: top;\n",
       "    }\n",
       "\n",
       "    .dataframe thead th {\n",
       "        text-align: right;\n",
       "    }\n",
       "</style>\n",
       "<table border=\"1\" class=\"dataframe\">\n",
       "  <thead>\n",
       "    <tr style=\"text-align: right;\">\n",
       "      <th></th>\n",
       "      <th>price</th>\n",
       "      <th>area</th>\n",
       "      <th>bedrooms</th>\n",
       "      <th>bathrooms</th>\n",
       "      <th>stories</th>\n",
       "      <th>mainroad</th>\n",
       "      <th>guestroom</th>\n",
       "      <th>basement</th>\n",
       "      <th>hotwaterheating</th>\n",
       "      <th>airconditioning</th>\n",
       "      <th>parking</th>\n",
       "      <th>prefarea</th>\n",
       "      <th>furnishingstatus</th>\n",
       "    </tr>\n",
       "  </thead>\n",
       "  <tbody>\n",
       "    <tr>\n",
       "      <th>0</th>\n",
       "      <td>13300000</td>\n",
       "      <td>7420</td>\n",
       "      <td>4</td>\n",
       "      <td>2</td>\n",
       "      <td>3</td>\n",
       "      <td>1</td>\n",
       "      <td>0</td>\n",
       "      <td>0</td>\n",
       "      <td>0</td>\n",
       "      <td>1</td>\n",
       "      <td>2</td>\n",
       "      <td>1</td>\n",
       "      <td>furnished</td>\n",
       "    </tr>\n",
       "    <tr>\n",
       "      <th>1</th>\n",
       "      <td>12250000</td>\n",
       "      <td>8960</td>\n",
       "      <td>4</td>\n",
       "      <td>4</td>\n",
       "      <td>4</td>\n",
       "      <td>1</td>\n",
       "      <td>0</td>\n",
       "      <td>0</td>\n",
       "      <td>0</td>\n",
       "      <td>1</td>\n",
       "      <td>3</td>\n",
       "      <td>0</td>\n",
       "      <td>furnished</td>\n",
       "    </tr>\n",
       "    <tr>\n",
       "      <th>2</th>\n",
       "      <td>12250000</td>\n",
       "      <td>9960</td>\n",
       "      <td>3</td>\n",
       "      <td>2</td>\n",
       "      <td>2</td>\n",
       "      <td>1</td>\n",
       "      <td>0</td>\n",
       "      <td>1</td>\n",
       "      <td>0</td>\n",
       "      <td>0</td>\n",
       "      <td>2</td>\n",
       "      <td>1</td>\n",
       "      <td>semi-furnished</td>\n",
       "    </tr>\n",
       "    <tr>\n",
       "      <th>3</th>\n",
       "      <td>12215000</td>\n",
       "      <td>7500</td>\n",
       "      <td>4</td>\n",
       "      <td>2</td>\n",
       "      <td>2</td>\n",
       "      <td>1</td>\n",
       "      <td>0</td>\n",
       "      <td>1</td>\n",
       "      <td>0</td>\n",
       "      <td>1</td>\n",
       "      <td>3</td>\n",
       "      <td>1</td>\n",
       "      <td>furnished</td>\n",
       "    </tr>\n",
       "    <tr>\n",
       "      <th>4</th>\n",
       "      <td>11410000</td>\n",
       "      <td>7420</td>\n",
       "      <td>4</td>\n",
       "      <td>1</td>\n",
       "      <td>2</td>\n",
       "      <td>1</td>\n",
       "      <td>1</td>\n",
       "      <td>1</td>\n",
       "      <td>0</td>\n",
       "      <td>1</td>\n",
       "      <td>2</td>\n",
       "      <td>0</td>\n",
       "      <td>furnished</td>\n",
       "    </tr>\n",
       "  </tbody>\n",
       "</table>\n",
       "</div>"
      ],
      "text/plain": [
       "      price  area  bedrooms  bathrooms  stories  mainroad  guestroom  \\\n",
       "0  13300000  7420         4          2        3         1          0   \n",
       "1  12250000  8960         4          4        4         1          0   \n",
       "2  12250000  9960         3          2        2         1          0   \n",
       "3  12215000  7500         4          2        2         1          0   \n",
       "4  11410000  7420         4          1        2         1          1   \n",
       "\n",
       "   basement  hotwaterheating  airconditioning  parking  prefarea  \\\n",
       "0         0                0                1        2         1   \n",
       "1         0                0                1        3         0   \n",
       "2         1                0                0        2         1   \n",
       "3         1                0                1        3         1   \n",
       "4         1                0                1        2         0   \n",
       "\n",
       "  furnishingstatus  \n",
       "0        furnished  \n",
       "1        furnished  \n",
       "2   semi-furnished  \n",
       "3        furnished  \n",
       "4        furnished  "
      ]
     },
     "execution_count": 5,
     "metadata": {},
     "output_type": "execute_result"
    }
   ],
   "source": [
    "varlist = ['mainroad', 'guestroom', 'basement', 'hotwaterheating', 'airconditioning', 'prefarea']\n",
    "\n",
    "def binary_map(x):\n",
    "    return x.map({'yes': 1, 'no': 0})\n",
    "\n",
    "housing[varlist] = housing[varlist].apply(binary_map)\n",
    "\n",
    "housing.head()"
   ]
  },
  {
   "cell_type": "code",
   "execution_count": 6,
   "id": "96972f4d-6186-4709-a170-ca2e127aff53",
   "metadata": {},
   "outputs": [
    {
     "data": {
      "text/plain": [
       "(381, 13)"
      ]
     },
     "execution_count": 6,
     "metadata": {},
     "output_type": "execute_result"
    }
   ],
   "source": [
    "from sklearn.model_selection import train_test_split\n",
    "\n",
    "np.random.seed(0)\n",
    "df_train, df_test = train_test_split(housing, train_size = 0.7, test_size = 0.3, random_state = 0)\n",
    "df_train.shape"
   ]
  },
  {
   "cell_type": "code",
   "execution_count": 7,
   "id": "e4fa6985-20e8-4ec3-8761-bddbcc02827c",
   "metadata": {},
   "outputs": [
    {
     "data": {
      "text/plain": [
       "(164, 13)"
      ]
     },
     "execution_count": 7,
     "metadata": {},
     "output_type": "execute_result"
    }
   ],
   "source": [
    "df_test.shape"
   ]
  },
  {
   "cell_type": "code",
   "execution_count": 8,
   "id": "2a3bf53b-0b84-47a0-8625-b71e50b94f98",
   "metadata": {},
   "outputs": [
    {
     "data": {
      "text/html": [
       "<div>\n",
       "<style scoped>\n",
       "    .dataframe tbody tr th:only-of-type {\n",
       "        vertical-align: middle;\n",
       "    }\n",
       "\n",
       "    .dataframe tbody tr th {\n",
       "        vertical-align: top;\n",
       "    }\n",
       "\n",
       "    .dataframe thead th {\n",
       "        text-align: right;\n",
       "    }\n",
       "</style>\n",
       "<table border=\"1\" class=\"dataframe\">\n",
       "  <thead>\n",
       "    <tr style=\"text-align: right;\">\n",
       "      <th></th>\n",
       "      <th>area</th>\n",
       "      <th>bedrooms</th>\n",
       "      <th>bathrooms</th>\n",
       "      <th>stories</th>\n",
       "      <th>parking</th>\n",
       "      <th>price</th>\n",
       "      <th>mainroad</th>\n",
       "      <th>guestroom</th>\n",
       "      <th>basement</th>\n",
       "      <th>hotwaterheating</th>\n",
       "      <th>airconditioning</th>\n",
       "      <th>prefarea</th>\n",
       "    </tr>\n",
       "  </thead>\n",
       "  <tbody>\n",
       "    <tr>\n",
       "      <th>454</th>\n",
       "      <td>4500</td>\n",
       "      <td>3</td>\n",
       "      <td>1</td>\n",
       "      <td>2</td>\n",
       "      <td>0</td>\n",
       "      <td>3143000</td>\n",
       "      <td>1</td>\n",
       "      <td>0</td>\n",
       "      <td>0</td>\n",
       "      <td>0</td>\n",
       "      <td>1</td>\n",
       "      <td>0</td>\n",
       "    </tr>\n",
       "    <tr>\n",
       "      <th>392</th>\n",
       "      <td>3990</td>\n",
       "      <td>3</td>\n",
       "      <td>1</td>\n",
       "      <td>2</td>\n",
       "      <td>0</td>\n",
       "      <td>3500000</td>\n",
       "      <td>1</td>\n",
       "      <td>0</td>\n",
       "      <td>0</td>\n",
       "      <td>0</td>\n",
       "      <td>0</td>\n",
       "      <td>0</td>\n",
       "    </tr>\n",
       "    <tr>\n",
       "      <th>231</th>\n",
       "      <td>4320</td>\n",
       "      <td>3</td>\n",
       "      <td>1</td>\n",
       "      <td>1</td>\n",
       "      <td>0</td>\n",
       "      <td>4690000</td>\n",
       "      <td>1</td>\n",
       "      <td>0</td>\n",
       "      <td>0</td>\n",
       "      <td>0</td>\n",
       "      <td>0</td>\n",
       "      <td>1</td>\n",
       "    </tr>\n",
       "    <tr>\n",
       "      <th>271</th>\n",
       "      <td>1905</td>\n",
       "      <td>5</td>\n",
       "      <td>1</td>\n",
       "      <td>2</td>\n",
       "      <td>0</td>\n",
       "      <td>4340000</td>\n",
       "      <td>0</td>\n",
       "      <td>0</td>\n",
       "      <td>1</td>\n",
       "      <td>0</td>\n",
       "      <td>0</td>\n",
       "      <td>0</td>\n",
       "    </tr>\n",
       "    <tr>\n",
       "      <th>250</th>\n",
       "      <td>3510</td>\n",
       "      <td>3</td>\n",
       "      <td>1</td>\n",
       "      <td>3</td>\n",
       "      <td>0</td>\n",
       "      <td>4515000</td>\n",
       "      <td>1</td>\n",
       "      <td>0</td>\n",
       "      <td>0</td>\n",
       "      <td>0</td>\n",
       "      <td>0</td>\n",
       "      <td>0</td>\n",
       "    </tr>\n",
       "  </tbody>\n",
       "</table>\n",
       "</div>"
      ],
      "text/plain": [
       "     area  bedrooms  bathrooms  stories  parking    price  mainroad  \\\n",
       "454  4500         3          1        2        0  3143000         1   \n",
       "392  3990         3          1        2        0  3500000         1   \n",
       "231  4320         3          1        1        0  4690000         1   \n",
       "271  1905         5          1        2        0  4340000         0   \n",
       "250  3510         3          1        3        0  4515000         1   \n",
       "\n",
       "     guestroom  basement  hotwaterheating  airconditioning  prefarea  \n",
       "454          0         0                0                1         0  \n",
       "392          0         0                0                0         0  \n",
       "231          0         0                0                0         1  \n",
       "271          0         1                0                0         0  \n",
       "250          0         0                0                0         0  "
      ]
     },
     "execution_count": 8,
     "metadata": {},
     "output_type": "execute_result"
    }
   ],
   "source": [
    "num_vars = ['area', 'bedrooms', 'bathrooms', 'stories', 'parking', 'price', 'mainroad', 'guestroom', 'basement', 'hotwaterheating', 'airconditioning', 'prefarea']\n",
    "df_Newtrain = df_train[num_vars]\n",
    "df_Newtest = df_test[num_vars]\n",
    "df_Newtrain.head()\n",
    "# df_Newtest.head()"
   ]
  },
  {
   "cell_type": "code",
   "execution_count": 9,
   "id": "91c5e993-ef40-4269-a658-01a52e86109c",
   "metadata": {},
   "outputs": [
    {
     "data": {
      "text/plain": [
       "(381, 12)"
      ]
     },
     "execution_count": 9,
     "metadata": {},
     "output_type": "execute_result"
    }
   ],
   "source": [
    "df_Newtrain.shape"
   ]
  },
  {
   "cell_type": "code",
   "execution_count": 10,
   "id": "d84855e1-a064-44d3-a35e-675039fdb0f4",
   "metadata": {},
   "outputs": [
    {
     "data": {
      "text/plain": [
       "(array([4500, 3990, 4320, 1905, 3510], dtype=int64),\n",
       " array([3, 3, 3, 5, 3], dtype=int64),\n",
       " array([1, 1, 1, 1, 1], dtype=int64),\n",
       " array([2, 2, 1, 2, 3], dtype=int64),\n",
       " array([0, 0, 0, 0, 0], dtype=int64),\n",
       " array([3143000, 3500000, 4690000, 4340000, 4515000], dtype=int64))"
      ]
     },
     "execution_count": 10,
     "metadata": {},
     "output_type": "execute_result"
    }
   ],
   "source": [
    "area_train = df_Newtrain.values[:, 0]\n",
    "bedrooms_train = df_Newtrain.values[:, 1]\n",
    "bathrooms_train = df_Newtrain.values[:, 2]\n",
    "stories_train = df_Newtrain.values[:, 3]\n",
    "parking_train = df_Newtrain.values[:, 4]\n",
    "price_train = df_Newtrain.values[:, 5]\n",
    "mainroad_train = df_Newtrain.values[:, 6]\n",
    "guestroom_train = df_Newtrain.values[:, 7]\n",
    "basement_train = df_Newtrain.values[:, 8]\n",
    "hotwaterheating_train = df_Newtrain.values[:, 9]\n",
    "airconditioning_train = df_Newtrain.values[:, 10]\n",
    "prefarea_train = df_Newtrain.values[:, 11]\n",
    "area_train[: 5], bedrooms_train[: 5], bathrooms_train[: 5], stories_train[: 5], parking_train[: 5], price_train[: 5]"
   ]
  },
  {
   "cell_type": "code",
   "execution_count": 11,
   "id": "924f2458-7212-4f1a-bc3c-d4a7e9645537",
   "metadata": {},
   "outputs": [
    {
     "data": {
      "text/plain": [
       "array([0., 0., 0., 0., 0., 0.])"
      ]
     },
     "execution_count": 11,
     "metadata": {},
     "output_type": "execute_result"
    }
   ],
   "source": [
    "theta = np.zeros(6)\n",
    "theta"
   ]
  },
  {
   "cell_type": "code",
   "execution_count": 12,
   "id": "5817c1c7-6df3-49b1-99cf-ac0901461813",
   "metadata": {},
   "outputs": [
    {
     "data": {
      "text/plain": [
       "array([[0],\n",
       "       [0],\n",
       "       [0],\n",
       "       [0],\n",
       "       [0]], dtype=int64)"
      ]
     },
     "execution_count": 12,
     "metadata": {},
     "output_type": "execute_result"
    }
   ],
   "source": [
    "x_0 = np.ones((381, 1)) # creating matrix with column of ones\n",
    "area_train1 = area_train.reshape(381,1)\n",
    "area_train1[:5]\n",
    "\n",
    "x_0 = np.ones((381, 1)) # creating matrix with column of ones\n",
    "bedrooms_train1 = bedrooms_train.reshape(381,1)\n",
    "bedrooms_train1[:5]\n",
    "\n",
    "x_0 = np.ones((381, 1)) # creating matrix with column of ones\n",
    "bathrooms_train1 = bathrooms_train.reshape(381,1)\n",
    "bathrooms_train1[:5]\n",
    "\n",
    "x_0 = np.ones((381, 1)) # creating matrix with column of ones\n",
    "stories_train1 = stories_train.reshape(381,1)\n",
    "stories_train1[:5]\n",
    "\n",
    "x_0 = np.ones((381, 1)) # creating matrix with column of ones\n",
    "parking_train1 = parking_train.reshape(381,1)\n",
    "parking_train1[:5]"
   ]
  },
  {
   "cell_type": "code",
   "execution_count": 13,
   "id": "b1afee13-0906-4cda-b775-4684a82a4739",
   "metadata": {},
   "outputs": [],
   "source": [
    "iterations = 1500;\n",
    "alpha = .0000000001;"
   ]
  },
  {
   "cell_type": "code",
   "execution_count": 14,
   "id": "e939a593-e39e-4295-b1c2-d8779699cc96",
   "metadata": {},
   "outputs": [
    {
     "data": {
      "text/plain": [
       "array([[1.00e+00, 4.50e+03, 3.00e+00, 1.00e+00, 2.00e+00, 0.00e+00],\n",
       "       [1.00e+00, 3.99e+03, 3.00e+00, 1.00e+00, 2.00e+00, 0.00e+00]])"
      ]
     },
     "execution_count": 14,
     "metadata": {},
     "output_type": "execute_result"
    }
   ],
   "source": [
    "X = np.hstack((x_0,area_train1,bedrooms_train1,bathrooms_train1,stories_train1,parking_train1))\n",
    "X[:2]"
   ]
  },
  {
   "cell_type": "code",
   "execution_count": 15,
   "id": "6d7d618a-adf7-45e5-adea-bad2d3317251",
   "metadata": {},
   "outputs": [
    {
     "name": "stdout",
     "output_type": "stream",
     "text": [
      "The cost for given values of theta_0 and theta_1 = 9170960481173.027\n"
     ]
    }
   ],
   "source": [
    "cost = compute_cost(X, price_train, theta)\n",
    "print('The cost for given values of theta_0 and theta_1 =', cost)"
   ]
  },
  {
   "cell_type": "code",
   "execution_count": 16,
   "id": "b473b67c-5b17-450b-b2ba-64cefd8f7d4c",
   "metadata": {},
   "outputs": [
    {
     "data": {
      "text/plain": [
       "array([0., 0., 0., 0., 0., 0.])"
      ]
     },
     "execution_count": 16,
     "metadata": {},
     "output_type": "execute_result"
    }
   ],
   "source": [
    "theta = np.zeros(6)\n",
    "theta"
   ]
  },
  {
   "cell_type": "code",
   "execution_count": 17,
   "id": "03e590e3-45b5-4f4b-a818-342bf62487fd",
   "metadata": {},
   "outputs": [
    {
     "data": {
      "text/plain": [
       "(array([ 4000,  9620,  3460, 13200,  3660], dtype=int64),\n",
       " array([3, 3, 4, 2, 4], dtype=int64),\n",
       " array([1, 1, 1, 1, 1], dtype=int64),\n",
       " array([2, 1, 2, 1, 2], dtype=int64),\n",
       " array([1, 2, 0, 1, 0], dtype=int64),\n",
       " array([4585000, 6083000, 4007500, 6930000, 2940000], dtype=int64))"
      ]
     },
     "execution_count": 17,
     "metadata": {},
     "output_type": "execute_result"
    }
   ],
   "source": [
    "area_test = df_Newtest.values[:, 0]\n",
    "bedrooms_test = df_Newtest.values[:, 1]\n",
    "bathrooms_test = df_Newtest.values[:, 2]\n",
    "stories_test = df_Newtest.values[:, 3]\n",
    "parking_test = df_Newtest.values[:, 4]\n",
    "price_test = df_Newtest.values[:, 5]\n",
    "mainroad_test = df_Newtest.values[:, 6]\n",
    "guestroom_test = df_Newtest.values[:, 7]\n",
    "basement_test = df_Newtest.values[:, 8]\n",
    "hotwaterheating_test = df_Newtest.values[:, 9]\n",
    "airconditioning_test = df_Newtest.values[:, 10]\n",
    "prefarea_test = df_Newtest.values[:, 11]\n",
    "area_test[: 5], bedrooms_test[: 5], bathrooms_test[: 5], stories_test[: 5], parking_test[: 5], price_test[: 5]"
   ]
  },
  {
   "cell_type": "code",
   "execution_count": 18,
   "id": "2ca2a839-7c8e-41ab-b17d-570fd12943e2",
   "metadata": {},
   "outputs": [
    {
     "data": {
      "text/plain": [
       "array([[1],\n",
       "       [2],\n",
       "       [0],\n",
       "       [1],\n",
       "       [0]], dtype=int64)"
      ]
     },
     "execution_count": 18,
     "metadata": {},
     "output_type": "execute_result"
    }
   ],
   "source": [
    "x_0 = np.ones((164, 1)) # creating matrix with column of ones\n",
    "area_test1 = area_test.reshape(164,1)\n",
    "area_test1[:5]\n",
    "\n",
    "x_0 = np.ones((164, 1)) # creating matrix with column of ones\n",
    "bedrooms_test1 = bedrooms_test.reshape(164,1)\n",
    "bedrooms_test1[:5]\n",
    "\n",
    "x_0 = np.ones((164, 1)) # creating matrix with column of ones\n",
    "bathrooms_test1 = bathrooms_test.reshape(164,1)\n",
    "bathrooms_test1[:5]\n",
    "\n",
    "x_0 = np.ones((164, 1)) # creating matrix with column of ones\n",
    "stories_test1 = stories_test.reshape(164,1)\n",
    "stories_test1[:5]\n",
    "\n",
    "x_0 = np.ones((164, 1)) # creating matrix with column of ones\n",
    "parking_test1 = parking_test.reshape(164,1)\n",
    "parking_test1[:5]"
   ]
  },
  {
   "cell_type": "code",
   "execution_count": 19,
   "id": "4f8bca5b-4f76-47ba-87cd-f1d4b59f929a",
   "metadata": {},
   "outputs": [
    {
     "data": {
      "text/plain": [
       "array([[1.00e+00, 4.50e+03, 3.00e+00, 1.00e+00, 2.00e+00, 0.00e+00],\n",
       "       [1.00e+00, 3.99e+03, 3.00e+00, 1.00e+00, 2.00e+00, 0.00e+00]])"
      ]
     },
     "execution_count": 19,
     "metadata": {},
     "output_type": "execute_result"
    }
   ],
   "source": [
    "X2 = np.hstack((x_0,area_test1,bedrooms_test1,bathrooms_test1,stories_test1,parking_test1))\n",
    "X[:2]"
   ]
  },
  {
   "cell_type": "code",
   "execution_count": 20,
   "id": "81f7e3f3-0ea6-47d4-bb30-1af41f23e5fa",
   "metadata": {},
   "outputs": [
    {
     "name": "stdout",
     "output_type": "stream",
     "text": [
      "The cost for given values of theta_0 and theta_1 = 3935955883486.239\n"
     ]
    }
   ],
   "source": [
    "cost = compute_cost(X2, price_test, theta)\n",
    "print('The cost for given values of theta_0 and theta_1 =', cost)"
   ]
  },
  {
   "cell_type": "code",
   "execution_count": 21,
   "id": "ab701b38-d314-4798-84b5-506b70030368",
   "metadata": {},
   "outputs": [
    {
     "name": "stdout",
     "output_type": "stream",
     "text": [
      "Final value of theta =  [1.95107236e-01 8.70542202e+02 6.33183994e-01 3.03263326e-01\n",
      " 4.37606833e-01 1.65178022e-01]\n",
      "cost_history =  [9.12365084e+12 9.07662040e+12 9.02986752e+12 ... 1.15573495e+12\n",
      " 1.15572828e+12 1.15572165e+12]\n",
      "cost_history2 =  [3.91380236e+12 3.89178562e+12 3.86990484e+12 ... 5.21052230e+11\n",
      " 5.21073174e+11 5.21094066e+11]\n"
     ]
    }
   ],
   "source": [
    "theta, cost_history, cost_history2 = gradient_descent(X, X2, price_train, price_test, theta, alpha, iterations)\n",
    "print('Final value of theta = ', theta)\n",
    "print('cost_history = ', cost_history)\n",
    "print('cost_history2 = ', cost_history2)"
   ]
  },
  {
   "cell_type": "code",
   "execution_count": 22,
   "id": "cd589dd2-bfce-4e85-b074-b7e1d086c972",
   "metadata": {},
   "outputs": [
    {
     "data": {
      "text/plain": [
       "Text(0.5, 1.0, 'Convergence of gradient descent for five inputs')"
      ]
     },
     "execution_count": 22,
     "metadata": {},
     "output_type": "execute_result"
    },
    {
     "data": {
      "image/png": "[encoded data removed]",
      "text/plain": [
       "<Figure size 432x288 with 1 Axes>"
      ]
     },
     "metadata": {
      "needs_background": "light"
     },
     "output_type": "display_data"
    }
   ],
   "source": [
    "plt.plot(range(1, iterations + 1),cost_history, color='blue') # plotting loss function for all three inputs merged\n",
    "plt.plot(range(1, iterations + 1),cost_history2, color='red') # plotting loss function for all three inputs merged\n",
    "plt.rcParams[\"figure.figsize\"] = (10,6)\n",
    "plt.grid()\n",
    "plt.xlabel('Number of iterations')\n",
    "plt.ylabel('Cost (J)')\n",
    "plt.title('Convergence of gradient descent for Problem 1.a')"
   ]
  },
  {
   "cell_type": "code",
   "execution_count": 23,
   "id": "c8fed0c4-de71-4c5c-a2c6-4696ee4f6c68",
   "metadata": {},
   "outputs": [],
   "source": [
    "# Problem 1.B"
   ]
  },
  {
   "cell_type": "code",
   "execution_count": null,
   "id": "a111388d-b2ed-43df-8e1e-125636eb7d6f",
   "metadata": {},
   "outputs": [],
   "source": []
  },
  {
   "cell_type": "code",
   "execution_count": null,
   "id": "8368b52c-d287-4dc8-aeb9-bcf307c8df03",
   "metadata": {},
   "outputs": [],
   "source": []
  },
  {
   "cell_type": "code",
   "execution_count": null,
   "id": "78579e51-526f-4957-b9c7-d5301cdfdc2c",
   "metadata": {},
   "outputs": [],
   "source": []
  },
  {
   "cell_type": "code",
   "execution_count": null,
   "id": "ff50f92e-ddba-456f-80de-aff53fccbc4a",
   "metadata": {},
   "outputs": [],
   "source": []
  },
  {
   "cell_type": "code",
   "execution_count": 24,
   "id": "77172fad-6df7-45a9-9500-2b7526b97ce7",
   "metadata": {},
   "outputs": [
    {
     "data": {
      "text/plain": [
       "array([0., 0., 0., 0., 0., 0., 0., 0., 0., 0., 0., 0.])"
      ]
     },
     "execution_count": 24,
     "metadata": {},
     "output_type": "execute_result"
    }
   ],
   "source": [
    "theta = np.zeros(12)\n",
    "theta"
   ]
  },
  {
   "cell_type": "code",
   "execution_count": 25,
   "id": "109cb2f2-49ee-486c-a528-07c4cb4b088a",
   "metadata": {},
   "outputs": [
    {
     "data": {
      "text/plain": [
       "array([[0],\n",
       "       [0],\n",
       "       [1],\n",
       "       [0],\n",
       "       [0]], dtype=int64)"
      ]
     },
     "execution_count": 25,
     "metadata": {},
     "output_type": "execute_result"
    }
   ],
   "source": [
    "x_0 = np.ones((381, 1)) # creating matrix with column of ones\n",
    "area_train1 = area_train.reshape(381,1)\n",
    "area_train1[:5]\n",
    "\n",
    "x_0 = np.ones((381, 1)) # creating matrix with column of ones\n",
    "bedrooms_train1 = bedrooms_train.reshape(381,1)\n",
    "bedrooms_train1[:5]\n",
    "\n",
    "x_0 = np.ones((381, 1)) # creating matrix with column of ones\n",
    "bathrooms_train1 = bathrooms_train.reshape(381,1)\n",
    "bathrooms_train1[:5]\n",
    "\n",
    "x_0 = np.ones((381, 1)) # creating matrix with column of ones\n",
    "stories_train1 = stories_train.reshape(381,1)\n",
    "stories_train1[:5]\n",
    "\n",
    "x_0 = np.ones((381, 1)) # creating matrix with column of ones\n",
    "parking_train1 = parking_train.reshape(381,1)\n",
    "parking_train1[:5]\n",
    "\n",
    "x_0 = np.ones((381, 1)) # creating matrix with column of ones\n",
    "mainroad_train1 = mainroad_train.reshape(381,1)\n",
    "mainroad_train1[:5]\n",
    "\n",
    "x_0 = np.ones((381, 1)) # creating matrix with column of ones\n",
    "guestroom_train1 = guestroom_train.reshape(381,1)\n",
    "guestroom_train1[:5]\n",
    "\n",
    "x_0 = np.ones((381, 1)) # creating matrix with column of ones\n",
    "basement_train1 = basement_train.reshape(381,1)\n",
    "basement_train1[:5]\n",
    "\n",
    "x_0 = np.ones((381, 1)) # creating matrix with column of ones\n",
    "hotwaterheating_train1 = hotwaterheating_train.reshape(381,1)\n",
    "hotwaterheating_train1[:5]\n",
    "\n",
    "x_0 = np.ones((381, 1)) # creating matrix with column of ones\n",
    "airconditioning_train1 = airconditioning_train.reshape(381,1)\n",
    "airconditioning_train1[:5]\n",
    "\n",
    "x_0 = np.ones((381, 1)) # creating matrix with column of ones\n",
    "prefarea_train1 = prefarea_train.reshape(381,1)\n",
    "prefarea_train1[:5]"
   ]
  },
  {
   "cell_type": "code",
   "execution_count": 26,
   "id": "be707c7b-91a6-4d2c-b877-2bc55b97ecf2",
   "metadata": {},
   "outputs": [
    {
     "data": {
      "text/plain": [
       "array([[1.00e+00, 4.50e+03, 3.00e+00, 1.00e+00, 2.00e+00, 0.00e+00,\n",
       "        1.00e+00, 0.00e+00, 0.00e+00, 0.00e+00, 1.00e+00, 0.00e+00],\n",
       "       [1.00e+00, 3.99e+03, 3.00e+00, 1.00e+00, 2.00e+00, 0.00e+00,\n",
       "        1.00e+00, 0.00e+00, 0.00e+00, 0.00e+00, 0.00e+00, 0.00e+00]])"
      ]
     },
     "execution_count": 26,
     "metadata": {},
     "output_type": "execute_result"
    }
   ],
   "source": [
    "X = np.hstack((x_0,area_train1,bedrooms_train1,bathrooms_train1,stories_train1,parking_train1, mainroad_train1, guestroom_train1, basement_train1, hotwaterheating_train1, airconditioning_train1, prefarea_train1))\n",
    "X[:2]"
   ]
  },
  {
   "cell_type": "code",
   "execution_count": 27,
   "id": "51bf46fc-a546-46f8-8b13-c677c5cf22be",
   "metadata": {},
   "outputs": [
    {
     "name": "stdout",
     "output_type": "stream",
     "text": [
      "The cost for given values of theta_0 and theta_1 = 9170960481173.027\n"
     ]
    }
   ],
   "source": [
    "cost = compute_cost(X, price_train, theta)\n",
    "print('The cost for given values of theta_0 and theta_1 =', cost)"
   ]
  },
  {
   "cell_type": "code",
   "execution_count": 28,
   "id": "7f7156ae-df91-498e-add3-c76a3ce87996",
   "metadata": {},
   "outputs": [
    {
     "data": {
      "text/plain": [
       "array([[0],\n",
       "       [1],\n",
       "       [0],\n",
       "       [0],\n",
       "       [0]], dtype=int64)"
      ]
     },
     "execution_count": 28,
     "metadata": {},
     "output_type": "execute_result"
    }
   ],
   "source": [
    "x_0 = np.ones((164, 1)) # creating matrix with column of ones\n",
    "area_test1 = area_test.reshape(164,1)\n",
    "area_test1[:5]\n",
    "\n",
    "x_0 = np.ones((164, 1)) # creating matrix with column of ones\n",
    "bedrooms_test1 = bedrooms_test.reshape(164,1)\n",
    "bedrooms_test1[:5]\n",
    "\n",
    "x_0 = np.ones((164, 1)) # creating matrix with column of ones\n",
    "bathrooms_test1 = bathrooms_test.reshape(164,1)\n",
    "bathrooms_test1[:5]\n",
    "\n",
    "x_0 = np.ones((164, 1)) # creating matrix with column of ones\n",
    "stories_test1 = stories_test.reshape(164,1)\n",
    "stories_test1[:5]\n",
    "\n",
    "x_0 = np.ones((164, 1)) # creating matrix with column of ones\n",
    "parking_test1 = parking_test.reshape(164,1)\n",
    "parking_test1[:5]\n",
    "\n",
    "x_0 = np.ones((164, 1)) # creating matrix with column of ones\n",
    "mainroad_test1 = mainroad_test.reshape(164,1)\n",
    "mainroad_test1[:5]\n",
    "\n",
    "x_0 = np.ones((164, 1)) # creating matrix with column of ones\n",
    "guestroom_test1 = guestroom_test.reshape(164,1)\n",
    "guestroom_test1[:5]\n",
    "\n",
    "x_0 = np.ones((164, 1)) # creating matrix with column of ones\n",
    "basement_test1 = basement_test.reshape(164,1)\n",
    "basement_test1[:5]\n",
    "\n",
    "x_0 = np.ones((164, 1)) # creating matrix with column of ones\n",
    "hotwaterheating_test1 = hotwaterheating_test.reshape(164,1)\n",
    "hotwaterheating_test1[:5]\n",
    "\n",
    "x_0 = np.ones((164, 1)) # creating matrix with column of ones\n",
    "airconditioning_test1 = airconditioning_test.reshape(164,1)\n",
    "airconditioning_test1[:5]\n",
    "\n",
    "x_0 = np.ones((164, 1)) # creating matrix with column of ones\n",
    "prefarea_test1 = prefarea_test.reshape(164,1)\n",
    "prefarea_test1[:5]"
   ]
  },
  {
   "cell_type": "code",
   "execution_count": 29,
   "id": "f3176b0b-5531-4c01-8e71-ece4fec6016c",
   "metadata": {},
   "outputs": [
    {
     "data": {
      "text/plain": [
       "array([[1.00e+00, 4.00e+03, 3.00e+00, 1.00e+00, 2.00e+00, 1.00e+00,\n",
       "        1.00e+00, 0.00e+00, 0.00e+00, 0.00e+00, 0.00e+00, 0.00e+00],\n",
       "       [1.00e+00, 9.62e+03, 3.00e+00, 1.00e+00, 1.00e+00, 2.00e+00,\n",
       "        1.00e+00, 0.00e+00, 1.00e+00, 0.00e+00, 0.00e+00, 1.00e+00]])"
      ]
     },
     "execution_count": 29,
     "metadata": {},
     "output_type": "execute_result"
    }
   ],
   "source": [
    "X3 = np.hstack((x_0,area_test1,bedrooms_test1,bathrooms_test1,stories_test1,parking_test1, mainroad_test1, guestroom_test1, basement_test1, hotwaterheating_test1, airconditioning_test1, prefarea_test1))\n",
    "X3[:2]"
   ]
  },
  {
   "cell_type": "code",
   "execution_count": 30,
   "id": "f36e53b8-e2a2-4aec-a68a-778ca8aa8807",
   "metadata": {},
   "outputs": [
    {
     "name": "stdout",
     "output_type": "stream",
     "text": [
      "The cost for given values of theta_0 and theta_1 = 3935955883486.239\n"
     ]
    }
   ],
   "source": [
    "cost = compute_cost(X3, price_test, theta)\n",
    "print('The cost for given values of theta_0 and theta_1 =', cost)"
   ]
  },
  {
   "cell_type": "code",
   "execution_count": 31,
   "id": "ef1d9b95-7a10-4fb1-8900-fca0c2a90640",
   "metadata": {},
   "outputs": [
    {
     "name": "stdout",
     "output_type": "stream",
     "text": [
      "Final value of theta =  [1.95107227e-01 8.70542163e+02 6.33183968e-01 3.03263314e-01\n",
      " 4.37606817e-01 1.65178016e-01 1.75320339e-01 5.13075993e-02\n",
      " 8.97011768e-02 1.77256956e-02 9.93957978e-02 6.57672576e-02]\n",
      "cost_history =  [9.12365084e+12 9.07662040e+12 9.02986751e+12 ... 1.15573487e+12\n",
      " 1.15572820e+12 1.15572157e+12]\n",
      "cost_history2 =  [3.91380236e+12 3.89178562e+12 3.86990484e+12 ... 5.21052186e+11\n",
      " 5.21073130e+11 5.21094022e+11]\n"
     ]
    }
   ],
   "source": [
    "theta, cost_history3, cost_history4 = gradient_descent(X, X3, price_train, price_test, theta, alpha, iterations)\n",
    "print('Final value of theta = ', theta)\n",
    "print('cost_history = ', cost_history3)\n",
    "print('cost_history2 = ', cost_history4)"
   ]
  },
  {
   "cell_type": "code",
   "execution_count": 32,
   "id": "87fe3078-f3ab-4cd9-a63b-709d361046cf",
   "metadata": {},
   "outputs": [
    {
     "data": {
      "text/plain": [
       "Text(0.5, 1.0, 'Convergence of gradient descent for eleven inputs')"
      ]
     },
     "execution_count": 32,
     "metadata": {},
     "output_type": "execute_result"
    },
    {
     "data": {
      "image/png": "[encoded data removed]",
      "text/plain": [
       "<Figure size 720x432 with 1 Axes>"
      ]
     },
     "metadata": {
      "needs_background": "light"
     },
     "output_type": "display_data"
    }
   ],
   "source": [
    "plt.plot(range(1, iterations + 1),cost_history3, color='blue') # plotting loss function for all three inputs merged\n",
    "plt.plot(range(1, iterations + 1),cost_history4, color='red') # plotting loss function for all three inputs merged\n",
    "plt.rcParams[\"figure.figsize\"] = (10,6)\n",
    "plt.grid()\n",
    "plt.xlabel('Number of iterations')\n",
    "plt.ylabel('Cost (J)')\n",
    "plt.title('Convergence of gradient descent for Problem 1.b')"
   ]
  },
  {
   "cell_type": "code",
   "execution_count": 33,
   "id": "9769064b-b8dc-42af-8ffd-b9afe63f0453",
   "metadata": {},
   "outputs": [],
   "source": [
    "#Problem 2.a"
   ]
  },
  {
   "cell_type": "code",
   "execution_count": null,
   "id": "75236afb-d14d-47a6-874f-8b4a3675d453",
   "metadata": {},
   "outputs": [],
   "source": [
    "#Normalization is better than Standardization in my case as it has a lower cost for part A and B"
   ]
  },
  {
   "cell_type": "code",
   "execution_count": null,
   "id": "eb666cad-8358-4a68-9639-f41dbe25ddc2",
   "metadata": {},
   "outputs": [],
   "source": [
    "#Normalization was used for problem 3"
   ]
  },
  {
   "cell_type": "code",
   "execution_count": null,
   "id": "23376461-901f-4637-a197-a26f9f8a10c3",
   "metadata": {},
   "outputs": [],
   "source": []
  },
  {
   "cell_type": "code",
   "execution_count": null,
   "id": "3325412e-e53f-40ef-b8ed-890d6fdc5aae",
   "metadata": {},
   "outputs": [],
   "source": []
  },
  {
   "cell_type": "code",
   "execution_count": 34,
   "id": "105e5fc0-2c03-44a7-9331-368f1b31dca4",
   "metadata": {},
   "outputs": [
    {
     "data": {
      "text/html": [
       "<div>\n",
       "<style scoped>\n",
       "    .dataframe tbody tr th:only-of-type {\n",
       "        vertical-align: middle;\n",
       "    }\n",
       "\n",
       "    .dataframe tbody tr th {\n",
       "        vertical-align: top;\n",
       "    }\n",
       "\n",
       "    .dataframe thead th {\n",
       "        text-align: right;\n",
       "    }\n",
       "</style>\n",
       "<table border=\"1\" class=\"dataframe\">\n",
       "  <thead>\n",
       "    <tr style=\"text-align: right;\">\n",
       "      <th></th>\n",
       "      <th>area</th>\n",
       "      <th>bedrooms</th>\n",
       "      <th>bathrooms</th>\n",
       "      <th>stories</th>\n",
       "      <th>parking</th>\n",
       "      <th>price</th>\n",
       "    </tr>\n",
       "  </thead>\n",
       "  <tbody>\n",
       "    <tr>\n",
       "      <th>454</th>\n",
       "      <td>4500</td>\n",
       "      <td>3</td>\n",
       "      <td>1</td>\n",
       "      <td>2</td>\n",
       "      <td>0</td>\n",
       "      <td>3143000</td>\n",
       "    </tr>\n",
       "    <tr>\n",
       "      <th>392</th>\n",
       "      <td>3990</td>\n",
       "      <td>3</td>\n",
       "      <td>1</td>\n",
       "      <td>2</td>\n",
       "      <td>0</td>\n",
       "      <td>3500000</td>\n",
       "    </tr>\n",
       "    <tr>\n",
       "      <th>231</th>\n",
       "      <td>4320</td>\n",
       "      <td>3</td>\n",
       "      <td>1</td>\n",
       "      <td>1</td>\n",
       "      <td>0</td>\n",
       "      <td>4690000</td>\n",
       "    </tr>\n",
       "    <tr>\n",
       "      <th>271</th>\n",
       "      <td>1905</td>\n",
       "      <td>5</td>\n",
       "      <td>1</td>\n",
       "      <td>2</td>\n",
       "      <td>0</td>\n",
       "      <td>4340000</td>\n",
       "    </tr>\n",
       "    <tr>\n",
       "      <th>250</th>\n",
       "      <td>3510</td>\n",
       "      <td>3</td>\n",
       "      <td>1</td>\n",
       "      <td>3</td>\n",
       "      <td>0</td>\n",
       "      <td>4515000</td>\n",
       "    </tr>\n",
       "  </tbody>\n",
       "</table>\n",
       "</div>"
      ],
      "text/plain": [
       "     area  bedrooms  bathrooms  stories  parking    price\n",
       "454  4500         3          1        2        0  3143000\n",
       "392  3990         3          1        2        0  3500000\n",
       "231  4320         3          1        1        0  4690000\n",
       "271  1905         5          1        2        0  4340000\n",
       "250  3510         3          1        3        0  4515000"
      ]
     },
     "execution_count": 34,
     "metadata": {},
     "output_type": "execute_result"
    }
   ],
   "source": [
    "num_vars = ['area', 'bedrooms', 'bathrooms', 'stories', 'parking', 'price']\n",
    "df_Newtrain = df_train[num_vars]\n",
    "df_Newtest = df_test[num_vars]\n",
    "df_Newtrain.head()\n",
    "# df_Newtest.head()"
   ]
  },
  {
   "cell_type": "code",
   "execution_count": 35,
   "id": "b937ce8e-aded-403a-b0e3-0d6a81b522f4",
   "metadata": {},
   "outputs": [
    {
     "data": {
      "text/html": [
       "<div>\n",
       "<style scoped>\n",
       "    .dataframe tbody tr th:only-of-type {\n",
       "        vertical-align: middle;\n",
       "    }\n",
       "\n",
       "    .dataframe tbody tr th {\n",
       "        vertical-align: top;\n",
       "    }\n",
       "\n",
       "    .dataframe thead th {\n",
       "        text-align: right;\n",
       "    }\n",
       "</style>\n",
       "<table border=\"1\" class=\"dataframe\">\n",
       "  <thead>\n",
       "    <tr style=\"text-align: right;\">\n",
       "      <th></th>\n",
       "      <th>area</th>\n",
       "      <th>bedrooms</th>\n",
       "      <th>bathrooms</th>\n",
       "      <th>stories</th>\n",
       "      <th>parking</th>\n",
       "      <th>price</th>\n",
       "    </tr>\n",
       "  </thead>\n",
       "  <tbody>\n",
       "    <tr>\n",
       "      <th>454</th>\n",
       "      <td>0.193548</td>\n",
       "      <td>0.50</td>\n",
       "      <td>0.0</td>\n",
       "      <td>0.333333</td>\n",
       "      <td>0.000000</td>\n",
       "      <td>0.120606</td>\n",
       "    </tr>\n",
       "    <tr>\n",
       "      <th>392</th>\n",
       "      <td>0.156495</td>\n",
       "      <td>0.50</td>\n",
       "      <td>0.0</td>\n",
       "      <td>0.333333</td>\n",
       "      <td>0.000000</td>\n",
       "      <td>0.151515</td>\n",
       "    </tr>\n",
       "    <tr>\n",
       "      <th>231</th>\n",
       "      <td>0.180471</td>\n",
       "      <td>0.50</td>\n",
       "      <td>0.0</td>\n",
       "      <td>0.000000</td>\n",
       "      <td>0.000000</td>\n",
       "      <td>0.254545</td>\n",
       "    </tr>\n",
       "    <tr>\n",
       "      <th>271</th>\n",
       "      <td>0.005013</td>\n",
       "      <td>1.00</td>\n",
       "      <td>0.0</td>\n",
       "      <td>0.333333</td>\n",
       "      <td>0.000000</td>\n",
       "      <td>0.224242</td>\n",
       "    </tr>\n",
       "    <tr>\n",
       "      <th>250</th>\n",
       "      <td>0.121622</td>\n",
       "      <td>0.50</td>\n",
       "      <td>0.0</td>\n",
       "      <td>0.666667</td>\n",
       "      <td>0.000000</td>\n",
       "      <td>0.239394</td>\n",
       "    </tr>\n",
       "    <tr>\n",
       "      <th>541</th>\n",
       "      <td>0.040976</td>\n",
       "      <td>0.50</td>\n",
       "      <td>0.0</td>\n",
       "      <td>0.000000</td>\n",
       "      <td>0.000000</td>\n",
       "      <td>0.001485</td>\n",
       "    </tr>\n",
       "    <tr>\n",
       "      <th>461</th>\n",
       "      <td>0.226969</td>\n",
       "      <td>0.25</td>\n",
       "      <td>0.0</td>\n",
       "      <td>0.000000</td>\n",
       "      <td>0.000000</td>\n",
       "      <td>0.115152</td>\n",
       "    </tr>\n",
       "    <tr>\n",
       "      <th>124</th>\n",
       "      <td>0.340671</td>\n",
       "      <td>0.50</td>\n",
       "      <td>0.5</td>\n",
       "      <td>1.000000</td>\n",
       "      <td>0.333333</td>\n",
       "      <td>0.363636</td>\n",
       "    </tr>\n",
       "    <tr>\n",
       "      <th>154</th>\n",
       "      <td>0.131793</td>\n",
       "      <td>0.50</td>\n",
       "      <td>0.5</td>\n",
       "      <td>0.333333</td>\n",
       "      <td>0.666667</td>\n",
       "      <td>0.327273</td>\n",
       "    </tr>\n",
       "    <tr>\n",
       "      <th>451</th>\n",
       "      <td>0.357018</td>\n",
       "      <td>0.25</td>\n",
       "      <td>0.0</td>\n",
       "      <td>0.000000</td>\n",
       "      <td>0.000000</td>\n",
       "      <td>0.121212</td>\n",
       "    </tr>\n",
       "    <tr>\n",
       "      <th>59</th>\n",
       "      <td>0.302528</td>\n",
       "      <td>0.50</td>\n",
       "      <td>0.5</td>\n",
       "      <td>1.000000</td>\n",
       "      <td>0.333333</td>\n",
       "      <td>0.472727</td>\n",
       "    </tr>\n",
       "    <tr>\n",
       "      <th>493</th>\n",
       "      <td>0.154316</td>\n",
       "      <td>0.50</td>\n",
       "      <td>0.0</td>\n",
       "      <td>0.000000</td>\n",
       "      <td>0.000000</td>\n",
       "      <td>0.090909</td>\n",
       "    </tr>\n",
       "    <tr>\n",
       "      <th>465</th>\n",
       "      <td>0.142691</td>\n",
       "      <td>0.25</td>\n",
       "      <td>0.0</td>\n",
       "      <td>0.000000</td>\n",
       "      <td>0.000000</td>\n",
       "      <td>0.112121</td>\n",
       "    </tr>\n",
       "    <tr>\n",
       "      <th>490</th>\n",
       "      <td>0.182650</td>\n",
       "      <td>0.50</td>\n",
       "      <td>0.0</td>\n",
       "      <td>0.333333</td>\n",
       "      <td>0.333333</td>\n",
       "      <td>0.093939</td>\n",
       "    </tr>\n",
       "    <tr>\n",
       "      <th>540</th>\n",
       "      <td>0.084568</td>\n",
       "      <td>0.25</td>\n",
       "      <td>0.0</td>\n",
       "      <td>0.000000</td>\n",
       "      <td>0.666667</td>\n",
       "      <td>0.006061</td>\n",
       "    </tr>\n",
       "    <tr>\n",
       "      <th>406</th>\n",
       "      <td>0.253124</td>\n",
       "      <td>0.25</td>\n",
       "      <td>0.0</td>\n",
       "      <td>0.000000</td>\n",
       "      <td>0.333333</td>\n",
       "      <td>0.148485</td>\n",
       "    </tr>\n",
       "    <tr>\n",
       "      <th>289</th>\n",
       "      <td>0.291630</td>\n",
       "      <td>0.25</td>\n",
       "      <td>0.0</td>\n",
       "      <td>0.000000</td>\n",
       "      <td>0.666667</td>\n",
       "      <td>0.212121</td>\n",
       "    </tr>\n",
       "    <tr>\n",
       "      <th>190</th>\n",
       "      <td>0.418774</td>\n",
       "      <td>0.75</td>\n",
       "      <td>0.0</td>\n",
       "      <td>0.333333</td>\n",
       "      <td>0.666667</td>\n",
       "      <td>0.284848</td>\n",
       "    </tr>\n",
       "    <tr>\n",
       "      <th>55</th>\n",
       "      <td>0.302528</td>\n",
       "      <td>0.50</td>\n",
       "      <td>0.0</td>\n",
       "      <td>0.333333</td>\n",
       "      <td>0.333333</td>\n",
       "      <td>0.484848</td>\n",
       "    </tr>\n",
       "    <tr>\n",
       "      <th>171</th>\n",
       "      <td>0.612685</td>\n",
       "      <td>0.50</td>\n",
       "      <td>0.0</td>\n",
       "      <td>0.000000</td>\n",
       "      <td>0.333333</td>\n",
       "      <td>0.303030</td>\n",
       "    </tr>\n",
       "  </tbody>\n",
       "</table>\n",
       "</div>"
      ],
      "text/plain": [
       "         area  bedrooms  bathrooms   stories   parking     price\n",
       "454  0.193548      0.50        0.0  0.333333  0.000000  0.120606\n",
       "392  0.156495      0.50        0.0  0.333333  0.000000  0.151515\n",
       "231  0.180471      0.50        0.0  0.000000  0.000000  0.254545\n",
       "271  0.005013      1.00        0.0  0.333333  0.000000  0.224242\n",
       "250  0.121622      0.50        0.0  0.666667  0.000000  0.239394\n",
       "541  0.040976      0.50        0.0  0.000000  0.000000  0.001485\n",
       "461  0.226969      0.25        0.0  0.000000  0.000000  0.115152\n",
       "124  0.340671      0.50        0.5  1.000000  0.333333  0.363636\n",
       "154  0.131793      0.50        0.5  0.333333  0.666667  0.327273\n",
       "451  0.357018      0.25        0.0  0.000000  0.000000  0.121212\n",
       "59   0.302528      0.50        0.5  1.000000  0.333333  0.472727\n",
       "493  0.154316      0.50        0.0  0.000000  0.000000  0.090909\n",
       "465  0.142691      0.25        0.0  0.000000  0.000000  0.112121\n",
       "490  0.182650      0.50        0.0  0.333333  0.333333  0.093939\n",
       "540  0.084568      0.25        0.0  0.000000  0.666667  0.006061\n",
       "406  0.253124      0.25        0.0  0.000000  0.333333  0.148485\n",
       "289  0.291630      0.25        0.0  0.000000  0.666667  0.212121\n",
       "190  0.418774      0.75        0.0  0.333333  0.666667  0.284848\n",
       "55   0.302528      0.50        0.0  0.333333  0.333333  0.484848\n",
       "171  0.612685      0.50        0.0  0.000000  0.333333  0.303030"
      ]
     },
     "execution_count": 35,
     "metadata": {},
     "output_type": "execute_result"
    }
   ],
   "source": [
    "import warnings\n",
    "warnings.filterwarnings('ignore')\n",
    "\n",
    "from sklearn.preprocessing import MinMaxScaler, StandardScaler\n",
    "\n",
    "scaler = MinMaxScaler()\n",
    "df_Newtrain[num_vars] = scaler.fit_transform(df_Newtrain[num_vars])\n",
    "df_Newtest[num_vars] = scaler.fit_transform(df_Newtest[num_vars])\n",
    "df_Newtrain.head(20)"
   ]
  },
  {
   "cell_type": "code",
   "execution_count": 36,
   "id": "3372bdcc-8e84-46b5-b825-be787c752538",
   "metadata": {},
   "outputs": [
    {
     "data": {
      "text/plain": [
       "(381, 6)"
      ]
     },
     "execution_count": 36,
     "metadata": {},
     "output_type": "execute_result"
    }
   ],
   "source": [
    "df_Newtrain.shape"
   ]
  },
  {
   "cell_type": "code",
   "execution_count": 37,
   "id": "2d7c6745-4bf0-423b-8170-e6a1f134a011",
   "metadata": {},
   "outputs": [
    {
     "data": {
      "text/plain": [
       "(164, 6)"
      ]
     },
     "execution_count": 37,
     "metadata": {},
     "output_type": "execute_result"
    }
   ],
   "source": [
    "df_Newtest.shape"
   ]
  },
  {
   "cell_type": "code",
   "execution_count": 38,
   "id": "7a78e106-46fd-4d49-bb2b-5ebbee8ad7c5",
   "metadata": {},
   "outputs": [
    {
     "data": {
      "text/plain": [
       "array([0., 0., 0., 0., 0., 0.])"
      ]
     },
     "execution_count": 38,
     "metadata": {},
     "output_type": "execute_result"
    }
   ],
   "source": [
    "theta = np.zeros(6)\n",
    "theta"
   ]
  },
  {
   "cell_type": "code",
   "execution_count": 39,
   "id": "3ea65d74-43f2-46c9-817b-b12059c4c8cc",
   "metadata": {},
   "outputs": [],
   "source": [
    "area_train = df_Newtrain.values[:, 0]\n",
    "bedrooms_train = df_Newtrain.values[:, 1]\n",
    "bathrooms_train = df_Newtrain.values[:, 2]\n",
    "stories_train = df_Newtrain.values[:, 3]\n",
    "parking_train = df_Newtrain.values[:, 4]\n",
    "price_train = df_Newtrain.values[:, 5]"
   ]
  },
  {
   "cell_type": "code",
   "execution_count": 40,
   "id": "8196b44e-f3f9-4c97-b4b8-a7885ce390f4",
   "metadata": {},
   "outputs": [
    {
     "data": {
      "text/plain": [
       "array([[0.],\n",
       "       [0.],\n",
       "       [0.],\n",
       "       [0.],\n",
       "       [0.]])"
      ]
     },
     "execution_count": 40,
     "metadata": {},
     "output_type": "execute_result"
    }
   ],
   "source": [
    "x_0 = np.ones((381, 1)) # creating matrix with column of ones\n",
    "area_train1 = area_train.reshape(381,1)\n",
    "area_train1[:5]\n",
    "\n",
    "x_0 = np.ones((381, 1)) # creating matrix with column of ones\n",
    "bedrooms_train1 = bedrooms_train.reshape(381,1)\n",
    "bedrooms_train1[:5]\n",
    "\n",
    "x_0 = np.ones((381, 1)) # creating matrix with column of ones\n",
    "bathrooms_train1 = bathrooms_train.reshape(381,1)\n",
    "bathrooms_train1[:5]\n",
    "\n",
    "x_0 = np.ones((381, 1)) # creating matrix with column of ones\n",
    "stories_train1 = stories_train.reshape(381,1)\n",
    "stories_train1[:5]\n",
    "\n",
    "x_0 = np.ones((381, 1)) # creating matrix with column of ones\n",
    "parking_train1 = parking_train.reshape(381,1)\n",
    "parking_train1[:5]"
   ]
  },
  {
   "cell_type": "code",
   "execution_count": 41,
   "id": "8380e53e-3034-4b6c-91cb-c5d3e2248b5a",
   "metadata": {},
   "outputs": [],
   "source": [
    "iterations = 1500;\n",
    "alpha = .003;"
   ]
  },
  {
   "cell_type": "code",
   "execution_count": 42,
   "id": "8e59e50d-2d7b-4e8b-a8e2-7d7915abab8b",
   "metadata": {},
   "outputs": [
    {
     "data": {
      "text/plain": [
       "array([[1.        , 0.19354839, 0.5       , 0.        , 0.33333333,\n",
       "        0.        ],\n",
       "       [1.        , 0.1564952 , 0.5       , 0.        , 0.33333333,\n",
       "        0.        ]])"
      ]
     },
     "execution_count": 42,
     "metadata": {},
     "output_type": "execute_result"
    }
   ],
   "source": [
    "X = np.hstack((x_0,area_train1,bedrooms_train1,bathrooms_train1,stories_train1,parking_train1))\n",
    "X[:2]"
   ]
  },
  {
   "cell_type": "code",
   "execution_count": 43,
   "id": "ae26afe8-6d6a-43fc-b807-eaa7526a9698",
   "metadata": {},
   "outputs": [
    {
     "name": "stdout",
     "output_type": "stream",
     "text": [
      "The cost for given values of theta_0 and theta_1 = 0.033043906990303365\n"
     ]
    }
   ],
   "source": [
    "cost = compute_cost(X, price_train, theta)\n",
    "print('The cost for given values of theta_0 and theta_1 =', cost)"
   ]
  },
  {
   "cell_type": "code",
   "execution_count": 44,
   "id": "17d11d87-59d6-4d8e-bd7d-032aeef1b948",
   "metadata": {},
   "outputs": [],
   "source": [
    "area_test = df_Newtest.values[:, 0]\n",
    "bedrooms_test = df_Newtest.values[:, 1]\n",
    "bathrooms_test = df_Newtest.values[:, 2]\n",
    "stories_test = df_Newtest.values[:, 3]\n",
    "parking_test = df_Newtest.values[:, 4]\n",
    "price_test = df_Newtest.values[:, 5]"
   ]
  },
  {
   "cell_type": "code",
   "execution_count": 45,
   "id": "02497fbd-997d-4d98-bf4f-535df77479a6",
   "metadata": {},
   "outputs": [
    {
     "data": {
      "text/plain": [
       "array([[0.33333333],\n",
       "       [0.66666667],\n",
       "       [0.        ],\n",
       "       [0.33333333],\n",
       "       [0.        ]])"
      ]
     },
     "execution_count": 45,
     "metadata": {},
     "output_type": "execute_result"
    }
   ],
   "source": [
    "x_0 = np.ones((164, 1)) # creating matrix with column of ones\n",
    "area_test1 = area_test.reshape(164,1)\n",
    "area_test1[:5]\n",
    "\n",
    "x_0 = np.ones((164, 1)) # creating matrix with column of ones\n",
    "bedrooms_test1 = bedrooms_test.reshape(164,1)\n",
    "bedrooms_test1[:5]\n",
    "\n",
    "x_0 = np.ones((164, 1)) # creating matrix with column of ones\n",
    "bathrooms_test1 = bathrooms_test.reshape(164,1)\n",
    "bathrooms_test1[:5]\n",
    "\n",
    "x_0 = np.ones((164, 1)) # creating matrix with column of ones\n",
    "stories_test1 = stories_test.reshape(164,1)\n",
    "stories_test1[:5]\n",
    "\n",
    "x_0 = np.ones((164, 1)) # creating matrix with column of ones\n",
    "parking_test1 = parking_test.reshape(164,1)\n",
    "parking_test1[:5]"
   ]
  },
  {
   "cell_type": "code",
   "execution_count": 46,
   "id": "48668cec-b4df-4ce0-813b-4a517b16aa94",
   "metadata": {},
   "outputs": [
    {
     "data": {
      "text/plain": [
       "array([[1.        , 0.19354839, 0.5       , 0.        , 0.33333333,\n",
       "        0.        ],\n",
       "       [1.        , 0.1564952 , 0.5       , 0.        , 0.33333333,\n",
       "        0.        ]])"
      ]
     },
     "execution_count": 46,
     "metadata": {},
     "output_type": "execute_result"
    }
   ],
   "source": [
    "X2 = np.hstack((x_0,area_test1,bedrooms_test1,bathrooms_test1,stories_test1,parking_test1))\n",
    "X[:2]"
   ]
  },
  {
   "cell_type": "code",
   "execution_count": 47,
   "id": "37212511-f494-4cbc-9a38-3e6d04f659eb",
   "metadata": {},
   "outputs": [
    {
     "name": "stdout",
     "output_type": "stream",
     "text": [
      "The cost for given values of theta_0 and theta_1 = 0.0171269875637105\n"
     ]
    }
   ],
   "source": [
    "cost = compute_cost(X2, price_test, theta)\n",
    "print('The cost for given values of theta_0 and theta_1 =', cost)"
   ]
  },
  {
   "cell_type": "code",
   "execution_count": 48,
   "id": "99abd380-127d-4b6b-b804-45cce8188266",
   "metadata": {},
   "outputs": [
    {
     "name": "stdout",
     "output_type": "stream",
     "text": [
      "Final value of theta =  [0.14839782 0.07602077 0.09709894 0.07707851 0.08789661 0.08002601]\n",
      "cost_history =  [0.03281313 0.03258438 0.03235763 ... 0.0058944  0.00589392 0.00589344]\n",
      "cost_history2 =  [0.01702159 0.01691706 0.01681338 ... 0.00309711 0.00309682 0.00309653]\n"
     ]
    }
   ],
   "source": [
    "theta, cost_history1, cost_history2 = gradient_descent(X, X2, price_train, price_test, theta, alpha, iterations)\n",
    "print('Final value of theta = ', theta)\n",
    "print('cost_history = ', cost_history1)\n",
    "print('cost_history2 = ', cost_history2)"
   ]
  },
  {
   "cell_type": "code",
   "execution_count": 49,
   "id": "39cd3c79-9748-4ef5-b04e-694d3d035280",
   "metadata": {},
   "outputs": [
    {
     "data": {
      "text/plain": [
       "Text(0.5, 1.0, 'Convergence of gradient descent for eleven inputs')"
      ]
     },
     "execution_count": 49,
     "metadata": {},
     "output_type": "execute_result"
    },
    {
     "data": {
      "image/png": "[encoded data removed]",
      "text/plain": [
       "<Figure size 720x432 with 1 Axes>"
      ]
     },
     "metadata": {
      "needs_background": "light"
     },
     "output_type": "display_data"
    }
   ],
   "source": [
    "plt.plot(range(1, iterations + 1),cost_history1, color='blue') # plotting loss function for all three inputs merged\n",
    "plt.plot(range(1, iterations + 1),cost_history2, color='red') # plotting loss function for all three inputs merged\n",
    "plt.rcParams[\"figure.figsize\"] = (10,6)\n",
    "plt.grid()\n",
    "plt.xlabel('Number of iterations')\n",
    "plt.ylabel('Cost (J)')\n",
    "plt.title('Convergence of gradient descent for Problem 2.a Normalization')"
   ]
  },
  {
   "cell_type": "code",
   "execution_count": 50,
   "id": "7f07031c-07e5-421b-8fcf-1381a1200783",
   "metadata": {},
   "outputs": [],
   "source": [
    "#Standardization of Data"
   ]
  },
  {
   "cell_type": "code",
   "execution_count": null,
   "id": "0ca2441b-2c8d-49fa-8c52-1de05f2b63b7",
   "metadata": {},
   "outputs": [],
   "source": []
  },
  {
   "cell_type": "code",
   "execution_count": null,
   "id": "1e4c1328-62f2-44f0-931f-014352ab1ea5",
   "metadata": {},
   "outputs": [],
   "source": []
  },
  {
   "cell_type": "code",
   "execution_count": null,
   "id": "6a416a53-ade5-409e-8ade-dfcdfc8c85de",
   "metadata": {},
   "outputs": [],
   "source": []
  },
  {
   "cell_type": "code",
   "execution_count": null,
   "id": "1c3b212d-63b2-4ca0-9206-b4992cca76b0",
   "metadata": {},
   "outputs": [],
   "source": []
  },
  {
   "cell_type": "code",
   "execution_count": 51,
   "id": "359bd782-aa87-4053-a79d-6024307aa239",
   "metadata": {},
   "outputs": [
    {
     "data": {
      "text/plain": [
       "array([0., 0., 0., 0., 0., 0.])"
      ]
     },
     "execution_count": 51,
     "metadata": {},
     "output_type": "execute_result"
    }
   ],
   "source": [
    "theta = np.zeros(6)\n",
    "theta"
   ]
  },
  {
   "cell_type": "code",
   "execution_count": 52,
   "id": "4b92466a-1a9c-4486-8123-6b65c0eb74e7",
   "metadata": {},
   "outputs": [],
   "source": [
    "num_vars = ['area', 'bedrooms', 'bathrooms', 'stories', 'parking', 'price']\n",
    "df_Newtrain = df_train[num_vars]\n",
    "df_Newtest = df_test[num_vars]\n",
    "# df_Newtrain.head()\n",
    "# df_Newtest.head()"
   ]
  },
  {
   "cell_type": "code",
   "execution_count": 53,
   "id": "0a0df1e3-1d56-4790-8925-15d7662f0f54",
   "metadata": {},
   "outputs": [],
   "source": [
    "import warnings\n",
    "warnings.filterwarnings('ignore')\n",
    "\n",
    "from sklearn.preprocessing import MinMaxScaler, StandardScaler\n",
    "\n",
    "scaler = StandardScaler()\n",
    "df_Newtrain[num_vars] = scaler.fit_transform(df_Newtrain[num_vars])\n",
    "df_Newtest[num_vars] = scaler.fit_transform(df_Newtest[num_vars])\n",
    "# df_Newtrain.head(20)"
   ]
  },
  {
   "cell_type": "code",
   "execution_count": 54,
   "id": "774f12de-5717-44c8-9aa2-4c2fe3e298f4",
   "metadata": {},
   "outputs": [],
   "source": [
    "area_train = df_Newtrain.values[:, 0]\n",
    "bedrooms_train = df_Newtrain.values[:, 1]\n",
    "bathrooms_train = df_Newtrain.values[:, 2]\n",
    "stories_train = df_Newtrain.values[:, 3]\n",
    "parking_train = df_Newtrain.values[:, 4]\n",
    "price_train = df_Newtrain.values[:, 5]"
   ]
  },
  {
   "cell_type": "code",
   "execution_count": 55,
   "id": "01284c5f-cc68-4eea-b1f7-0d1dc21d75f6",
   "metadata": {},
   "outputs": [
    {
     "data": {
      "text/plain": [
       "array([[-0.82296013],\n",
       "       [-0.82296013],\n",
       "       [-0.82296013],\n",
       "       [-0.82296013],\n",
       "       [-0.82296013]])"
      ]
     },
     "execution_count": 55,
     "metadata": {},
     "output_type": "execute_result"
    }
   ],
   "source": [
    "x_0 = np.ones((381, 1)) # creating matrix with column of ones\n",
    "area_train1 = area_train.reshape(381,1)\n",
    "area_train1[:5]\n",
    "\n",
    "x_0 = np.ones((381, 1)) # creating matrix with column of ones\n",
    "bedrooms_train1 = bedrooms_train.reshape(381,1)\n",
    "bedrooms_train1[:5]\n",
    "\n",
    "x_0 = np.ones((381, 1)) # creating matrix with column of ones\n",
    "bathrooms_train1 = bathrooms_train.reshape(381,1)\n",
    "bathrooms_train1[:5]\n",
    "\n",
    "x_0 = np.ones((381, 1)) # creating matrix with column of ones\n",
    "stories_train1 = stories_train.reshape(381,1)\n",
    "stories_train1[:5]\n",
    "\n",
    "x_0 = np.ones((381, 1)) # creating matrix with column of ones\n",
    "parking_train1 = parking_train.reshape(381,1)\n",
    "parking_train1[:5]"
   ]
  },
  {
   "cell_type": "code",
   "execution_count": 56,
   "id": "e53d82ee-d02a-4772-bd86-829ed7e5b9e1",
   "metadata": {},
   "outputs": [],
   "source": [
    "\n",
    "iterations = 1500;\n",
    "alpha = .003;"
   ]
  },
  {
   "cell_type": "code",
   "execution_count": 57,
   "id": "e59b9dbe-a84b-473a-bffc-2a297d6609cf",
   "metadata": {},
   "outputs": [],
   "source": [
    "def compute_cost(X, y, theta): # computing cost for theta\n",
    "    predictions = X.dot(theta)\n",
    "    errors = np.subtract(predictions, y)\n",
    "    sqrErrors = np.square(errors)\n",
    "    j = 1 / (2 * 381) * np.sum(sqrErrors) \n",
    "    \n",
    "    return j"
   ]
  },
  {
   "cell_type": "code",
   "execution_count": 58,
   "id": "19c21ae4-8cfc-4e8d-b600-1fe64012d633",
   "metadata": {},
   "outputs": [
    {
     "data": {
      "text/plain": [
       "array([[1.        , 0.19354839, 0.5       , 0.        , 0.33333333,\n",
       "        0.        ],\n",
       "       [1.        , 0.1564952 , 0.5       , 0.        , 0.33333333,\n",
       "        0.        ]])"
      ]
     },
     "execution_count": 58,
     "metadata": {},
     "output_type": "execute_result"
    }
   ],
   "source": [
    "X3 = np.hstack((x_0,area_train1,bedrooms_train1,bathrooms_train1,stories_train1,parking_train1))\n",
    "X[:2]"
   ]
  },
  {
   "cell_type": "code",
   "execution_count": 59,
   "id": "6715ae93-fd25-4339-9b88-8315230f5792",
   "metadata": {},
   "outputs": [
    {
     "name": "stdout",
     "output_type": "stream",
     "text": [
      "The cost for given values of theta_0 and theta_1 = 0.5\n"
     ]
    }
   ],
   "source": [
    "cost = compute_cost(X3, price_train, theta)\n",
    "print('The cost for given values of theta_0 and theta_1 =', cost)"
   ]
  },
  {
   "cell_type": "code",
   "execution_count": 60,
   "id": "84b1a84b-e3b3-4584-b24f-689a3d5bc5aa",
   "metadata": {},
   "outputs": [
    {
     "data": {
      "text/plain": [
       "array([0., 0., 0., 0., 0., 0.])"
      ]
     },
     "execution_count": 60,
     "metadata": {},
     "output_type": "execute_result"
    }
   ],
   "source": [
    "theta = np.zeros(6)\n",
    "theta"
   ]
  },
  {
   "cell_type": "code",
   "execution_count": 61,
   "id": "5540fc54-8f3a-431b-920c-994d5ee7f3e7",
   "metadata": {},
   "outputs": [],
   "source": [
    "area_test = df_Newtest.values[:, 0]\n",
    "bedrooms_test = df_Newtest.values[:, 1]\n",
    "bathrooms_test = df_Newtest.values[:, 2]\n",
    "stories_test = df_Newtest.values[:, 3]\n",
    "parking_test = df_Newtest.values[:, 4]\n",
    "price_test = df_Newtest.values[:, 5]"
   ]
  },
  {
   "cell_type": "code",
   "execution_count": 62,
   "id": "33c34480-db1e-4a50-9cd6-dd6ab4742be0",
   "metadata": {},
   "outputs": [
    {
     "data": {
      "text/plain": [
       "array([[ 0.44261462],\n",
       "       [ 1.65242793],\n",
       "       [-0.76719868],\n",
       "       [ 0.44261462],\n",
       "       [-0.76719868]])"
      ]
     },
     "execution_count": 62,
     "metadata": {},
     "output_type": "execute_result"
    }
   ],
   "source": [
    "x_0 = np.ones((164, 1)) # creating matrix with column of ones\n",
    "area_test1 = area_test.reshape(164,1)\n",
    "area_test1[:5]\n",
    "\n",
    "x_0 = np.ones((164, 1)) # creating matrix with column of ones\n",
    "bedrooms_test1 = bedrooms_test.reshape(164,1)\n",
    "bedrooms_test1[:5]\n",
    "\n",
    "x_0 = np.ones((164, 1)) # creating matrix with column of ones\n",
    "bathrooms_test1 = bathrooms_test.reshape(164,1)\n",
    "bathrooms_test1[:5]\n",
    "\n",
    "x_0 = np.ones((164, 1)) # creating matrix with column of ones\n",
    "stories_test1 = stories_test.reshape(164,1)\n",
    "stories_test1[:5]\n",
    "\n",
    "x_0 = np.ones((164, 1)) # creating matrix with column of ones\n",
    "parking_test1 = parking_test.reshape(164,1)\n",
    "parking_test1[:5]"
   ]
  },
  {
   "cell_type": "code",
   "execution_count": 63,
   "id": "7ce55b02-f5e8-40c5-97e3-53b4cdd5bed1",
   "metadata": {},
   "outputs": [
    {
     "data": {
      "text/plain": [
       "array([[1.        , 0.19354839, 0.5       , 0.        , 0.33333333,\n",
       "        0.        ],\n",
       "       [1.        , 0.1564952 , 0.5       , 0.        , 0.33333333,\n",
       "        0.        ]])"
      ]
     },
     "execution_count": 63,
     "metadata": {},
     "output_type": "execute_result"
    }
   ],
   "source": [
    "X4 = np.hstack((x_0,area_test1,bedrooms_test1,bathrooms_test1,stories_test1,parking_test1))\n",
    "X[:2]"
   ]
  },
  {
   "cell_type": "code",
   "execution_count": 64,
   "id": "35067e5b-9a1f-4989-84f5-78b6e74e6ee6",
   "metadata": {},
   "outputs": [
    {
     "name": "stdout",
     "output_type": "stream",
     "text": [
      "The cost for given values of theta_0 and theta_1 = 0.2152230971128609\n"
     ]
    }
   ],
   "source": [
    "cost = compute_cost(X4, price_test, theta)\n",
    "print('The cost for given values of theta_0 and theta_1 =', cost)"
   ]
  },
  {
   "cell_type": "code",
   "execution_count": 65,
   "id": "3486c8fb-5b2a-492d-b45d-3da87daa57fd",
   "metadata": {},
   "outputs": [
    {
     "name": "stdout",
     "output_type": "stream",
     "text": [
      "Final value of theta =  [1.68338659e-16 3.77095804e-01 1.12385602e-01 2.93284379e-01\n",
      " 2.31610317e-01 1.55355656e-01]\n",
      "cost_history =  [0.49722024 0.4944707  0.49175106 ... 0.2358141  0.23581389 0.23581368]\n",
      "cost_history2 =  [0.21384633 0.21248423 0.21113661 ... 0.07738813 0.07738756 0.077387  ]\n"
     ]
    }
   ],
   "source": [
    "theta, cost_history1, cost_history2 = gradient_descent(X3, X4, price_train, price_test, theta, alpha, iterations)\n",
    "print('Final value of theta = ', theta)\n",
    "print('cost_history = ', cost_history1)\n",
    "print('cost_history2 = ', cost_history2)"
   ]
  },
  {
   "cell_type": "code",
   "execution_count": 66,
   "id": "0d25d87a-9727-4210-87d7-142779b5e4ef",
   "metadata": {},
   "outputs": [
    {
     "data": {
      "text/plain": [
       "Text(0.5, 1.0, 'Convergence of gradient descent for eleven inputs')"
      ]
     },
     "execution_count": 66,
     "metadata": {},
     "output_type": "execute_result"
    },
    {
     "data": {
      "image/png": "[encoded data removed]",
      "text/plain": [
       "<Figure size 720x432 with 1 Axes>"
      ]
     },
     "metadata": {
      "needs_background": "light"
     },
     "output_type": "display_data"
    }
   ],
   "source": [
    "plt.plot(range(1, iterations + 1),cost_history1, color='blue') # plotting loss function for all three inputs merged\n",
    "plt.plot(range(1, iterations + 1),cost_history2, color='red') # plotting loss function for all three inputs merged\n",
    "plt.rcParams[\"figure.figsize\"] = (10,6)\n",
    "plt.grid()\n",
    "plt.xlabel('Number of iterations')\n",
    "plt.ylabel('Cost (J)')\n",
    "plt.title('Convergence of gradient descent for Problem 2.a Standardization')"
   ]
  },
  {
   "cell_type": "code",
   "execution_count": 67,
   "id": "f8ca67a1-7f0e-470a-9ff4-5779bca19ca1",
   "metadata": {},
   "outputs": [],
   "source": [
    "#At the exact same aplpha, the costs have similar end values but standardization has a better starting value therefore it is better in this case"
   ]
  },
  {
   "cell_type": "code",
   "execution_count": 68,
   "id": "05893235-065a-4db8-9d50-c0c8d0681725",
   "metadata": {},
   "outputs": [],
   "source": [
    "#Problem 2.b"
   ]
  },
  {
   "cell_type": "code",
   "execution_count": null,
   "id": "b7c20557-ae93-4bc7-82b7-cd8b618184bb",
   "metadata": {},
   "outputs": [],
   "source": []
  },
  {
   "cell_type": "code",
   "execution_count": null,
   "id": "58ac77af-3857-4c18-9f6d-95dbca485df1",
   "metadata": {},
   "outputs": [],
   "source": []
  },
  {
   "cell_type": "code",
   "execution_count": null,
   "id": "6d7ef8dc-b57a-4f95-bb70-1269f6a5c0ab",
   "metadata": {},
   "outputs": [],
   "source": []
  },
  {
   "cell_type": "code",
   "execution_count": null,
   "id": "de83d2e2-7aa8-4224-8bb2-da373947ff43",
   "metadata": {},
   "outputs": [],
   "source": []
  },
  {
   "cell_type": "code",
   "execution_count": 69,
   "id": "3ae31cb0-4ca7-4935-8055-30fc924ae752",
   "metadata": {},
   "outputs": [
    {
     "data": {
      "text/html": [
       "<div>\n",
       "<style scoped>\n",
       "    .dataframe tbody tr th:only-of-type {\n",
       "        vertical-align: middle;\n",
       "    }\n",
       "\n",
       "    .dataframe tbody tr th {\n",
       "        vertical-align: top;\n",
       "    }\n",
       "\n",
       "    .dataframe thead th {\n",
       "        text-align: right;\n",
       "    }\n",
       "</style>\n",
       "<table border=\"1\" class=\"dataframe\">\n",
       "  <thead>\n",
       "    <tr style=\"text-align: right;\">\n",
       "      <th></th>\n",
       "      <th>area</th>\n",
       "      <th>bedrooms</th>\n",
       "      <th>bathrooms</th>\n",
       "      <th>stories</th>\n",
       "      <th>parking</th>\n",
       "      <th>price</th>\n",
       "      <th>mainroad</th>\n",
       "      <th>guestroom</th>\n",
       "      <th>basement</th>\n",
       "      <th>hotwaterheating</th>\n",
       "      <th>airconditioning</th>\n",
       "      <th>prefarea</th>\n",
       "    </tr>\n",
       "  </thead>\n",
       "  <tbody>\n",
       "    <tr>\n",
       "      <th>454</th>\n",
       "      <td>4500</td>\n",
       "      <td>3</td>\n",
       "      <td>1</td>\n",
       "      <td>2</td>\n",
       "      <td>0</td>\n",
       "      <td>3143000</td>\n",
       "      <td>1</td>\n",
       "      <td>0</td>\n",
       "      <td>0</td>\n",
       "      <td>0</td>\n",
       "      <td>1</td>\n",
       "      <td>0</td>\n",
       "    </tr>\n",
       "    <tr>\n",
       "      <th>392</th>\n",
       "      <td>3990</td>\n",
       "      <td>3</td>\n",
       "      <td>1</td>\n",
       "      <td>2</td>\n",
       "      <td>0</td>\n",
       "      <td>3500000</td>\n",
       "      <td>1</td>\n",
       "      <td>0</td>\n",
       "      <td>0</td>\n",
       "      <td>0</td>\n",
       "      <td>0</td>\n",
       "      <td>0</td>\n",
       "    </tr>\n",
       "    <tr>\n",
       "      <th>231</th>\n",
       "      <td>4320</td>\n",
       "      <td>3</td>\n",
       "      <td>1</td>\n",
       "      <td>1</td>\n",
       "      <td>0</td>\n",
       "      <td>4690000</td>\n",
       "      <td>1</td>\n",
       "      <td>0</td>\n",
       "      <td>0</td>\n",
       "      <td>0</td>\n",
       "      <td>0</td>\n",
       "      <td>1</td>\n",
       "    </tr>\n",
       "    <tr>\n",
       "      <th>271</th>\n",
       "      <td>1905</td>\n",
       "      <td>5</td>\n",
       "      <td>1</td>\n",
       "      <td>2</td>\n",
       "      <td>0</td>\n",
       "      <td>4340000</td>\n",
       "      <td>0</td>\n",
       "      <td>0</td>\n",
       "      <td>1</td>\n",
       "      <td>0</td>\n",
       "      <td>0</td>\n",
       "      <td>0</td>\n",
       "    </tr>\n",
       "    <tr>\n",
       "      <th>250</th>\n",
       "      <td>3510</td>\n",
       "      <td>3</td>\n",
       "      <td>1</td>\n",
       "      <td>3</td>\n",
       "      <td>0</td>\n",
       "      <td>4515000</td>\n",
       "      <td>1</td>\n",
       "      <td>0</td>\n",
       "      <td>0</td>\n",
       "      <td>0</td>\n",
       "      <td>0</td>\n",
       "      <td>0</td>\n",
       "    </tr>\n",
       "  </tbody>\n",
       "</table>\n",
       "</div>"
      ],
      "text/plain": [
       "     area  bedrooms  bathrooms  stories  parking    price  mainroad  \\\n",
       "454  4500         3          1        2        0  3143000         1   \n",
       "392  3990         3          1        2        0  3500000         1   \n",
       "231  4320         3          1        1        0  4690000         1   \n",
       "271  1905         5          1        2        0  4340000         0   \n",
       "250  3510         3          1        3        0  4515000         1   \n",
       "\n",
       "     guestroom  basement  hotwaterheating  airconditioning  prefarea  \n",
       "454          0         0                0                1         0  \n",
       "392          0         0                0                0         0  \n",
       "231          0         0                0                0         1  \n",
       "271          0         1                0                0         0  \n",
       "250          0         0                0                0         0  "
      ]
     },
     "execution_count": 69,
     "metadata": {},
     "output_type": "execute_result"
    }
   ],
   "source": [
    "num_vars = ['area', 'bedrooms', 'bathrooms', 'stories', 'parking', 'price', 'mainroad', 'guestroom', 'basement', 'hotwaterheating', 'airconditioning', 'prefarea']\n",
    "df_Newtrain = df_train[num_vars]\n",
    "df_Newtest = df_test[num_vars]\n",
    "df_Newtrain.head()\n",
    "# df_Newtest.head()"
   ]
  },
  {
   "cell_type": "code",
   "execution_count": 70,
   "id": "3e7a5e47-c424-49c3-9b04-55ef26029fd6",
   "metadata": {},
   "outputs": [
    {
     "data": {
      "text/html": [
       "<div>\n",
       "<style scoped>\n",
       "    .dataframe tbody tr th:only-of-type {\n",
       "        vertical-align: middle;\n",
       "    }\n",
       "\n",
       "    .dataframe tbody tr th {\n",
       "        vertical-align: top;\n",
       "    }\n",
       "\n",
       "    .dataframe thead th {\n",
       "        text-align: right;\n",
       "    }\n",
       "</style>\n",
       "<table border=\"1\" class=\"dataframe\">\n",
       "  <thead>\n",
       "    <tr style=\"text-align: right;\">\n",
       "      <th></th>\n",
       "      <th>area</th>\n",
       "      <th>bedrooms</th>\n",
       "      <th>bathrooms</th>\n",
       "      <th>stories</th>\n",
       "      <th>parking</th>\n",
       "      <th>price</th>\n",
       "      <th>mainroad</th>\n",
       "      <th>guestroom</th>\n",
       "      <th>basement</th>\n",
       "      <th>hotwaterheating</th>\n",
       "      <th>airconditioning</th>\n",
       "      <th>prefarea</th>\n",
       "    </tr>\n",
       "  </thead>\n",
       "  <tbody>\n",
       "    <tr>\n",
       "      <th>454</th>\n",
       "      <td>0.193548</td>\n",
       "      <td>0.50</td>\n",
       "      <td>0.0</td>\n",
       "      <td>0.333333</td>\n",
       "      <td>0.000000</td>\n",
       "      <td>0.120606</td>\n",
       "      <td>1.0</td>\n",
       "      <td>0.0</td>\n",
       "      <td>0.0</td>\n",
       "      <td>0.0</td>\n",
       "      <td>1.0</td>\n",
       "      <td>0.0</td>\n",
       "    </tr>\n",
       "    <tr>\n",
       "      <th>392</th>\n",
       "      <td>0.156495</td>\n",
       "      <td>0.50</td>\n",
       "      <td>0.0</td>\n",
       "      <td>0.333333</td>\n",
       "      <td>0.000000</td>\n",
       "      <td>0.151515</td>\n",
       "      <td>1.0</td>\n",
       "      <td>0.0</td>\n",
       "      <td>0.0</td>\n",
       "      <td>0.0</td>\n",
       "      <td>0.0</td>\n",
       "      <td>0.0</td>\n",
       "    </tr>\n",
       "    <tr>\n",
       "      <th>231</th>\n",
       "      <td>0.180471</td>\n",
       "      <td>0.50</td>\n",
       "      <td>0.0</td>\n",
       "      <td>0.000000</td>\n",
       "      <td>0.000000</td>\n",
       "      <td>0.254545</td>\n",
       "      <td>1.0</td>\n",
       "      <td>0.0</td>\n",
       "      <td>0.0</td>\n",
       "      <td>0.0</td>\n",
       "      <td>0.0</td>\n",
       "      <td>1.0</td>\n",
       "    </tr>\n",
       "    <tr>\n",
       "      <th>271</th>\n",
       "      <td>0.005013</td>\n",
       "      <td>1.00</td>\n",
       "      <td>0.0</td>\n",
       "      <td>0.333333</td>\n",
       "      <td>0.000000</td>\n",
       "      <td>0.224242</td>\n",
       "      <td>0.0</td>\n",
       "      <td>0.0</td>\n",
       "      <td>1.0</td>\n",
       "      <td>0.0</td>\n",
       "      <td>0.0</td>\n",
       "      <td>0.0</td>\n",
       "    </tr>\n",
       "    <tr>\n",
       "      <th>250</th>\n",
       "      <td>0.121622</td>\n",
       "      <td>0.50</td>\n",
       "      <td>0.0</td>\n",
       "      <td>0.666667</td>\n",
       "      <td>0.000000</td>\n",
       "      <td>0.239394</td>\n",
       "      <td>1.0</td>\n",
       "      <td>0.0</td>\n",
       "      <td>0.0</td>\n",
       "      <td>0.0</td>\n",
       "      <td>0.0</td>\n",
       "      <td>0.0</td>\n",
       "    </tr>\n",
       "    <tr>\n",
       "      <th>541</th>\n",
       "      <td>0.040976</td>\n",
       "      <td>0.50</td>\n",
       "      <td>0.0</td>\n",
       "      <td>0.000000</td>\n",
       "      <td>0.000000</td>\n",
       "      <td>0.001485</td>\n",
       "      <td>0.0</td>\n",
       "      <td>0.0</td>\n",
       "      <td>0.0</td>\n",
       "      <td>0.0</td>\n",
       "      <td>0.0</td>\n",
       "      <td>0.0</td>\n",
       "    </tr>\n",
       "    <tr>\n",
       "      <th>461</th>\n",
       "      <td>0.226969</td>\n",
       "      <td>0.25</td>\n",
       "      <td>0.0</td>\n",
       "      <td>0.000000</td>\n",
       "      <td>0.000000</td>\n",
       "      <td>0.115152</td>\n",
       "      <td>1.0</td>\n",
       "      <td>0.0</td>\n",
       "      <td>1.0</td>\n",
       "      <td>0.0</td>\n",
       "      <td>1.0</td>\n",
       "      <td>0.0</td>\n",
       "    </tr>\n",
       "    <tr>\n",
       "      <th>124</th>\n",
       "      <td>0.340671</td>\n",
       "      <td>0.50</td>\n",
       "      <td>0.5</td>\n",
       "      <td>1.000000</td>\n",
       "      <td>0.333333</td>\n",
       "      <td>0.363636</td>\n",
       "      <td>1.0</td>\n",
       "      <td>0.0</td>\n",
       "      <td>0.0</td>\n",
       "      <td>0.0</td>\n",
       "      <td>0.0</td>\n",
       "      <td>0.0</td>\n",
       "    </tr>\n",
       "    <tr>\n",
       "      <th>154</th>\n",
       "      <td>0.131793</td>\n",
       "      <td>0.50</td>\n",
       "      <td>0.5</td>\n",
       "      <td>0.333333</td>\n",
       "      <td>0.666667</td>\n",
       "      <td>0.327273</td>\n",
       "      <td>1.0</td>\n",
       "      <td>0.0</td>\n",
       "      <td>0.0</td>\n",
       "      <td>0.0</td>\n",
       "      <td>0.0</td>\n",
       "      <td>0.0</td>\n",
       "    </tr>\n",
       "    <tr>\n",
       "      <th>451</th>\n",
       "      <td>0.357018</td>\n",
       "      <td>0.25</td>\n",
       "      <td>0.0</td>\n",
       "      <td>0.000000</td>\n",
       "      <td>0.000000</td>\n",
       "      <td>0.121212</td>\n",
       "      <td>1.0</td>\n",
       "      <td>0.0</td>\n",
       "      <td>0.0</td>\n",
       "      <td>0.0</td>\n",
       "      <td>0.0</td>\n",
       "      <td>0.0</td>\n",
       "    </tr>\n",
       "    <tr>\n",
       "      <th>59</th>\n",
       "      <td>0.302528</td>\n",
       "      <td>0.50</td>\n",
       "      <td>0.5</td>\n",
       "      <td>1.000000</td>\n",
       "      <td>0.333333</td>\n",
       "      <td>0.472727</td>\n",
       "      <td>1.0</td>\n",
       "      <td>1.0</td>\n",
       "      <td>0.0</td>\n",
       "      <td>0.0</td>\n",
       "      <td>1.0</td>\n",
       "      <td>0.0</td>\n",
       "    </tr>\n",
       "    <tr>\n",
       "      <th>493</th>\n",
       "      <td>0.154316</td>\n",
       "      <td>0.50</td>\n",
       "      <td>0.0</td>\n",
       "      <td>0.000000</td>\n",
       "      <td>0.000000</td>\n",
       "      <td>0.090909</td>\n",
       "      <td>1.0</td>\n",
       "      <td>0.0</td>\n",
       "      <td>0.0</td>\n",
       "      <td>0.0</td>\n",
       "      <td>0.0</td>\n",
       "      <td>0.0</td>\n",
       "    </tr>\n",
       "    <tr>\n",
       "      <th>465</th>\n",
       "      <td>0.142691</td>\n",
       "      <td>0.25</td>\n",
       "      <td>0.0</td>\n",
       "      <td>0.000000</td>\n",
       "      <td>0.000000</td>\n",
       "      <td>0.112121</td>\n",
       "      <td>1.0</td>\n",
       "      <td>0.0</td>\n",
       "      <td>0.0</td>\n",
       "      <td>0.0</td>\n",
       "      <td>0.0</td>\n",
       "      <td>0.0</td>\n",
       "    </tr>\n",
       "    <tr>\n",
       "      <th>490</th>\n",
       "      <td>0.182650</td>\n",
       "      <td>0.50</td>\n",
       "      <td>0.0</td>\n",
       "      <td>0.333333</td>\n",
       "      <td>0.333333</td>\n",
       "      <td>0.093939</td>\n",
       "      <td>0.0</td>\n",
       "      <td>0.0</td>\n",
       "      <td>0.0</td>\n",
       "      <td>1.0</td>\n",
       "      <td>0.0</td>\n",
       "      <td>0.0</td>\n",
       "    </tr>\n",
       "    <tr>\n",
       "      <th>540</th>\n",
       "      <td>0.084568</td>\n",
       "      <td>0.25</td>\n",
       "      <td>0.0</td>\n",
       "      <td>0.000000</td>\n",
       "      <td>0.666667</td>\n",
       "      <td>0.006061</td>\n",
       "      <td>1.0</td>\n",
       "      <td>0.0</td>\n",
       "      <td>1.0</td>\n",
       "      <td>0.0</td>\n",
       "      <td>0.0</td>\n",
       "      <td>0.0</td>\n",
       "    </tr>\n",
       "    <tr>\n",
       "      <th>406</th>\n",
       "      <td>0.253124</td>\n",
       "      <td>0.25</td>\n",
       "      <td>0.0</td>\n",
       "      <td>0.000000</td>\n",
       "      <td>0.333333</td>\n",
       "      <td>0.148485</td>\n",
       "      <td>1.0</td>\n",
       "      <td>0.0</td>\n",
       "      <td>0.0</td>\n",
       "      <td>0.0</td>\n",
       "      <td>0.0</td>\n",
       "      <td>1.0</td>\n",
       "    </tr>\n",
       "    <tr>\n",
       "      <th>289</th>\n",
       "      <td>0.291630</td>\n",
       "      <td>0.25</td>\n",
       "      <td>0.0</td>\n",
       "      <td>0.000000</td>\n",
       "      <td>0.666667</td>\n",
       "      <td>0.212121</td>\n",
       "      <td>1.0</td>\n",
       "      <td>1.0</td>\n",
       "      <td>1.0</td>\n",
       "      <td>0.0</td>\n",
       "      <td>0.0</td>\n",
       "      <td>0.0</td>\n",
       "    </tr>\n",
       "    <tr>\n",
       "      <th>190</th>\n",
       "      <td>0.418774</td>\n",
       "      <td>0.75</td>\n",
       "      <td>0.0</td>\n",
       "      <td>0.333333</td>\n",
       "      <td>0.666667</td>\n",
       "      <td>0.284848</td>\n",
       "      <td>1.0</td>\n",
       "      <td>0.0</td>\n",
       "      <td>0.0</td>\n",
       "      <td>0.0</td>\n",
       "      <td>1.0</td>\n",
       "      <td>0.0</td>\n",
       "    </tr>\n",
       "    <tr>\n",
       "      <th>55</th>\n",
       "      <td>0.302528</td>\n",
       "      <td>0.50</td>\n",
       "      <td>0.0</td>\n",
       "      <td>0.333333</td>\n",
       "      <td>0.333333</td>\n",
       "      <td>0.484848</td>\n",
       "      <td>1.0</td>\n",
       "      <td>0.0</td>\n",
       "      <td>0.0</td>\n",
       "      <td>0.0</td>\n",
       "      <td>1.0</td>\n",
       "      <td>0.0</td>\n",
       "    </tr>\n",
       "    <tr>\n",
       "      <th>171</th>\n",
       "      <td>0.612685</td>\n",
       "      <td>0.50</td>\n",
       "      <td>0.0</td>\n",
       "      <td>0.000000</td>\n",
       "      <td>0.333333</td>\n",
       "      <td>0.303030</td>\n",
       "      <td>1.0</td>\n",
       "      <td>0.0</td>\n",
       "      <td>0.0</td>\n",
       "      <td>0.0</td>\n",
       "      <td>0.0</td>\n",
       "      <td>1.0</td>\n",
       "    </tr>\n",
       "  </tbody>\n",
       "</table>\n",
       "</div>"
      ],
      "text/plain": [
       "         area  bedrooms  bathrooms   stories   parking     price  mainroad  \\\n",
       "454  0.193548      0.50        0.0  0.333333  0.000000  0.120606       1.0   \n",
       "392  0.156495      0.50        0.0  0.333333  0.000000  0.151515       1.0   \n",
       "231  0.180471      0.50        0.0  0.000000  0.000000  0.254545       1.0   \n",
       "271  0.005013      1.00        0.0  0.333333  0.000000  0.224242       0.0   \n",
       "250  0.121622      0.50        0.0  0.666667  0.000000  0.239394       1.0   \n",
       "541  0.040976      0.50        0.0  0.000000  0.000000  0.001485       0.0   \n",
       "461  0.226969      0.25        0.0  0.000000  0.000000  0.115152       1.0   \n",
       "124  0.340671      0.50        0.5  1.000000  0.333333  0.363636       1.0   \n",
       "154  0.131793      0.50        0.5  0.333333  0.666667  0.327273       1.0   \n",
       "451  0.357018      0.25        0.0  0.000000  0.000000  0.121212       1.0   \n",
       "59   0.302528      0.50        0.5  1.000000  0.333333  0.472727       1.0   \n",
       "493  0.154316      0.50        0.0  0.000000  0.000000  0.090909       1.0   \n",
       "465  0.142691      0.25        0.0  0.000000  0.000000  0.112121       1.0   \n",
       "490  0.182650      0.50        0.0  0.333333  0.333333  0.093939       0.0   \n",
       "540  0.084568      0.25        0.0  0.000000  0.666667  0.006061       1.0   \n",
       "406  0.253124      0.25        0.0  0.000000  0.333333  0.148485       1.0   \n",
       "289  0.291630      0.25        0.0  0.000000  0.666667  0.212121       1.0   \n",
       "190  0.418774      0.75        0.0  0.333333  0.666667  0.284848       1.0   \n",
       "55   0.302528      0.50        0.0  0.333333  0.333333  0.484848       1.0   \n",
       "171  0.612685      0.50        0.0  0.000000  0.333333  0.303030       1.0   \n",
       "\n",
       "     guestroom  basement  hotwaterheating  airconditioning  prefarea  \n",
       "454        0.0       0.0              0.0              1.0       0.0  \n",
       "392        0.0       0.0              0.0              0.0       0.0  \n",
       "231        0.0       0.0              0.0              0.0       1.0  \n",
       "271        0.0       1.0              0.0              0.0       0.0  \n",
       "250        0.0       0.0              0.0              0.0       0.0  \n",
       "541        0.0       0.0              0.0              0.0       0.0  \n",
       "461        0.0       1.0              0.0              1.0       0.0  \n",
       "124        0.0       0.0              0.0              0.0       0.0  \n",
       "154        0.0       0.0              0.0              0.0       0.0  \n",
       "451        0.0       0.0              0.0              0.0       0.0  \n",
       "59         1.0       0.0              0.0              1.0       0.0  \n",
       "493        0.0       0.0              0.0              0.0       0.0  \n",
       "465        0.0       0.0              0.0              0.0       0.0  \n",
       "490        0.0       0.0              1.0              0.0       0.0  \n",
       "540        0.0       1.0              0.0              0.0       0.0  \n",
       "406        0.0       0.0              0.0              0.0       1.0  \n",
       "289        1.0       1.0              0.0              0.0       0.0  \n",
       "190        0.0       0.0              0.0              1.0       0.0  \n",
       "55         0.0       0.0              0.0              1.0       0.0  \n",
       "171        0.0       0.0              0.0              0.0       1.0  "
      ]
     },
     "execution_count": 70,
     "metadata": {},
     "output_type": "execute_result"
    }
   ],
   "source": [
    "import warnings\n",
    "warnings.filterwarnings('ignore')\n",
    "\n",
    "from sklearn.preprocessing import MinMaxScaler, StandardScaler\n",
    "\n",
    "scaler = MinMaxScaler()\n",
    "df_Newtrain[num_vars] = scaler.fit_transform(df_Newtrain[num_vars])\n",
    "df_Newtest[num_vars] = scaler.fit_transform(df_Newtest[num_vars])\n",
    "df_Newtrain.head(20)"
   ]
  },
  {
   "cell_type": "code",
   "execution_count": 71,
   "id": "a7270328-bfc5-4c5f-9ec7-dcc707c3bdc0",
   "metadata": {},
   "outputs": [
    {
     "data": {
      "text/plain": [
       "(381, 12)"
      ]
     },
     "execution_count": 71,
     "metadata": {},
     "output_type": "execute_result"
    }
   ],
   "source": [
    "df_Newtrain.shape"
   ]
  },
  {
   "cell_type": "code",
   "execution_count": 72,
   "id": "2721adcf-66a8-4d70-a93e-92fcf437dd77",
   "metadata": {},
   "outputs": [
    {
     "data": {
      "text/plain": [
       "(164, 12)"
      ]
     },
     "execution_count": 72,
     "metadata": {},
     "output_type": "execute_result"
    }
   ],
   "source": [
    "df_Newtest.shape"
   ]
  },
  {
   "cell_type": "code",
   "execution_count": 73,
   "id": "15a1d4d9-c702-4338-9485-1bbea0984df6",
   "metadata": {},
   "outputs": [
    {
     "data": {
      "text/plain": [
       "array([0., 0., 0., 0., 0., 0., 0., 0., 0., 0., 0., 0.])"
      ]
     },
     "execution_count": 73,
     "metadata": {},
     "output_type": "execute_result"
    }
   ],
   "source": [
    "theta = np.zeros(12)\n",
    "theta"
   ]
  },
  {
   "cell_type": "code",
   "execution_count": 74,
   "id": "343955ac-bdb7-4961-a34f-a16e13296a62",
   "metadata": {},
   "outputs": [],
   "source": [
    "area_train = df_Newtrain.values[:, 0]\n",
    "bedrooms_train = df_Newtrain.values[:, 1]\n",
    "bathrooms_train = df_Newtrain.values[:, 2]\n",
    "stories_train = df_Newtrain.values[:, 3]\n",
    "parking_train = df_Newtrain.values[:, 4]\n",
    "price_train = df_Newtrain.values[:, 5]\n",
    "mainroad_train = df_Newtrain.values[:, 6]\n",
    "guestroom_train = df_Newtrain.values[:, 7]\n",
    "basement_train = df_Newtrain.values[:, 8]\n",
    "hotwaterheating_train = df_Newtrain.values[:, 9]\n",
    "airconditioning_train = df_Newtrain.values[:, 10]\n",
    "prefarea_train = df_Newtrain.values[:, 11]"
   ]
  },
  {
   "cell_type": "code",
   "execution_count": 75,
   "id": "cf479b25-b528-47c0-867c-95fea7bc3386",
   "metadata": {},
   "outputs": [
    {
     "data": {
      "text/plain": [
       "array([[0.],\n",
       "       [0.],\n",
       "       [1.],\n",
       "       [0.],\n",
       "       [0.]])"
      ]
     },
     "execution_count": 75,
     "metadata": {},
     "output_type": "execute_result"
    }
   ],
   "source": [
    "x_0 = np.ones((381, 1)) # creating matrix with column of ones\n",
    "area_train1 = area_train.reshape(381,1)\n",
    "area_train1[:5]\n",
    "\n",
    "x_0 = np.ones((381, 1)) # creating matrix with column of ones\n",
    "bedrooms_train1 = bedrooms_train.reshape(381,1)\n",
    "bedrooms_train1[:5]\n",
    "\n",
    "x_0 = np.ones((381, 1)) # creating matrix with column of ones\n",
    "bathrooms_train1 = bathrooms_train.reshape(381,1)\n",
    "bathrooms_train1[:5]\n",
    "\n",
    "x_0 = np.ones((381, 1)) # creating matrix with column of ones\n",
    "stories_train1 = stories_train.reshape(381,1)\n",
    "stories_train1[:5]\n",
    "\n",
    "x_0 = np.ones((381, 1)) # creating matrix with column of ones\n",
    "parking_train1 = parking_train.reshape(381,1)\n",
    "parking_train1[:5]\n",
    "\n",
    "x_0 = np.ones((381, 1)) # creating matrix with column of ones\n",
    "mainroad_train1 = mainroad_train.reshape(381,1)\n",
    "mainroad_train1[:5]\n",
    "\n",
    "x_0 = np.ones((381, 1)) # creating matrix with column of ones\n",
    "guestroom_train1 = guestroom_train.reshape(381,1)\n",
    "guestroom_train1[:5]\n",
    "\n",
    "x_0 = np.ones((381, 1)) # creating matrix with column of ones\n",
    "basement_train1 = basement_train.reshape(381,1)\n",
    "basement_train1[:5]\n",
    "\n",
    "x_0 = np.ones((381, 1)) # creating matrix with column of ones\n",
    "hotwaterheating_train1 = hotwaterheating_train.reshape(381,1)\n",
    "hotwaterheating_train1[:5]\n",
    "\n",
    "x_0 = np.ones((381, 1)) # creating matrix with column of ones\n",
    "airconditioning_train1 = airconditioning_train.reshape(381,1)\n",
    "airconditioning_train1[:5]\n",
    "\n",
    "x_0 = np.ones((381, 1)) # creating matrix with column of ones\n",
    "prefarea_train1 = prefarea_train.reshape(381,1)\n",
    "prefarea_train1[:5]"
   ]
  },
  {
   "cell_type": "code",
   "execution_count": 76,
   "id": "95226b63-0c7b-4bf3-8be2-7e574c64c8ac",
   "metadata": {},
   "outputs": [
    {
     "data": {
      "text/plain": [
       "array([[1.        , 0.19354839, 0.5       , 0.        , 0.33333333,\n",
       "        0.        , 1.        , 0.        , 0.        , 0.        ,\n",
       "        1.        , 0.        ],\n",
       "       [1.        , 0.1564952 , 0.5       , 0.        , 0.33333333,\n",
       "        0.        , 1.        , 0.        , 0.        , 0.        ,\n",
       "        0.        , 0.        ]])"
      ]
     },
     "execution_count": 76,
     "metadata": {},
     "output_type": "execute_result"
    }
   ],
   "source": [
    "X5 = np.hstack((x_0,area_train1,bedrooms_train1,bathrooms_train1,stories_train1,parking_train1, mainroad_train1, guestroom_train1, basement_train1, hotwaterheating_train1, airconditioning_train1, prefarea_train1))\n",
    "X5[:2]"
   ]
  },
  {
   "cell_type": "code",
   "execution_count": 77,
   "id": "4b492fac-167a-4ba4-a2a0-730e6b66853a",
   "metadata": {},
   "outputs": [
    {
     "name": "stdout",
     "output_type": "stream",
     "text": [
      "The cost for given values of theta_0 and theta_1 = 0.04726753099662817\n"
     ]
    }
   ],
   "source": [
    "cost = compute_cost(X5, price_train, theta)\n",
    "print('The cost for given values of theta_0 and theta_1 =', cost)"
   ]
  },
  {
   "cell_type": "code",
   "execution_count": 78,
   "id": "8f7cdd0a-55a0-496d-b2e8-09ab79ddc584",
   "metadata": {},
   "outputs": [
    {
     "data": {
      "text/plain": [
       "array([[-0.52840866],\n",
       "       [ 1.67330604],\n",
       "       [-0.73996132],\n",
       "       [ 3.07582182],\n",
       "       [-0.66160849]])"
      ]
     },
     "execution_count": 78,
     "metadata": {},
     "output_type": "execute_result"
    }
   ],
   "source": [
    "x_0 = np.ones((164, 1)) # creating matrix with column of ones\n",
    "area_test1 = area_test.reshape(164,1)\n",
    "area_test1[:5]"
   ]
  },
  {
   "cell_type": "code",
   "execution_count": 79,
   "id": "515b827b-2ea6-482d-ac03-ccd02b047dd8",
   "metadata": {},
   "outputs": [],
   "source": [
    "area_test = df_Newtest.values[:, 0]\n",
    "bedrooms_test = df_Newtest.values[:, 1]\n",
    "bathrooms_test = df_Newtest.values[:, 2]\n",
    "stories_test = df_Newtest.values[:, 3]\n",
    "parking_test = df_Newtest.values[:, 4]\n",
    "price_test = df_Newtest.values[:, 5]\n",
    "mainroad_test = df_Newtest.values[:, 6]\n",
    "guestroom_test = df_Newtest.values[:, 7]\n",
    "basement_test = df_Newtest.values[:, 8]\n",
    "hotwaterheating_test = df_Newtest.values[:, 9]\n",
    "airconditioning_test = df_Newtest.values[:, 10]\n",
    "prefarea_test = df_Newtest.values[:, 11]"
   ]
  },
  {
   "cell_type": "code",
   "execution_count": 80,
   "id": "18c4f691-765d-4082-8dff-a4db9e0c7285",
   "metadata": {},
   "outputs": [
    {
     "data": {
      "text/plain": [
       "array([[0.],\n",
       "       [1.],\n",
       "       [0.],\n",
       "       [0.],\n",
       "       [0.]])"
      ]
     },
     "execution_count": 80,
     "metadata": {},
     "output_type": "execute_result"
    }
   ],
   "source": [
    "x_0 = np.ones((164, 1)) # creating matrix with column of ones\n",
    "area_test1 = area_test.reshape(164,1)\n",
    "area_test1[:5]\n",
    "\n",
    "x_0 = np.ones((164, 1)) # creating matrix with column of ones\n",
    "bedrooms_test1 = bedrooms_test.reshape(164,1)\n",
    "bedrooms_test1[:5]\n",
    "\n",
    "x_0 = np.ones((164, 1)) # creating matrix with column of ones\n",
    "bathrooms_test1 = bathrooms_test.reshape(164,1)\n",
    "bathrooms_test1[:5]\n",
    "\n",
    "x_0 = np.ones((164, 1)) # creating matrix with column of ones\n",
    "stories_test1 = stories_test.reshape(164,1)\n",
    "stories_test1[:5]\n",
    "\n",
    "x_0 = np.ones((164, 1)) # creating matrix with column of ones\n",
    "parking_test1 = parking_test.reshape(164,1)\n",
    "parking_test1[:5]\n",
    "\n",
    "x_0 = np.ones((164, 1)) # creating matrix with column of ones\n",
    "mainroad_test1 = mainroad_test.reshape(164,1)\n",
    "mainroad_test1[:5]\n",
    "\n",
    "x_0 = np.ones((164, 1)) # creating matrix with column of ones\n",
    "guestroom_test1 = guestroom_test.reshape(164,1)\n",
    "guestroom_test1[:5]\n",
    "\n",
    "x_0 = np.ones((164, 1)) # creating matrix with column of ones\n",
    "basement_test1 = basement_test.reshape(164,1)\n",
    "basement_test1[:5]\n",
    "\n",
    "x_0 = np.ones((164, 1)) # creating matrix with column of ones\n",
    "hotwaterheating_test1 = hotwaterheating_test.reshape(164,1)\n",
    "hotwaterheating_test1[:5]\n",
    "\n",
    "x_0 = np.ones((164, 1)) # creating matrix with column of ones\n",
    "airconditioning_test1 = airconditioning_test.reshape(164,1)\n",
    "airconditioning_test1[:5]\n",
    "\n",
    "x_0 = np.ones((164, 1)) # creating matrix with column of ones\n",
    "prefarea_test1 = prefarea_test.reshape(164,1)\n",
    "prefarea_test1[:5]\n"
   ]
  },
  {
   "cell_type": "code",
   "execution_count": 81,
   "id": "269ac10c-6279-4303-9924-d64f95d9874c",
   "metadata": {},
   "outputs": [
    {
     "data": {
      "text/plain": [
       "array([[1.        , 0.16151203, 0.4       , 0.        , 0.33333333,\n",
       "        0.33333333, 1.        , 0.        , 0.        , 0.        ,\n",
       "        0.        , 0.        ],\n",
       "       [1.        , 0.54776632, 0.4       , 0.        , 0.        ,\n",
       "        0.66666667, 1.        , 0.        , 1.        , 0.        ,\n",
       "        0.        , 1.        ]])"
      ]
     },
     "execution_count": 81,
     "metadata": {},
     "output_type": "execute_result"
    }
   ],
   "source": [
    "X6 = np.hstack((x_0,area_test1,bedrooms_test1,bathrooms_test1,stories_test1,parking_test1, mainroad_test1, guestroom_test1, basement_test1, hotwaterheating_test1, airconditioning_test1, prefarea_test1))\n",
    "X6[:2]"
   ]
  },
  {
   "cell_type": "code",
   "execution_count": 82,
   "id": "bdd1ad40-6aa8-4854-9e63-9cc4e4c33eca",
   "metadata": {},
   "outputs": [
    {
     "name": "stdout",
     "output_type": "stream",
     "text": [
      "The cost for given values of theta_0 and theta_1 = 0.024499234179060952\n"
     ]
    }
   ],
   "source": [
    "cost = compute_cost(X6, price_test, theta)\n",
    "print('The cost for given values of theta_0 and theta_1 =', cost)"
   ]
  },
  {
   "cell_type": "code",
   "execution_count": 83,
   "id": "b8fa3068-1fac-4cda-a5fe-d7dff7fb8586",
   "metadata": {},
   "outputs": [],
   "source": [
    "iterations = 1500;\n",
    "alpha = .003;"
   ]
  },
  {
   "cell_type": "code",
   "execution_count": 84,
   "id": "1a715e06-d022-43d5-a1bc-b22b6c708381",
   "metadata": {},
   "outputs": [
    {
     "name": "stdout",
     "output_type": "stream",
     "text": [
      "Final value of theta =  [0.06830634 0.04729607 0.05747168 0.06184105 0.06402687 0.05451622\n",
      " 0.06969779 0.03721635 0.03501241 0.02350595 0.07953194 0.05938159]\n",
      "cost_history =  [0.04665317 0.04604843 0.04545314 ... 0.00616484 0.00616412 0.00616339]\n",
      "cost_history2 =  [0.02421684 0.0239386  0.02366446 ... 0.0035391  0.00353877 0.00353845]\n"
     ]
    }
   ],
   "source": [
    "theta, cost_history1, cost_history2 = gradient_descent(X5, X6, price_train, price_test, theta, alpha, iterations)\n",
    "print('Final value of theta = ', theta)\n",
    "print('cost_history = ', cost_history1)\n",
    "print('cost_history2 = ', cost_history2)"
   ]
  },
  {
   "cell_type": "code",
   "execution_count": 85,
   "id": "d39c1442-820d-4d64-9163-70d8836ef33f",
   "metadata": {},
   "outputs": [
    {
     "data": {
      "text/plain": [
       "Text(0.5, 1.0, 'Convergence of gradient descent for eleven inputs')"
      ]
     },
     "execution_count": 85,
     "metadata": {},
     "output_type": "execute_result"
    },
    {
     "data": {
      "image/png": "[encoded data removed]",
      "text/plain": [
       "<Figure size 720x432 with 1 Axes>"
      ]
     },
     "metadata": {
      "needs_background": "light"
     },
     "output_type": "display_data"
    }
   ],
   "source": [
    "plt.plot(range(1, iterations + 1),cost_history1, color='blue') # plotting loss function for all three inputs merged\n",
    "plt.plot(range(1, iterations + 1),cost_history2, color='red') # plotting loss function for all three inputs merged\n",
    "plt.rcParams[\"figure.figsize\"] = (10,6)\n",
    "plt.grid()\n",
    "plt.xlabel('Number of iterations')\n",
    "plt.ylabel('Cost (J)')\n",
    "plt.title('Convergence of gradient descent for Problem 2.b Normalization')"
   ]
  },
  {
   "cell_type": "code",
   "execution_count": 86,
   "id": "da5b22e8-c916-4ac9-b856-97f23ff369de",
   "metadata": {},
   "outputs": [],
   "source": [
    "#Standardization"
   ]
  },
  {
   "cell_type": "code",
   "execution_count": null,
   "id": "9ea4af6d-d83b-4e5b-8d9e-4a9120a7b778",
   "metadata": {},
   "outputs": [],
   "source": []
  },
  {
   "cell_type": "code",
   "execution_count": null,
   "id": "4fd1e07b-c362-4aec-85bf-5043f4e45681",
   "metadata": {},
   "outputs": [],
   "source": []
  },
  {
   "cell_type": "code",
   "execution_count": null,
   "id": "8028d0e2-6b17-464b-8b0d-bb03972ea3d0",
   "metadata": {},
   "outputs": [],
   "source": []
  },
  {
   "cell_type": "code",
   "execution_count": null,
   "id": "8f78cab1-cdf2-4d02-8ace-00ae87c23927",
   "metadata": {},
   "outputs": [],
   "source": []
  },
  {
   "cell_type": "code",
   "execution_count": 87,
   "id": "d9d8594e-9657-4a5f-8a4d-97d1356952b8",
   "metadata": {},
   "outputs": [
    {
     "data": {
      "text/plain": [
       "array([0., 0., 0., 0., 0., 0., 0., 0., 0., 0., 0., 0.])"
      ]
     },
     "execution_count": 87,
     "metadata": {},
     "output_type": "execute_result"
    }
   ],
   "source": [
    "theta = np.zeros(12)\n",
    "theta"
   ]
  },
  {
   "cell_type": "code",
   "execution_count": 88,
   "id": "5fd5ba2f-32cf-4054-8521-e750b7cd2f40",
   "metadata": {},
   "outputs": [
    {
     "data": {
      "text/html": [
       "<div>\n",
       "<style scoped>\n",
       "    .dataframe tbody tr th:only-of-type {\n",
       "        vertical-align: middle;\n",
       "    }\n",
       "\n",
       "    .dataframe tbody tr th {\n",
       "        vertical-align: top;\n",
       "    }\n",
       "\n",
       "    .dataframe thead th {\n",
       "        text-align: right;\n",
       "    }\n",
       "</style>\n",
       "<table border=\"1\" class=\"dataframe\">\n",
       "  <thead>\n",
       "    <tr style=\"text-align: right;\">\n",
       "      <th></th>\n",
       "      <th>area</th>\n",
       "      <th>bedrooms</th>\n",
       "      <th>bathrooms</th>\n",
       "      <th>stories</th>\n",
       "      <th>parking</th>\n",
       "      <th>price</th>\n",
       "      <th>mainroad</th>\n",
       "      <th>guestroom</th>\n",
       "      <th>basement</th>\n",
       "      <th>hotwaterheating</th>\n",
       "      <th>airconditioning</th>\n",
       "      <th>prefarea</th>\n",
       "    </tr>\n",
       "  </thead>\n",
       "  <tbody>\n",
       "    <tr>\n",
       "      <th>454</th>\n",
       "      <td>4500</td>\n",
       "      <td>3</td>\n",
       "      <td>1</td>\n",
       "      <td>2</td>\n",
       "      <td>0</td>\n",
       "      <td>3143000</td>\n",
       "      <td>1</td>\n",
       "      <td>0</td>\n",
       "      <td>0</td>\n",
       "      <td>0</td>\n",
       "      <td>1</td>\n",
       "      <td>0</td>\n",
       "    </tr>\n",
       "    <tr>\n",
       "      <th>392</th>\n",
       "      <td>3990</td>\n",
       "      <td>3</td>\n",
       "      <td>1</td>\n",
       "      <td>2</td>\n",
       "      <td>0</td>\n",
       "      <td>3500000</td>\n",
       "      <td>1</td>\n",
       "      <td>0</td>\n",
       "      <td>0</td>\n",
       "      <td>0</td>\n",
       "      <td>0</td>\n",
       "      <td>0</td>\n",
       "    </tr>\n",
       "    <tr>\n",
       "      <th>231</th>\n",
       "      <td>4320</td>\n",
       "      <td>3</td>\n",
       "      <td>1</td>\n",
       "      <td>1</td>\n",
       "      <td>0</td>\n",
       "      <td>4690000</td>\n",
       "      <td>1</td>\n",
       "      <td>0</td>\n",
       "      <td>0</td>\n",
       "      <td>0</td>\n",
       "      <td>0</td>\n",
       "      <td>1</td>\n",
       "    </tr>\n",
       "    <tr>\n",
       "      <th>271</th>\n",
       "      <td>1905</td>\n",
       "      <td>5</td>\n",
       "      <td>1</td>\n",
       "      <td>2</td>\n",
       "      <td>0</td>\n",
       "      <td>4340000</td>\n",
       "      <td>0</td>\n",
       "      <td>0</td>\n",
       "      <td>1</td>\n",
       "      <td>0</td>\n",
       "      <td>0</td>\n",
       "      <td>0</td>\n",
       "    </tr>\n",
       "    <tr>\n",
       "      <th>250</th>\n",
       "      <td>3510</td>\n",
       "      <td>3</td>\n",
       "      <td>1</td>\n",
       "      <td>3</td>\n",
       "      <td>0</td>\n",
       "      <td>4515000</td>\n",
       "      <td>1</td>\n",
       "      <td>0</td>\n",
       "      <td>0</td>\n",
       "      <td>0</td>\n",
       "      <td>0</td>\n",
       "      <td>0</td>\n",
       "    </tr>\n",
       "  </tbody>\n",
       "</table>\n",
       "</div>"
      ],
      "text/plain": [
       "     area  bedrooms  bathrooms  stories  parking    price  mainroad  \\\n",
       "454  4500         3          1        2        0  3143000         1   \n",
       "392  3990         3          1        2        0  3500000         1   \n",
       "231  4320         3          1        1        0  4690000         1   \n",
       "271  1905         5          1        2        0  4340000         0   \n",
       "250  3510         3          1        3        0  4515000         1   \n",
       "\n",
       "     guestroom  basement  hotwaterheating  airconditioning  prefarea  \n",
       "454          0         0                0                1         0  \n",
       "392          0         0                0                0         0  \n",
       "231          0         0                0                0         1  \n",
       "271          0         1                0                0         0  \n",
       "250          0         0                0                0         0  "
      ]
     },
     "execution_count": 88,
     "metadata": {},
     "output_type": "execute_result"
    }
   ],
   "source": [
    "num_vars = ['area', 'bedrooms', 'bathrooms', 'stories', 'parking', 'price', 'mainroad', 'guestroom', 'basement', 'hotwaterheating', 'airconditioning', 'prefarea']\n",
    "df_Newtrain = df_train[num_vars]\n",
    "df_Newtest = df_test[num_vars]\n",
    "df_Newtrain.head()\n",
    "# df_Newtest.head()"
   ]
  },
  {
   "cell_type": "code",
   "execution_count": 89,
   "id": "5bfa86e0-3992-4b6f-97e1-fb16f0fc5314",
   "metadata": {},
   "outputs": [],
   "source": [
    "import warnings\n",
    "warnings.filterwarnings('ignore')\n",
    "\n",
    "from sklearn.preprocessing import MinMaxScaler, StandardScaler\n",
    "\n",
    "scaler = StandardScaler()\n",
    "df_Newtrain[num_vars] = scaler.fit_transform(df_Newtrain[num_vars])\n",
    "df_Newtest[num_vars] = scaler.fit_transform(df_Newtest[num_vars])\n",
    "# df_Newtrain.head(20)"
   ]
  },
  {
   "cell_type": "code",
   "execution_count": 90,
   "id": "e73a3e5d-8927-44ad-9cef-0ecefc6aa3fc",
   "metadata": {},
   "outputs": [],
   "source": [
    "area_train = df_Newtrain.values[:, 0]\n",
    "bedrooms_train = df_Newtrain.values[:, 1]\n",
    "bathrooms_train = df_Newtrain.values[:, 2]\n",
    "stories_train = df_Newtrain.values[:, 3]\n",
    "parking_train = df_Newtrain.values[:, 4]\n",
    "price_train = df_Newtrain.values[:, 5]\n",
    "mainroad_train = df_Newtrain.values[:, 6]\n",
    "guestroom_train = df_Newtrain.values[:, 7]\n",
    "basement_train = df_Newtrain.values[:, 8]\n",
    "hotwaterheating_train = df_Newtrain.values[:, 9]\n",
    "airconditioning_train = df_Newtrain.values[:, 10]\n",
    "prefarea_train = df_Newtrain.values[:, 11]"
   ]
  },
  {
   "cell_type": "code",
   "execution_count": 91,
   "id": "a91f1512-e4fc-425c-aebd-3eebda864ce6",
   "metadata": {},
   "outputs": [
    {
     "data": {
      "text/plain": [
       "array([[-0.56421547],\n",
       "       [-0.56421547],\n",
       "       [ 1.77237252],\n",
       "       [-0.56421547],\n",
       "       [-0.56421547]])"
      ]
     },
     "execution_count": 91,
     "metadata": {},
     "output_type": "execute_result"
    }
   ],
   "source": [
    "x_0 = np.ones((381, 1)) # creating matrix with column of ones\n",
    "area_train1 = area_train.reshape(381,1)\n",
    "area_train1[:5]\n",
    "\n",
    "x_0 = np.ones((381, 1)) # creating matrix with column of ones\n",
    "bedrooms_train1 = bedrooms_train.reshape(381,1)\n",
    "bedrooms_train1[:5]\n",
    "\n",
    "x_0 = np.ones((381, 1)) # creating matrix with column of ones\n",
    "bathrooms_train1 = bathrooms_train.reshape(381,1)\n",
    "bathrooms_train1[:5]\n",
    "\n",
    "x_0 = np.ones((381, 1)) # creating matrix with column of ones\n",
    "stories_train1 = stories_train.reshape(381,1)\n",
    "stories_train1[:5]\n",
    "\n",
    "x_0 = np.ones((381, 1)) # creating matrix with column of ones\n",
    "parking_train1 = parking_train.reshape(381,1)\n",
    "parking_train1[:5]\n",
    "\n",
    "x_0 = np.ones((381, 1)) # creating matrix with column of ones\n",
    "mainroad_train1 = mainroad_train.reshape(381,1)\n",
    "mainroad_train1[:5]\n",
    "\n",
    "x_0 = np.ones((381, 1)) # creating matrix with column of ones\n",
    "guestroom_train1 = guestroom_train.reshape(381,1)\n",
    "guestroom_train1[:5]\n",
    "\n",
    "x_0 = np.ones((381, 1)) # creating matrix with column of ones\n",
    "basement_train1 = basement_train.reshape(381,1)\n",
    "basement_train1[:5]\n",
    "\n",
    "x_0 = np.ones((381, 1)) # creating matrix with column of ones\n",
    "hotwaterheating_train1 = hotwaterheating_train.reshape(381,1)\n",
    "hotwaterheating_train1[:5]\n",
    "\n",
    "x_0 = np.ones((381, 1)) # creating matrix with column of ones\n",
    "airconditioning_train1 = airconditioning_train.reshape(381,1)\n",
    "airconditioning_train1[:5]\n",
    "\n",
    "x_0 = np.ones((381, 1)) # creating matrix with column of ones\n",
    "prefarea_train1 = prefarea_train.reshape(381,1)\n",
    "prefarea_train1[:5]"
   ]
  },
  {
   "cell_type": "code",
   "execution_count": 92,
   "id": "50aef834-2cda-4b56-a881-dcc19a3d74e8",
   "metadata": {},
   "outputs": [
    {
     "data": {
      "text/plain": [
       "array([[1.        , 0.19354839, 0.5       , 0.        , 0.33333333,\n",
       "        0.        , 1.        , 0.        , 0.        , 0.        ,\n",
       "        1.        , 0.        ],\n",
       "       [1.        , 0.1564952 , 0.5       , 0.        , 0.33333333,\n",
       "        0.        , 1.        , 0.        , 0.        , 0.        ,\n",
       "        0.        , 0.        ]])"
      ]
     },
     "execution_count": 92,
     "metadata": {},
     "output_type": "execute_result"
    }
   ],
   "source": [
    "X7 = np.hstack((x_0,area_train1,bedrooms_train1,bathrooms_train1,stories_train1,parking_train1, mainroad_train1, guestroom_train1, basement_train1, hotwaterheating_train1, airconditioning_train1, prefarea_train1))\n",
    "X5[:2]"
   ]
  },
  {
   "cell_type": "code",
   "execution_count": 93,
   "id": "6dfa1a76-6487-4134-b795-5dea40881397",
   "metadata": {},
   "outputs": [
    {
     "name": "stdout",
     "output_type": "stream",
     "text": [
      "The cost for given values of theta_0 and theta_1 = 0.5\n"
     ]
    }
   ],
   "source": [
    "cost = compute_cost(X5, price_train, theta)\n",
    "print('The cost for given values of theta_0 and theta_1 =', cost)"
   ]
  },
  {
   "cell_type": "code",
   "execution_count": 94,
   "id": "5cb053ae-1ae3-4c4c-9720-5836312bdd77",
   "metadata": {},
   "outputs": [
    {
     "data": {
      "text/plain": [
       "array([0., 0., 0., 0., 0., 0., 0., 0., 0., 0., 0., 0.])"
      ]
     },
     "execution_count": 94,
     "metadata": {},
     "output_type": "execute_result"
    }
   ],
   "source": [
    "theta = np.zeros(12)\n",
    "theta"
   ]
  },
  {
   "cell_type": "code",
   "execution_count": 95,
   "id": "4f800380-8cb6-41d0-a6b4-c4ea949f800a",
   "metadata": {},
   "outputs": [],
   "source": [
    "area_test = df_Newtest.values[:, 0]\n",
    "bedrooms_test = df_Newtest.values[:, 1]\n",
    "bathrooms_test = df_Newtest.values[:, 2]\n",
    "stories_test = df_Newtest.values[:, 3]\n",
    "parking_test = df_Newtest.values[:, 4]\n",
    "price_test = df_Newtest.values[:, 5]\n",
    "mainroad_test = df_Newtest.values[:, 6]\n",
    "guestroom_test = df_Newtest.values[:, 7]\n",
    "basement_test = df_Newtest.values[:, 8]\n",
    "hotwaterheating_test = df_Newtest.values[:, 9]\n",
    "airconditioning_test = df_Newtest.values[:, 10]\n",
    "prefarea_test = df_Newtest.values[:, 11]"
   ]
  },
  {
   "cell_type": "code",
   "execution_count": 96,
   "id": "d1022666-46eb-4694-9281-fd291b30d5de",
   "metadata": {},
   "outputs": [
    {
     "data": {
      "text/plain": [
       "array([[-0.53033009],\n",
       "       [ 1.88561808],\n",
       "       [-0.53033009],\n",
       "       [-0.53033009],\n",
       "       [-0.53033009]])"
      ]
     },
     "execution_count": 96,
     "metadata": {},
     "output_type": "execute_result"
    }
   ],
   "source": [
    "x_0 = np.ones((164, 1)) # creating matrix with column of ones\n",
    "area_test1 = area_test.reshape(164,1)\n",
    "area_test1[:5]\n",
    "\n",
    "x_0 = np.ones((164, 1)) # creating matrix with column of ones\n",
    "bedrooms_test1 = bedrooms_test.reshape(164,1)\n",
    "bedrooms_test1[:5]\n",
    "\n",
    "x_0 = np.ones((164, 1)) # creating matrix with column of ones\n",
    "bathrooms_test1 = bathrooms_test.reshape(164,1)\n",
    "bathrooms_test1[:5]\n",
    "\n",
    "x_0 = np.ones((164, 1)) # creating matrix with column of ones\n",
    "stories_test1 = stories_test.reshape(164,1)\n",
    "stories_test1[:5]\n",
    "\n",
    "x_0 = np.ones((164, 1)) # creating matrix with column of ones\n",
    "parking_test1 = parking_test.reshape(164,1)\n",
    "parking_test1[:5]\n",
    "\n",
    "x_0 = np.ones((164, 1)) # creating matrix with column of ones\n",
    "mainroad_test1 = mainroad_test.reshape(164,1)\n",
    "mainroad_test1[:5]\n",
    "\n",
    "x_0 = np.ones((164, 1)) # creating matrix with column of ones\n",
    "guestroom_test1 = guestroom_test.reshape(164,1)\n",
    "guestroom_test1[:5]\n",
    "\n",
    "x_0 = np.ones((164, 1)) # creating matrix with column of ones\n",
    "basement_test1 = basement_test.reshape(164,1)\n",
    "basement_test1[:5]\n",
    "\n",
    "x_0 = np.ones((164, 1)) # creating matrix with column of ones\n",
    "hotwaterheating_test1 = hotwaterheating_test.reshape(164,1)\n",
    "hotwaterheating_test1[:5]\n",
    "\n",
    "x_0 = np.ones((164, 1)) # creating matrix with column of ones\n",
    "airconditioning_test1 = airconditioning_test.reshape(164,1)\n",
    "airconditioning_test1[:5]\n",
    "\n",
    "x_0 = np.ones((164, 1)) # creating matrix with column of ones\n",
    "prefarea_test1 = prefarea_test.reshape(164,1)\n",
    "prefarea_test1[:5]\n"
   ]
  },
  {
   "cell_type": "code",
   "execution_count": 97,
   "id": "2f7865a0-ad39-433a-a01b-ac609eca6d4b",
   "metadata": {},
   "outputs": [
    {
     "data": {
      "text/plain": [
       "array([[ 1.        , -0.52840866, -0.00769436, -0.55021459,  0.26524149,\n",
       "         0.44261462,  0.43405737, -0.4827864 , -0.78978629, -0.22645541,\n",
       "        -0.62436408, -0.53033009],\n",
       "       [ 1.        ,  1.67330604, -0.00769436, -0.55021459, -0.91042351,\n",
       "         1.65242793,  0.43405737, -0.4827864 ,  1.26616531, -0.22645541,\n",
       "        -0.62436408,  1.88561808]])"
      ]
     },
     "execution_count": 97,
     "metadata": {},
     "output_type": "execute_result"
    }
   ],
   "source": [
    "X8 = np.hstack((x_0,area_test1,bedrooms_test1,bathrooms_test1,stories_test1,parking_test1, mainroad_test1, guestroom_test1, basement_test1, hotwaterheating_test1, airconditioning_test1, prefarea_test1))\n",
    "X8[:2]"
   ]
  },
  {
   "cell_type": "code",
   "execution_count": 98,
   "id": "ac66380d-5c52-431d-96ba-034ebe3b41fe",
   "metadata": {},
   "outputs": [
    {
     "name": "stdout",
     "output_type": "stream",
     "text": [
      "The cost for given values of theta_0 and theta_1 = 0.2152230971128609\n"
     ]
    }
   ],
   "source": [
    "cost = compute_cost(X8, price_test, theta)\n",
    "print('The cost for given values of theta_0 and theta_1 =', cost)"
   ]
  },
  {
   "cell_type": "code",
   "execution_count": 99,
   "id": "a97cb973-8b47-47f6-b55b-48460a9b9f77",
   "metadata": {},
   "outputs": [],
   "source": [
    "iterations = 1500;\n",
    "alpha = .003;"
   ]
  },
  {
   "cell_type": "code",
   "execution_count": 100,
   "id": "4430f1e6-e144-4c94-8d39-ed61af77d94c",
   "metadata": {},
   "outputs": [
    {
     "name": "stdout",
     "output_type": "stream",
     "text": [
      "Final value of theta =  [1.75283563e-16 2.63927211e-01 6.96052773e-02 2.44898488e-01\n",
      " 1.93390557e-01 1.20465078e-01 9.48314563e-02 8.68734541e-02\n",
      " 8.87721979e-02 1.35441505e-01 2.30123277e-01 1.63378441e-01]\n",
      "cost_history =  [0.49561806 0.49129684 0.4870355  ... 0.17518038 0.17518013 0.17517988]\n",
      "cost_history2 =  [0.21322131 0.21124658 0.20929852 ... 0.06141368 0.06141381 0.06141394]\n"
     ]
    }
   ],
   "source": [
    "theta, cost_history1, cost_history2 = gradient_descent(X7, X8, price_train, price_test, theta, alpha, iterations)\n",
    "print('Final value of theta = ', theta)\n",
    "print('cost_history = ', cost_history1)\n",
    "print('cost_history2 = ', cost_history2)"
   ]
  },
  {
   "cell_type": "code",
   "execution_count": 101,
   "id": "3d7bb8a5-86e2-417c-94f3-c9e82677ddd7",
   "metadata": {},
   "outputs": [
    {
     "data": {
      "text/plain": [
       "Text(0.5, 1.0, 'Convergence of gradient descent for eleven inputs')"
      ]
     },
     "execution_count": 101,
     "metadata": {},
     "output_type": "execute_result"
    },
    {
     "data": {
      "image/png": "[encoded data removed]",
      "text/plain": [
       "<Figure size 720x432 with 1 Axes>"
      ]
     },
     "metadata": {
      "needs_background": "light"
     },
     "output_type": "display_data"
    }
   ],
   "source": [
    "plt.plot(range(1, iterations + 1),cost_history1, color='blue') # plotting loss function for all three inputs merged\n",
    "plt.plot(range(1, iterations + 1),cost_history2, color='red') # plotting loss function for all three inputs merged\n",
    "plt.rcParams[\"figure.figsize\"] = (10,6)\n",
    "plt.grid()\n",
    "plt.xlabel('Number of iterations')\n",
    "plt.ylabel('Cost (J)')\n",
    "plt.title('Convergence of gradient descent for Problem 2.b Standardization')"
   ]
  },
  {
   "cell_type": "code",
   "execution_count": 102,
   "id": "09cb4b29-2c76-4ea6-998d-1411a1338c7e",
   "metadata": {},
   "outputs": [],
   "source": [
    "#Problem 3.a"
   ]
  },
  {
   "cell_type": "code",
   "execution_count": 134,
   "id": "2bf4653d-e809-4e0e-af2d-dfcd79375090",
   "metadata": {},
   "outputs": [],
   "source": [
    "#Normalization was used for problem 3, the plot for 3.a has a similar but better cost than 2.a"
   ]
  },
  {
   "cell_type": "code",
   "execution_count": null,
   "id": "65c10343-4acc-448f-a7f7-8d20f0f721ef",
   "metadata": {},
   "outputs": [],
   "source": [
    "#Normalization was used for problem 3, the plot for 3.b has a similar but better cost than 2.b"
   ]
  },
  {
   "cell_type": "code",
   "execution_count": null,
   "id": "8d50811a-344a-451c-832e-0a3d670e8328",
   "metadata": {},
   "outputs": [],
   "source": []
  },
  {
   "cell_type": "code",
   "execution_count": null,
   "id": "70ceb800-ead9-452c-b620-9349567d44d3",
   "metadata": {},
   "outputs": [],
   "source": []
  },
  {
   "cell_type": "code",
   "execution_count": 103,
   "id": "6997f5d2-0954-455b-9026-fb4ea71c0632",
   "metadata": {},
   "outputs": [
    {
     "data": {
      "text/plain": [
       "array([0., 0., 0., 0., 0., 0.])"
      ]
     },
     "execution_count": 103,
     "metadata": {},
     "output_type": "execute_result"
    }
   ],
   "source": [
    "theta = np.zeros(6)\n",
    "theta"
   ]
  },
  {
   "cell_type": "code",
   "execution_count": 104,
   "id": "ca794298-45e6-4464-a13c-f053e8ca8e17",
   "metadata": {},
   "outputs": [
    {
     "data": {
      "text/html": [
       "<div>\n",
       "<style scoped>\n",
       "    .dataframe tbody tr th:only-of-type {\n",
       "        vertical-align: middle;\n",
       "    }\n",
       "\n",
       "    .dataframe tbody tr th {\n",
       "        vertical-align: top;\n",
       "    }\n",
       "\n",
       "    .dataframe thead th {\n",
       "        text-align: right;\n",
       "    }\n",
       "</style>\n",
       "<table border=\"1\" class=\"dataframe\">\n",
       "  <thead>\n",
       "    <tr style=\"text-align: right;\">\n",
       "      <th></th>\n",
       "      <th>area</th>\n",
       "      <th>bedrooms</th>\n",
       "      <th>bathrooms</th>\n",
       "      <th>stories</th>\n",
       "      <th>parking</th>\n",
       "      <th>price</th>\n",
       "    </tr>\n",
       "  </thead>\n",
       "  <tbody>\n",
       "    <tr>\n",
       "      <th>454</th>\n",
       "      <td>4500</td>\n",
       "      <td>3</td>\n",
       "      <td>1</td>\n",
       "      <td>2</td>\n",
       "      <td>0</td>\n",
       "      <td>3143000</td>\n",
       "    </tr>\n",
       "    <tr>\n",
       "      <th>392</th>\n",
       "      <td>3990</td>\n",
       "      <td>3</td>\n",
       "      <td>1</td>\n",
       "      <td>2</td>\n",
       "      <td>0</td>\n",
       "      <td>3500000</td>\n",
       "    </tr>\n",
       "    <tr>\n",
       "      <th>231</th>\n",
       "      <td>4320</td>\n",
       "      <td>3</td>\n",
       "      <td>1</td>\n",
       "      <td>1</td>\n",
       "      <td>0</td>\n",
       "      <td>4690000</td>\n",
       "    </tr>\n",
       "    <tr>\n",
       "      <th>271</th>\n",
       "      <td>1905</td>\n",
       "      <td>5</td>\n",
       "      <td>1</td>\n",
       "      <td>2</td>\n",
       "      <td>0</td>\n",
       "      <td>4340000</td>\n",
       "    </tr>\n",
       "    <tr>\n",
       "      <th>250</th>\n",
       "      <td>3510</td>\n",
       "      <td>3</td>\n",
       "      <td>1</td>\n",
       "      <td>3</td>\n",
       "      <td>0</td>\n",
       "      <td>4515000</td>\n",
       "    </tr>\n",
       "  </tbody>\n",
       "</table>\n",
       "</div>"
      ],
      "text/plain": [
       "     area  bedrooms  bathrooms  stories  parking    price\n",
       "454  4500         3          1        2        0  3143000\n",
       "392  3990         3          1        2        0  3500000\n",
       "231  4320         3          1        1        0  4690000\n",
       "271  1905         5          1        2        0  4340000\n",
       "250  3510         3          1        3        0  4515000"
      ]
     },
     "execution_count": 104,
     "metadata": {},
     "output_type": "execute_result"
    }
   ],
   "source": [
    "num_vars = ['area', 'bedrooms', 'bathrooms', 'stories', 'parking', 'price']\n",
    "df_Newtrain = df_train[num_vars]\n",
    "df_Newtest = df_test[num_vars]\n",
    "df_Newtrain.head()\n",
    "# df_Newtest.head()"
   ]
  },
  {
   "cell_type": "code",
   "execution_count": 105,
   "id": "f82b1550-f6ce-4302-a53b-10184fe816e7",
   "metadata": {},
   "outputs": [
    {
     "data": {
      "text/html": [
       "<div>\n",
       "<style scoped>\n",
       "    .dataframe tbody tr th:only-of-type {\n",
       "        vertical-align: middle;\n",
       "    }\n",
       "\n",
       "    .dataframe tbody tr th {\n",
       "        vertical-align: top;\n",
       "    }\n",
       "\n",
       "    .dataframe thead th {\n",
       "        text-align: right;\n",
       "    }\n",
       "</style>\n",
       "<table border=\"1\" class=\"dataframe\">\n",
       "  <thead>\n",
       "    <tr style=\"text-align: right;\">\n",
       "      <th></th>\n",
       "      <th>area</th>\n",
       "      <th>bedrooms</th>\n",
       "      <th>bathrooms</th>\n",
       "      <th>stories</th>\n",
       "      <th>parking</th>\n",
       "      <th>price</th>\n",
       "    </tr>\n",
       "  </thead>\n",
       "  <tbody>\n",
       "    <tr>\n",
       "      <th>454</th>\n",
       "      <td>0.193548</td>\n",
       "      <td>0.50</td>\n",
       "      <td>0.0</td>\n",
       "      <td>0.333333</td>\n",
       "      <td>0.000000</td>\n",
       "      <td>0.120606</td>\n",
       "    </tr>\n",
       "    <tr>\n",
       "      <th>392</th>\n",
       "      <td>0.156495</td>\n",
       "      <td>0.50</td>\n",
       "      <td>0.0</td>\n",
       "      <td>0.333333</td>\n",
       "      <td>0.000000</td>\n",
       "      <td>0.151515</td>\n",
       "    </tr>\n",
       "    <tr>\n",
       "      <th>231</th>\n",
       "      <td>0.180471</td>\n",
       "      <td>0.50</td>\n",
       "      <td>0.0</td>\n",
       "      <td>0.000000</td>\n",
       "      <td>0.000000</td>\n",
       "      <td>0.254545</td>\n",
       "    </tr>\n",
       "    <tr>\n",
       "      <th>271</th>\n",
       "      <td>0.005013</td>\n",
       "      <td>1.00</td>\n",
       "      <td>0.0</td>\n",
       "      <td>0.333333</td>\n",
       "      <td>0.000000</td>\n",
       "      <td>0.224242</td>\n",
       "    </tr>\n",
       "    <tr>\n",
       "      <th>250</th>\n",
       "      <td>0.121622</td>\n",
       "      <td>0.50</td>\n",
       "      <td>0.0</td>\n",
       "      <td>0.666667</td>\n",
       "      <td>0.000000</td>\n",
       "      <td>0.239394</td>\n",
       "    </tr>\n",
       "    <tr>\n",
       "      <th>541</th>\n",
       "      <td>0.040976</td>\n",
       "      <td>0.50</td>\n",
       "      <td>0.0</td>\n",
       "      <td>0.000000</td>\n",
       "      <td>0.000000</td>\n",
       "      <td>0.001485</td>\n",
       "    </tr>\n",
       "    <tr>\n",
       "      <th>461</th>\n",
       "      <td>0.226969</td>\n",
       "      <td>0.25</td>\n",
       "      <td>0.0</td>\n",
       "      <td>0.000000</td>\n",
       "      <td>0.000000</td>\n",
       "      <td>0.115152</td>\n",
       "    </tr>\n",
       "    <tr>\n",
       "      <th>124</th>\n",
       "      <td>0.340671</td>\n",
       "      <td>0.50</td>\n",
       "      <td>0.5</td>\n",
       "      <td>1.000000</td>\n",
       "      <td>0.333333</td>\n",
       "      <td>0.363636</td>\n",
       "    </tr>\n",
       "    <tr>\n",
       "      <th>154</th>\n",
       "      <td>0.131793</td>\n",
       "      <td>0.50</td>\n",
       "      <td>0.5</td>\n",
       "      <td>0.333333</td>\n",
       "      <td>0.666667</td>\n",
       "      <td>0.327273</td>\n",
       "    </tr>\n",
       "    <tr>\n",
       "      <th>451</th>\n",
       "      <td>0.357018</td>\n",
       "      <td>0.25</td>\n",
       "      <td>0.0</td>\n",
       "      <td>0.000000</td>\n",
       "      <td>0.000000</td>\n",
       "      <td>0.121212</td>\n",
       "    </tr>\n",
       "    <tr>\n",
       "      <th>59</th>\n",
       "      <td>0.302528</td>\n",
       "      <td>0.50</td>\n",
       "      <td>0.5</td>\n",
       "      <td>1.000000</td>\n",
       "      <td>0.333333</td>\n",
       "      <td>0.472727</td>\n",
       "    </tr>\n",
       "    <tr>\n",
       "      <th>493</th>\n",
       "      <td>0.154316</td>\n",
       "      <td>0.50</td>\n",
       "      <td>0.0</td>\n",
       "      <td>0.000000</td>\n",
       "      <td>0.000000</td>\n",
       "      <td>0.090909</td>\n",
       "    </tr>\n",
       "    <tr>\n",
       "      <th>465</th>\n",
       "      <td>0.142691</td>\n",
       "      <td>0.25</td>\n",
       "      <td>0.0</td>\n",
       "      <td>0.000000</td>\n",
       "      <td>0.000000</td>\n",
       "      <td>0.112121</td>\n",
       "    </tr>\n",
       "    <tr>\n",
       "      <th>490</th>\n",
       "      <td>0.182650</td>\n",
       "      <td>0.50</td>\n",
       "      <td>0.0</td>\n",
       "      <td>0.333333</td>\n",
       "      <td>0.333333</td>\n",
       "      <td>0.093939</td>\n",
       "    </tr>\n",
       "    <tr>\n",
       "      <th>540</th>\n",
       "      <td>0.084568</td>\n",
       "      <td>0.25</td>\n",
       "      <td>0.0</td>\n",
       "      <td>0.000000</td>\n",
       "      <td>0.666667</td>\n",
       "      <td>0.006061</td>\n",
       "    </tr>\n",
       "    <tr>\n",
       "      <th>406</th>\n",
       "      <td>0.253124</td>\n",
       "      <td>0.25</td>\n",
       "      <td>0.0</td>\n",
       "      <td>0.000000</td>\n",
       "      <td>0.333333</td>\n",
       "      <td>0.148485</td>\n",
       "    </tr>\n",
       "    <tr>\n",
       "      <th>289</th>\n",
       "      <td>0.291630</td>\n",
       "      <td>0.25</td>\n",
       "      <td>0.0</td>\n",
       "      <td>0.000000</td>\n",
       "      <td>0.666667</td>\n",
       "      <td>0.212121</td>\n",
       "    </tr>\n",
       "    <tr>\n",
       "      <th>190</th>\n",
       "      <td>0.418774</td>\n",
       "      <td>0.75</td>\n",
       "      <td>0.0</td>\n",
       "      <td>0.333333</td>\n",
       "      <td>0.666667</td>\n",
       "      <td>0.284848</td>\n",
       "    </tr>\n",
       "    <tr>\n",
       "      <th>55</th>\n",
       "      <td>0.302528</td>\n",
       "      <td>0.50</td>\n",
       "      <td>0.0</td>\n",
       "      <td>0.333333</td>\n",
       "      <td>0.333333</td>\n",
       "      <td>0.484848</td>\n",
       "    </tr>\n",
       "    <tr>\n",
       "      <th>171</th>\n",
       "      <td>0.612685</td>\n",
       "      <td>0.50</td>\n",
       "      <td>0.0</td>\n",
       "      <td>0.000000</td>\n",
       "      <td>0.333333</td>\n",
       "      <td>0.303030</td>\n",
       "    </tr>\n",
       "  </tbody>\n",
       "</table>\n",
       "</div>"
      ],
      "text/plain": [
       "         area  bedrooms  bathrooms   stories   parking     price\n",
       "454  0.193548      0.50        0.0  0.333333  0.000000  0.120606\n",
       "392  0.156495      0.50        0.0  0.333333  0.000000  0.151515\n",
       "231  0.180471      0.50        0.0  0.000000  0.000000  0.254545\n",
       "271  0.005013      1.00        0.0  0.333333  0.000000  0.224242\n",
       "250  0.121622      0.50        0.0  0.666667  0.000000  0.239394\n",
       "541  0.040976      0.50        0.0  0.000000  0.000000  0.001485\n",
       "461  0.226969      0.25        0.0  0.000000  0.000000  0.115152\n",
       "124  0.340671      0.50        0.5  1.000000  0.333333  0.363636\n",
       "154  0.131793      0.50        0.5  0.333333  0.666667  0.327273\n",
       "451  0.357018      0.25        0.0  0.000000  0.000000  0.121212\n",
       "59   0.302528      0.50        0.5  1.000000  0.333333  0.472727\n",
       "493  0.154316      0.50        0.0  0.000000  0.000000  0.090909\n",
       "465  0.142691      0.25        0.0  0.000000  0.000000  0.112121\n",
       "490  0.182650      0.50        0.0  0.333333  0.333333  0.093939\n",
       "540  0.084568      0.25        0.0  0.000000  0.666667  0.006061\n",
       "406  0.253124      0.25        0.0  0.000000  0.333333  0.148485\n",
       "289  0.291630      0.25        0.0  0.000000  0.666667  0.212121\n",
       "190  0.418774      0.75        0.0  0.333333  0.666667  0.284848\n",
       "55   0.302528      0.50        0.0  0.333333  0.333333  0.484848\n",
       "171  0.612685      0.50        0.0  0.000000  0.333333  0.303030"
      ]
     },
     "execution_count": 105,
     "metadata": {},
     "output_type": "execute_result"
    }
   ],
   "source": [
    "import warnings\n",
    "warnings.filterwarnings('ignore')\n",
    "\n",
    "from sklearn.preprocessing import MinMaxScaler, StandardScaler\n",
    "\n",
    "scaler = MinMaxScaler()\n",
    "df_Newtrain[num_vars] = scaler.fit_transform(df_Newtrain[num_vars])\n",
    "df_Newtest[num_vars] = scaler.fit_transform(df_Newtest[num_vars])\n",
    "df_Newtrain.head(20)"
   ]
  },
  {
   "cell_type": "code",
   "execution_count": 106,
   "id": "7a0c30f4-9af7-45c0-b839-b21d57c8ef2c",
   "metadata": {},
   "outputs": [],
   "source": [
    "area_train = df_Newtrain.values[:, 0]\n",
    "bedrooms_train = df_Newtrain.values[:, 1]\n",
    "bathrooms_train = df_Newtrain.values[:, 2]\n",
    "stories_train = df_Newtrain.values[:, 3]\n",
    "parking_train = df_Newtrain.values[:, 4]\n",
    "price_train = df_Newtrain.values[:, 5]"
   ]
  },
  {
   "cell_type": "code",
   "execution_count": 107,
   "id": "c09baf4f-d755-4bb8-8921-72fe5b33fbfe",
   "metadata": {},
   "outputs": [
    {
     "data": {
      "text/plain": [
       "array([[0.],\n",
       "       [0.],\n",
       "       [0.],\n",
       "       [0.],\n",
       "       [0.]])"
      ]
     },
     "execution_count": 107,
     "metadata": {},
     "output_type": "execute_result"
    }
   ],
   "source": [
    "x_0 = np.ones((381, 1)) # creating matrix with column of ones\n",
    "area_train1 = area_train.reshape(381,1)\n",
    "area_train1[:5]\n",
    "\n",
    "x_0 = np.ones((381, 1)) # creating matrix with column of ones\n",
    "bedrooms_train1 = bedrooms_train.reshape(381,1)\n",
    "bedrooms_train1[:5]\n",
    "\n",
    "x_0 = np.ones((381, 1)) # creating matrix with column of ones\n",
    "bathrooms_train1 = bathrooms_train.reshape(381,1)\n",
    "bathrooms_train1[:5]\n",
    "\n",
    "x_0 = np.ones((381, 1)) # creating matrix with column of ones\n",
    "stories_train1 = stories_train.reshape(381,1)\n",
    "stories_train1[:5]\n",
    "\n",
    "x_0 = np.ones((381, 1)) # creating matrix with column of ones\n",
    "parking_train1 = parking_train.reshape(381,1)\n",
    "parking_train1[:5]"
   ]
  },
  {
   "cell_type": "code",
   "execution_count": 108,
   "id": "aa3acbce-069c-4ced-9d73-9f2798323de6",
   "metadata": {},
   "outputs": [
    {
     "data": {
      "text/plain": [
       "array([[1.        , 0.19354839, 0.5       , 0.        , 0.33333333,\n",
       "        0.        ],\n",
       "       [1.        , 0.1564952 , 0.5       , 0.        , 0.33333333,\n",
       "        0.        ]])"
      ]
     },
     "execution_count": 108,
     "metadata": {},
     "output_type": "execute_result"
    }
   ],
   "source": [
    "X9 = np.hstack((x_0,area_train1,bedrooms_train1,bathrooms_train1,stories_train1,parking_train1))\n",
    "X9[:2]"
   ]
  },
  {
   "cell_type": "code",
   "execution_count": 109,
   "id": "29e193ee-d234-4ed9-9e0a-9b4b3ee22153",
   "metadata": {},
   "outputs": [
    {
     "name": "stdout",
     "output_type": "stream",
     "text": [
      "The cost for given values of theta_0 and theta_1 = 0.033043906990303365\n"
     ]
    }
   ],
   "source": [
    "cost = compute_cost1(X9, price_train, theta, .01)\n",
    "print('The cost for given values of theta_0 and theta_1 =', cost)"
   ]
  },
  {
   "cell_type": "code",
   "execution_count": 110,
   "id": "e13c7c50-d71c-4152-9253-e64c5e211b59",
   "metadata": {},
   "outputs": [
    {
     "data": {
      "text/plain": [
       "array([0., 0., 0., 0., 0., 0.])"
      ]
     },
     "execution_count": 110,
     "metadata": {},
     "output_type": "execute_result"
    }
   ],
   "source": [
    "theta = np.zeros(6)\n",
    "theta"
   ]
  },
  {
   "cell_type": "code",
   "execution_count": 111,
   "id": "7e3d6e8e-9325-47d2-8f0b-ac065c7030c5",
   "metadata": {},
   "outputs": [],
   "source": [
    "area_test = df_Newtest.values[:, 0]\n",
    "bedrooms_test = df_Newtest.values[:, 1]\n",
    "bathrooms_test = df_Newtest.values[:, 2]\n",
    "stories_test = df_Newtest.values[:, 3]\n",
    "parking_test = df_Newtest.values[:, 4]\n",
    "price_test = df_Newtest.values[:, 5]"
   ]
  },
  {
   "cell_type": "code",
   "execution_count": 112,
   "id": "bd587174-19e2-4383-ab9b-c81cdfef74da",
   "metadata": {},
   "outputs": [
    {
     "data": {
      "text/plain": [
       "array([[0.33333333],\n",
       "       [0.66666667],\n",
       "       [0.        ],\n",
       "       [0.33333333],\n",
       "       [0.        ]])"
      ]
     },
     "execution_count": 112,
     "metadata": {},
     "output_type": "execute_result"
    }
   ],
   "source": [
    "x_0 = np.ones((164, 1)) # creating matrix with column of ones\n",
    "area_test1 = area_test.reshape(164,1)\n",
    "area_test1[:5]\n",
    "\n",
    "x_0 = np.ones((164, 1)) # creating matrix with column of ones\n",
    "bedrooms_test1 = bedrooms_test.reshape(164,1)\n",
    "bedrooms_test1[:5]\n",
    "\n",
    "x_0 = np.ones((164, 1)) # creating matrix with column of ones\n",
    "bathrooms_test1 = bathrooms_test.reshape(164,1)\n",
    "bathrooms_test1[:5]\n",
    "\n",
    "x_0 = np.ones((164, 1)) # creating matrix with column of ones\n",
    "stories_test1 = stories_test.reshape(164,1)\n",
    "stories_test1[:5]\n",
    "\n",
    "x_0 = np.ones((164, 1)) # creating matrix with column of ones\n",
    "parking_test1 = parking_test.reshape(164,1)\n",
    "parking_test1[:5]"
   ]
  },
  {
   "cell_type": "code",
   "execution_count": 113,
   "id": "3d2c93e6-9de9-482b-93e7-b0c0ba065db3",
   "metadata": {},
   "outputs": [
    {
     "data": {
      "text/plain": [
       "array([[1.        , 0.16151203, 0.4       , 0.        , 0.33333333,\n",
       "        0.33333333],\n",
       "       [1.        , 0.54776632, 0.4       , 0.        , 0.        ,\n",
       "        0.66666667]])"
      ]
     },
     "execution_count": 113,
     "metadata": {},
     "output_type": "execute_result"
    }
   ],
   "source": [
    "X10 = np.hstack((x_0,area_test1,bedrooms_test1,bathrooms_test1,stories_test1,parking_test1))\n",
    "X10[:2]"
   ]
  },
  {
   "cell_type": "code",
   "execution_count": 114,
   "id": "dd883512-b8af-48e9-bb98-ca2c293ccab0",
   "metadata": {},
   "outputs": [
    {
     "name": "stdout",
     "output_type": "stream",
     "text": [
      "The cost for given values of theta_0 and theta_1 = 0.024499234179060952\n"
     ]
    }
   ],
   "source": [
    "cost = compute_cost(X10, price_test, theta)\n",
    "print('The cost for given values of theta_0 and theta_1 =', cost)"
   ]
  },
  {
   "cell_type": "code",
   "execution_count": 115,
   "id": "76496f70-9576-401d-a37e-49f657e7a3d1",
   "metadata": {},
   "outputs": [],
   "source": [
    "theta = np.zeros(6)\n",
    "iterations = 1500;\n",
    "alpha = .005;"
   ]
  },
  {
   "cell_type": "code",
   "execution_count": 116,
   "id": "6a34ecea-3e83-4ee4-af0f-ccd9bbe92cb4",
   "metadata": {},
   "outputs": [
    {
     "name": "stdout",
     "output_type": "stream",
     "text": [
      "Final value of theta =  [0.14382533 0.08090122 0.09765716 0.0834845  0.09207396 0.08410115]\n",
      "cost_history =  [0.03277513 0.0325091  0.03224579 ... 0.00578538 0.00578488 0.00578437]\n",
      "cost_history2 =  [0.02432363 0.0241497  0.02397743 ... 0.004335   0.00433458 0.00433416]\n"
     ]
    }
   ],
   "source": [
    "theta, cost_history1, cost_history2 = gradient_descent1(X9, X10, price_train, price_test, theta, alpha, iterations, 0.01)\n",
    "print('Final value of theta = ', theta)\n",
    "print('cost_history = ', cost_history1)\n",
    "print('cost_history2 = ', cost_history2)"
   ]
  },
  {
   "cell_type": "code",
   "execution_count": 117,
   "id": "3cbd39cc-19aa-4153-978a-35769901c448",
   "metadata": {},
   "outputs": [
    {
     "data": {
      "text/plain": [
       "Text(0.5, 1.0, 'Convergence of gradient descent for eleven inputs')"
      ]
     },
     "execution_count": 117,
     "metadata": {},
     "output_type": "execute_result"
    },
    {
     "data": {
      "image/png": "[encoded data removed]",
      "text/plain": [
       "<Figure size 720x432 with 1 Axes>"
      ]
     },
     "metadata": {
      "needs_background": "light"
     },
     "output_type": "display_data"
    }
   ],
   "source": [
    "plt.plot(range(1, iterations + 1),cost_history1, color='blue') # plotting loss function for all three inputs merged\n",
    "plt.plot(range(1, iterations + 1),cost_history2, color='red') # plotting loss function for all three inputs merged\n",
    "plt.rcParams[\"figure.figsize\"] = (10,6)\n",
    "plt.grid()\n",
    "plt.xlabel('Number of iterations')\n",
    "plt.ylabel('Cost (J)')\n",
    "plt.title('Convergence of gradient descent for Problem 3.a')"
   ]
  },
  {
   "cell_type": "code",
   "execution_count": 118,
   "id": "fb5688ab-1425-43ee-b708-95902cb2b04d",
   "metadata": {},
   "outputs": [],
   "source": [
    "#Problem 3.b"
   ]
  },
  {
   "cell_type": "code",
   "execution_count": null,
   "id": "6c8a2cef-08a3-4e6b-aaf1-7e9c13069a65",
   "metadata": {},
   "outputs": [],
   "source": []
  },
  {
   "cell_type": "code",
   "execution_count": null,
   "id": "dcfb312c-734f-4956-9a27-5fad60b8f2f1",
   "metadata": {},
   "outputs": [],
   "source": []
  },
  {
   "cell_type": "code",
   "execution_count": null,
   "id": "91597135-28db-49ad-aa63-3e4bbcd388c6",
   "metadata": {},
   "outputs": [],
   "source": []
  },
  {
   "cell_type": "code",
   "execution_count": null,
   "id": "669ebfa0-50cb-40fc-9c14-915d54a41111",
   "metadata": {},
   "outputs": [],
   "source": []
  },
  {
   "cell_type": "code",
   "execution_count": 119,
   "id": "77dc0ea4-202e-4a71-b28a-b10048b176c0",
   "metadata": {},
   "outputs": [
    {
     "data": {
      "text/plain": [
       "array([0., 0., 0., 0., 0., 0., 0., 0., 0., 0., 0., 0.])"
      ]
     },
     "execution_count": 119,
     "metadata": {},
     "output_type": "execute_result"
    }
   ],
   "source": [
    "theta = np.zeros(12)\n",
    "theta"
   ]
  },
  {
   "cell_type": "code",
   "execution_count": 120,
   "id": "033b4821-047e-4761-8743-d257c3d73f8f",
   "metadata": {},
   "outputs": [
    {
     "data": {
      "text/html": [
       "<div>\n",
       "<style scoped>\n",
       "    .dataframe tbody tr th:only-of-type {\n",
       "        vertical-align: middle;\n",
       "    }\n",
       "\n",
       "    .dataframe tbody tr th {\n",
       "        vertical-align: top;\n",
       "    }\n",
       "\n",
       "    .dataframe thead th {\n",
       "        text-align: right;\n",
       "    }\n",
       "</style>\n",
       "<table border=\"1\" class=\"dataframe\">\n",
       "  <thead>\n",
       "    <tr style=\"text-align: right;\">\n",
       "      <th></th>\n",
       "      <th>area</th>\n",
       "      <th>bedrooms</th>\n",
       "      <th>bathrooms</th>\n",
       "      <th>stories</th>\n",
       "      <th>parking</th>\n",
       "      <th>price</th>\n",
       "      <th>mainroad</th>\n",
       "      <th>guestroom</th>\n",
       "      <th>basement</th>\n",
       "      <th>hotwaterheating</th>\n",
       "      <th>airconditioning</th>\n",
       "      <th>prefarea</th>\n",
       "    </tr>\n",
       "  </thead>\n",
       "  <tbody>\n",
       "    <tr>\n",
       "      <th>454</th>\n",
       "      <td>4500</td>\n",
       "      <td>3</td>\n",
       "      <td>1</td>\n",
       "      <td>2</td>\n",
       "      <td>0</td>\n",
       "      <td>3143000</td>\n",
       "      <td>1</td>\n",
       "      <td>0</td>\n",
       "      <td>0</td>\n",
       "      <td>0</td>\n",
       "      <td>1</td>\n",
       "      <td>0</td>\n",
       "    </tr>\n",
       "    <tr>\n",
       "      <th>392</th>\n",
       "      <td>3990</td>\n",
       "      <td>3</td>\n",
       "      <td>1</td>\n",
       "      <td>2</td>\n",
       "      <td>0</td>\n",
       "      <td>3500000</td>\n",
       "      <td>1</td>\n",
       "      <td>0</td>\n",
       "      <td>0</td>\n",
       "      <td>0</td>\n",
       "      <td>0</td>\n",
       "      <td>0</td>\n",
       "    </tr>\n",
       "    <tr>\n",
       "      <th>231</th>\n",
       "      <td>4320</td>\n",
       "      <td>3</td>\n",
       "      <td>1</td>\n",
       "      <td>1</td>\n",
       "      <td>0</td>\n",
       "      <td>4690000</td>\n",
       "      <td>1</td>\n",
       "      <td>0</td>\n",
       "      <td>0</td>\n",
       "      <td>0</td>\n",
       "      <td>0</td>\n",
       "      <td>1</td>\n",
       "    </tr>\n",
       "    <tr>\n",
       "      <th>271</th>\n",
       "      <td>1905</td>\n",
       "      <td>5</td>\n",
       "      <td>1</td>\n",
       "      <td>2</td>\n",
       "      <td>0</td>\n",
       "      <td>4340000</td>\n",
       "      <td>0</td>\n",
       "      <td>0</td>\n",
       "      <td>1</td>\n",
       "      <td>0</td>\n",
       "      <td>0</td>\n",
       "      <td>0</td>\n",
       "    </tr>\n",
       "    <tr>\n",
       "      <th>250</th>\n",
       "      <td>3510</td>\n",
       "      <td>3</td>\n",
       "      <td>1</td>\n",
       "      <td>3</td>\n",
       "      <td>0</td>\n",
       "      <td>4515000</td>\n",
       "      <td>1</td>\n",
       "      <td>0</td>\n",
       "      <td>0</td>\n",
       "      <td>0</td>\n",
       "      <td>0</td>\n",
       "      <td>0</td>\n",
       "    </tr>\n",
       "  </tbody>\n",
       "</table>\n",
       "</div>"
      ],
      "text/plain": [
       "     area  bedrooms  bathrooms  stories  parking    price  mainroad  \\\n",
       "454  4500         3          1        2        0  3143000         1   \n",
       "392  3990         3          1        2        0  3500000         1   \n",
       "231  4320         3          1        1        0  4690000         1   \n",
       "271  1905         5          1        2        0  4340000         0   \n",
       "250  3510         3          1        3        0  4515000         1   \n",
       "\n",
       "     guestroom  basement  hotwaterheating  airconditioning  prefarea  \n",
       "454          0         0                0                1         0  \n",
       "392          0         0                0                0         0  \n",
       "231          0         0                0                0         1  \n",
       "271          0         1                0                0         0  \n",
       "250          0         0                0                0         0  "
      ]
     },
     "execution_count": 120,
     "metadata": {},
     "output_type": "execute_result"
    }
   ],
   "source": [
    "num_vars = ['area', 'bedrooms', 'bathrooms', 'stories', 'parking', 'price', 'mainroad', 'guestroom', 'basement', 'hotwaterheating', 'airconditioning', 'prefarea']\n",
    "df_Newtrain = df_train[num_vars]\n",
    "df_Newtest = df_test[num_vars]\n",
    "df_Newtrain.head()\n",
    "# df_Newtest.head()"
   ]
  },
  {
   "cell_type": "code",
   "execution_count": 121,
   "id": "4c4c71c9-64e1-4e24-994a-9833973ef49e",
   "metadata": {},
   "outputs": [
    {
     "data": {
      "text/html": [
       "<div>\n",
       "<style scoped>\n",
       "    .dataframe tbody tr th:only-of-type {\n",
       "        vertical-align: middle;\n",
       "    }\n",
       "\n",
       "    .dataframe tbody tr th {\n",
       "        vertical-align: top;\n",
       "    }\n",
       "\n",
       "    .dataframe thead th {\n",
       "        text-align: right;\n",
       "    }\n",
       "</style>\n",
       "<table border=\"1\" class=\"dataframe\">\n",
       "  <thead>\n",
       "    <tr style=\"text-align: right;\">\n",
       "      <th></th>\n",
       "      <th>area</th>\n",
       "      <th>bedrooms</th>\n",
       "      <th>bathrooms</th>\n",
       "      <th>stories</th>\n",
       "      <th>parking</th>\n",
       "      <th>price</th>\n",
       "      <th>mainroad</th>\n",
       "      <th>guestroom</th>\n",
       "      <th>basement</th>\n",
       "      <th>hotwaterheating</th>\n",
       "      <th>airconditioning</th>\n",
       "      <th>prefarea</th>\n",
       "    </tr>\n",
       "  </thead>\n",
       "  <tbody>\n",
       "    <tr>\n",
       "      <th>454</th>\n",
       "      <td>0.193548</td>\n",
       "      <td>0.50</td>\n",
       "      <td>0.0</td>\n",
       "      <td>0.333333</td>\n",
       "      <td>0.000000</td>\n",
       "      <td>0.120606</td>\n",
       "      <td>1.0</td>\n",
       "      <td>0.0</td>\n",
       "      <td>0.0</td>\n",
       "      <td>0.0</td>\n",
       "      <td>1.0</td>\n",
       "      <td>0.0</td>\n",
       "    </tr>\n",
       "    <tr>\n",
       "      <th>392</th>\n",
       "      <td>0.156495</td>\n",
       "      <td>0.50</td>\n",
       "      <td>0.0</td>\n",
       "      <td>0.333333</td>\n",
       "      <td>0.000000</td>\n",
       "      <td>0.151515</td>\n",
       "      <td>1.0</td>\n",
       "      <td>0.0</td>\n",
       "      <td>0.0</td>\n",
       "      <td>0.0</td>\n",
       "      <td>0.0</td>\n",
       "      <td>0.0</td>\n",
       "    </tr>\n",
       "    <tr>\n",
       "      <th>231</th>\n",
       "      <td>0.180471</td>\n",
       "      <td>0.50</td>\n",
       "      <td>0.0</td>\n",
       "      <td>0.000000</td>\n",
       "      <td>0.000000</td>\n",
       "      <td>0.254545</td>\n",
       "      <td>1.0</td>\n",
       "      <td>0.0</td>\n",
       "      <td>0.0</td>\n",
       "      <td>0.0</td>\n",
       "      <td>0.0</td>\n",
       "      <td>1.0</td>\n",
       "    </tr>\n",
       "    <tr>\n",
       "      <th>271</th>\n",
       "      <td>0.005013</td>\n",
       "      <td>1.00</td>\n",
       "      <td>0.0</td>\n",
       "      <td>0.333333</td>\n",
       "      <td>0.000000</td>\n",
       "      <td>0.224242</td>\n",
       "      <td>0.0</td>\n",
       "      <td>0.0</td>\n",
       "      <td>1.0</td>\n",
       "      <td>0.0</td>\n",
       "      <td>0.0</td>\n",
       "      <td>0.0</td>\n",
       "    </tr>\n",
       "    <tr>\n",
       "      <th>250</th>\n",
       "      <td>0.121622</td>\n",
       "      <td>0.50</td>\n",
       "      <td>0.0</td>\n",
       "      <td>0.666667</td>\n",
       "      <td>0.000000</td>\n",
       "      <td>0.239394</td>\n",
       "      <td>1.0</td>\n",
       "      <td>0.0</td>\n",
       "      <td>0.0</td>\n",
       "      <td>0.0</td>\n",
       "      <td>0.0</td>\n",
       "      <td>0.0</td>\n",
       "    </tr>\n",
       "    <tr>\n",
       "      <th>541</th>\n",
       "      <td>0.040976</td>\n",
       "      <td>0.50</td>\n",
       "      <td>0.0</td>\n",
       "      <td>0.000000</td>\n",
       "      <td>0.000000</td>\n",
       "      <td>0.001485</td>\n",
       "      <td>0.0</td>\n",
       "      <td>0.0</td>\n",
       "      <td>0.0</td>\n",
       "      <td>0.0</td>\n",
       "      <td>0.0</td>\n",
       "      <td>0.0</td>\n",
       "    </tr>\n",
       "    <tr>\n",
       "      <th>461</th>\n",
       "      <td>0.226969</td>\n",
       "      <td>0.25</td>\n",
       "      <td>0.0</td>\n",
       "      <td>0.000000</td>\n",
       "      <td>0.000000</td>\n",
       "      <td>0.115152</td>\n",
       "      <td>1.0</td>\n",
       "      <td>0.0</td>\n",
       "      <td>1.0</td>\n",
       "      <td>0.0</td>\n",
       "      <td>1.0</td>\n",
       "      <td>0.0</td>\n",
       "    </tr>\n",
       "    <tr>\n",
       "      <th>124</th>\n",
       "      <td>0.340671</td>\n",
       "      <td>0.50</td>\n",
       "      <td>0.5</td>\n",
       "      <td>1.000000</td>\n",
       "      <td>0.333333</td>\n",
       "      <td>0.363636</td>\n",
       "      <td>1.0</td>\n",
       "      <td>0.0</td>\n",
       "      <td>0.0</td>\n",
       "      <td>0.0</td>\n",
       "      <td>0.0</td>\n",
       "      <td>0.0</td>\n",
       "    </tr>\n",
       "    <tr>\n",
       "      <th>154</th>\n",
       "      <td>0.131793</td>\n",
       "      <td>0.50</td>\n",
       "      <td>0.5</td>\n",
       "      <td>0.333333</td>\n",
       "      <td>0.666667</td>\n",
       "      <td>0.327273</td>\n",
       "      <td>1.0</td>\n",
       "      <td>0.0</td>\n",
       "      <td>0.0</td>\n",
       "      <td>0.0</td>\n",
       "      <td>0.0</td>\n",
       "      <td>0.0</td>\n",
       "    </tr>\n",
       "    <tr>\n",
       "      <th>451</th>\n",
       "      <td>0.357018</td>\n",
       "      <td>0.25</td>\n",
       "      <td>0.0</td>\n",
       "      <td>0.000000</td>\n",
       "      <td>0.000000</td>\n",
       "      <td>0.121212</td>\n",
       "      <td>1.0</td>\n",
       "      <td>0.0</td>\n",
       "      <td>0.0</td>\n",
       "      <td>0.0</td>\n",
       "      <td>0.0</td>\n",
       "      <td>0.0</td>\n",
       "    </tr>\n",
       "    <tr>\n",
       "      <th>59</th>\n",
       "      <td>0.302528</td>\n",
       "      <td>0.50</td>\n",
       "      <td>0.5</td>\n",
       "      <td>1.000000</td>\n",
       "      <td>0.333333</td>\n",
       "      <td>0.472727</td>\n",
       "      <td>1.0</td>\n",
       "      <td>1.0</td>\n",
       "      <td>0.0</td>\n",
       "      <td>0.0</td>\n",
       "      <td>1.0</td>\n",
       "      <td>0.0</td>\n",
       "    </tr>\n",
       "    <tr>\n",
       "      <th>493</th>\n",
       "      <td>0.154316</td>\n",
       "      <td>0.50</td>\n",
       "      <td>0.0</td>\n",
       "      <td>0.000000</td>\n",
       "      <td>0.000000</td>\n",
       "      <td>0.090909</td>\n",
       "      <td>1.0</td>\n",
       "      <td>0.0</td>\n",
       "      <td>0.0</td>\n",
       "      <td>0.0</td>\n",
       "      <td>0.0</td>\n",
       "      <td>0.0</td>\n",
       "    </tr>\n",
       "    <tr>\n",
       "      <th>465</th>\n",
       "      <td>0.142691</td>\n",
       "      <td>0.25</td>\n",
       "      <td>0.0</td>\n",
       "      <td>0.000000</td>\n",
       "      <td>0.000000</td>\n",
       "      <td>0.112121</td>\n",
       "      <td>1.0</td>\n",
       "      <td>0.0</td>\n",
       "      <td>0.0</td>\n",
       "      <td>0.0</td>\n",
       "      <td>0.0</td>\n",
       "      <td>0.0</td>\n",
       "    </tr>\n",
       "    <tr>\n",
       "      <th>490</th>\n",
       "      <td>0.182650</td>\n",
       "      <td>0.50</td>\n",
       "      <td>0.0</td>\n",
       "      <td>0.333333</td>\n",
       "      <td>0.333333</td>\n",
       "      <td>0.093939</td>\n",
       "      <td>0.0</td>\n",
       "      <td>0.0</td>\n",
       "      <td>0.0</td>\n",
       "      <td>1.0</td>\n",
       "      <td>0.0</td>\n",
       "      <td>0.0</td>\n",
       "    </tr>\n",
       "    <tr>\n",
       "      <th>540</th>\n",
       "      <td>0.084568</td>\n",
       "      <td>0.25</td>\n",
       "      <td>0.0</td>\n",
       "      <td>0.000000</td>\n",
       "      <td>0.666667</td>\n",
       "      <td>0.006061</td>\n",
       "      <td>1.0</td>\n",
       "      <td>0.0</td>\n",
       "      <td>1.0</td>\n",
       "      <td>0.0</td>\n",
       "      <td>0.0</td>\n",
       "      <td>0.0</td>\n",
       "    </tr>\n",
       "    <tr>\n",
       "      <th>406</th>\n",
       "      <td>0.253124</td>\n",
       "      <td>0.25</td>\n",
       "      <td>0.0</td>\n",
       "      <td>0.000000</td>\n",
       "      <td>0.333333</td>\n",
       "      <td>0.148485</td>\n",
       "      <td>1.0</td>\n",
       "      <td>0.0</td>\n",
       "      <td>0.0</td>\n",
       "      <td>0.0</td>\n",
       "      <td>0.0</td>\n",
       "      <td>1.0</td>\n",
       "    </tr>\n",
       "    <tr>\n",
       "      <th>289</th>\n",
       "      <td>0.291630</td>\n",
       "      <td>0.25</td>\n",
       "      <td>0.0</td>\n",
       "      <td>0.000000</td>\n",
       "      <td>0.666667</td>\n",
       "      <td>0.212121</td>\n",
       "      <td>1.0</td>\n",
       "      <td>1.0</td>\n",
       "      <td>1.0</td>\n",
       "      <td>0.0</td>\n",
       "      <td>0.0</td>\n",
       "      <td>0.0</td>\n",
       "    </tr>\n",
       "    <tr>\n",
       "      <th>190</th>\n",
       "      <td>0.418774</td>\n",
       "      <td>0.75</td>\n",
       "      <td>0.0</td>\n",
       "      <td>0.333333</td>\n",
       "      <td>0.666667</td>\n",
       "      <td>0.284848</td>\n",
       "      <td>1.0</td>\n",
       "      <td>0.0</td>\n",
       "      <td>0.0</td>\n",
       "      <td>0.0</td>\n",
       "      <td>1.0</td>\n",
       "      <td>0.0</td>\n",
       "    </tr>\n",
       "    <tr>\n",
       "      <th>55</th>\n",
       "      <td>0.302528</td>\n",
       "      <td>0.50</td>\n",
       "      <td>0.0</td>\n",
       "      <td>0.333333</td>\n",
       "      <td>0.333333</td>\n",
       "      <td>0.484848</td>\n",
       "      <td>1.0</td>\n",
       "      <td>0.0</td>\n",
       "      <td>0.0</td>\n",
       "      <td>0.0</td>\n",
       "      <td>1.0</td>\n",
       "      <td>0.0</td>\n",
       "    </tr>\n",
       "    <tr>\n",
       "      <th>171</th>\n",
       "      <td>0.612685</td>\n",
       "      <td>0.50</td>\n",
       "      <td>0.0</td>\n",
       "      <td>0.000000</td>\n",
       "      <td>0.333333</td>\n",
       "      <td>0.303030</td>\n",
       "      <td>1.0</td>\n",
       "      <td>0.0</td>\n",
       "      <td>0.0</td>\n",
       "      <td>0.0</td>\n",
       "      <td>0.0</td>\n",
       "      <td>1.0</td>\n",
       "    </tr>\n",
       "  </tbody>\n",
       "</table>\n",
       "</div>"
      ],
      "text/plain": [
       "         area  bedrooms  bathrooms   stories   parking     price  mainroad  \\\n",
       "454  0.193548      0.50        0.0  0.333333  0.000000  0.120606       1.0   \n",
       "392  0.156495      0.50        0.0  0.333333  0.000000  0.151515       1.0   \n",
       "231  0.180471      0.50        0.0  0.000000  0.000000  0.254545       1.0   \n",
       "271  0.005013      1.00        0.0  0.333333  0.000000  0.224242       0.0   \n",
       "250  0.121622      0.50        0.0  0.666667  0.000000  0.239394       1.0   \n",
       "541  0.040976      0.50        0.0  0.000000  0.000000  0.001485       0.0   \n",
       "461  0.226969      0.25        0.0  0.000000  0.000000  0.115152       1.0   \n",
       "124  0.340671      0.50        0.5  1.000000  0.333333  0.363636       1.0   \n",
       "154  0.131793      0.50        0.5  0.333333  0.666667  0.327273       1.0   \n",
       "451  0.357018      0.25        0.0  0.000000  0.000000  0.121212       1.0   \n",
       "59   0.302528      0.50        0.5  1.000000  0.333333  0.472727       1.0   \n",
       "493  0.154316      0.50        0.0  0.000000  0.000000  0.090909       1.0   \n",
       "465  0.142691      0.25        0.0  0.000000  0.000000  0.112121       1.0   \n",
       "490  0.182650      0.50        0.0  0.333333  0.333333  0.093939       0.0   \n",
       "540  0.084568      0.25        0.0  0.000000  0.666667  0.006061       1.0   \n",
       "406  0.253124      0.25        0.0  0.000000  0.333333  0.148485       1.0   \n",
       "289  0.291630      0.25        0.0  0.000000  0.666667  0.212121       1.0   \n",
       "190  0.418774      0.75        0.0  0.333333  0.666667  0.284848       1.0   \n",
       "55   0.302528      0.50        0.0  0.333333  0.333333  0.484848       1.0   \n",
       "171  0.612685      0.50        0.0  0.000000  0.333333  0.303030       1.0   \n",
       "\n",
       "     guestroom  basement  hotwaterheating  airconditioning  prefarea  \n",
       "454        0.0       0.0              0.0              1.0       0.0  \n",
       "392        0.0       0.0              0.0              0.0       0.0  \n",
       "231        0.0       0.0              0.0              0.0       1.0  \n",
       "271        0.0       1.0              0.0              0.0       0.0  \n",
       "250        0.0       0.0              0.0              0.0       0.0  \n",
       "541        0.0       0.0              0.0              0.0       0.0  \n",
       "461        0.0       1.0              0.0              1.0       0.0  \n",
       "124        0.0       0.0              0.0              0.0       0.0  \n",
       "154        0.0       0.0              0.0              0.0       0.0  \n",
       "451        0.0       0.0              0.0              0.0       0.0  \n",
       "59         1.0       0.0              0.0              1.0       0.0  \n",
       "493        0.0       0.0              0.0              0.0       0.0  \n",
       "465        0.0       0.0              0.0              0.0       0.0  \n",
       "490        0.0       0.0              1.0              0.0       0.0  \n",
       "540        0.0       1.0              0.0              0.0       0.0  \n",
       "406        0.0       0.0              0.0              0.0       1.0  \n",
       "289        1.0       1.0              0.0              0.0       0.0  \n",
       "190        0.0       0.0              0.0              1.0       0.0  \n",
       "55         0.0       0.0              0.0              1.0       0.0  \n",
       "171        0.0       0.0              0.0              0.0       1.0  "
      ]
     },
     "execution_count": 121,
     "metadata": {},
     "output_type": "execute_result"
    }
   ],
   "source": [
    "import warnings\n",
    "warnings.filterwarnings('ignore')\n",
    "\n",
    "from sklearn.preprocessing import MinMaxScaler, StandardScaler\n",
    "\n",
    "scaler = MinMaxScaler()\n",
    "df_Newtrain[num_vars] = scaler.fit_transform(df_Newtrain[num_vars])\n",
    "df_Newtest[num_vars] = scaler.fit_transform(df_Newtest[num_vars])\n",
    "df_Newtrain.head(20)"
   ]
  },
  {
   "cell_type": "code",
   "execution_count": 122,
   "id": "f8307a5c-119d-4ea5-8c56-bca5311f35a2",
   "metadata": {},
   "outputs": [],
   "source": [
    "area_train = df_Newtrain.values[:, 0]\n",
    "bedrooms_train = df_Newtrain.values[:, 1]\n",
    "bathrooms_train = df_Newtrain.values[:, 2]\n",
    "stories_train = df_Newtrain.values[:, 3]\n",
    "parking_train = df_Newtrain.values[:, 4]\n",
    "price_train = df_Newtrain.values[:, 5]\n",
    "mainroad_train = df_Newtrain.values[:, 6]\n",
    "guestroom_train = df_Newtrain.values[:, 7]\n",
    "basement_train = df_Newtrain.values[:, 8]\n",
    "hotwaterheating_train = df_Newtrain.values[:, 9]\n",
    "airconditioning_train = df_Newtrain.values[:, 10]\n",
    "prefarea_train = df_Newtrain.values[:, 11]"
   ]
  },
  {
   "cell_type": "code",
   "execution_count": 123,
   "id": "c535eda3-e750-4c79-8847-370dd2cb1a44",
   "metadata": {},
   "outputs": [
    {
     "data": {
      "text/plain": [
       "array([[0.],\n",
       "       [0.],\n",
       "       [1.],\n",
       "       [0.],\n",
       "       [0.]])"
      ]
     },
     "execution_count": 123,
     "metadata": {},
     "output_type": "execute_result"
    }
   ],
   "source": [
    "x_0 = np.ones((381, 1)) # creating matrix with column of ones\n",
    "area_train1 = area_train.reshape(381,1)\n",
    "area_train1[:5]\n",
    "\n",
    "x_0 = np.ones((381, 1)) # creating matrix with column of ones\n",
    "bedrooms_train1 = bedrooms_train.reshape(381,1)\n",
    "bedrooms_train1[:5]\n",
    "\n",
    "x_0 = np.ones((381, 1)) # creating matrix with column of ones\n",
    "bathrooms_train1 = bathrooms_train.reshape(381,1)\n",
    "bathrooms_train1[:5]\n",
    "\n",
    "x_0 = np.ones((381, 1)) # creating matrix with column of ones\n",
    "stories_train1 = stories_train.reshape(381,1)\n",
    "stories_train1[:5]\n",
    "\n",
    "x_0 = np.ones((381, 1)) # creating matrix with column of ones\n",
    "parking_train1 = parking_train.reshape(381,1)\n",
    "parking_train1[:5]\n",
    "\n",
    "x_0 = np.ones((381, 1)) # creating matrix with column of ones\n",
    "mainroad_train1 = mainroad_train.reshape(381,1)\n",
    "mainroad_train1[:5]\n",
    "\n",
    "x_0 = np.ones((381, 1)) # creating matrix with column of ones\n",
    "guestroom_train1 = guestroom_train.reshape(381,1)\n",
    "guestroom_train1[:5]\n",
    "\n",
    "x_0 = np.ones((381, 1)) # creating matrix with column of ones\n",
    "basement_train1 = basement_train.reshape(381,1)\n",
    "basement_train1[:5]\n",
    "\n",
    "x_0 = np.ones((381, 1)) # creating matrix with column of ones\n",
    "hotwaterheating_train1 = hotwaterheating_train.reshape(381,1)\n",
    "hotwaterheating_train1[:5]\n",
    "\n",
    "x_0 = np.ones((381, 1)) # creating matrix with column of ones\n",
    "airconditioning_train1 = airconditioning_train.reshape(381,1)\n",
    "airconditioning_train1[:5]\n",
    "\n",
    "x_0 = np.ones((381, 1)) # creating matrix with column of ones\n",
    "prefarea_train1 = prefarea_train.reshape(381,1)\n",
    "prefarea_train1[:5]"
   ]
  },
  {
   "cell_type": "code",
   "execution_count": 124,
   "id": "70f13474-fe60-4986-b7c2-14756a33e19d",
   "metadata": {},
   "outputs": [
    {
     "data": {
      "text/plain": [
       "array([[1.        , 0.19354839, 0.5       , 0.        , 0.33333333,\n",
       "        0.        , 1.        , 0.        , 0.        , 0.        ,\n",
       "        1.        , 0.        ],\n",
       "       [1.        , 0.1564952 , 0.5       , 0.        , 0.33333333,\n",
       "        0.        , 1.        , 0.        , 0.        , 0.        ,\n",
       "        0.        , 0.        ]])"
      ]
     },
     "execution_count": 124,
     "metadata": {},
     "output_type": "execute_result"
    }
   ],
   "source": [
    "X11 = np.hstack((x_0,area_train1,bedrooms_train1,bathrooms_train1,stories_train1,parking_train1, mainroad_train1, guestroom_train1, basement_train1, hotwaterheating_train1, airconditioning_train1, prefarea_train1))\n",
    "X11[:2]"
   ]
  },
  {
   "cell_type": "code",
   "execution_count": 125,
   "id": "b472fe4b-8d0d-4780-a14f-0163784f4654",
   "metadata": {},
   "outputs": [
    {
     "name": "stdout",
     "output_type": "stream",
     "text": [
      "The cost for given values of theta_0 and theta_1 = 0.033043906990303365\n"
     ]
    }
   ],
   "source": [
    "cost = compute_cost1(X11, price_train, theta, .01)\n",
    "print('The cost for given values of theta_0 and theta_1 =', cost)"
   ]
  },
  {
   "cell_type": "code",
   "execution_count": 126,
   "id": "1d6ca284-2158-4148-bc93-51647910ef4e",
   "metadata": {},
   "outputs": [
    {
     "data": {
      "text/plain": [
       "array([0., 0., 0., 0., 0., 0., 0., 0., 0., 0., 0., 0.])"
      ]
     },
     "execution_count": 126,
     "metadata": {},
     "output_type": "execute_result"
    }
   ],
   "source": [
    "theta = np.zeros(12)\n",
    "theta"
   ]
  },
  {
   "cell_type": "code",
   "execution_count": 127,
   "id": "8d2aaa50-3928-44e5-b4fe-a4ff074d1a2f",
   "metadata": {},
   "outputs": [],
   "source": [
    "area_test = df_Newtest.values[:, 0]\n",
    "bedrooms_test = df_Newtest.values[:, 1]\n",
    "bathrooms_test = df_Newtest.values[:, 2]\n",
    "stories_test = df_Newtest.values[:, 3]\n",
    "parking_test = df_Newtest.values[:, 4]\n",
    "price_test = df_Newtest.values[:, 5]\n",
    "mainroad_test = df_Newtest.values[:, 6]\n",
    "guestroom_test = df_Newtest.values[:, 7]\n",
    "basement_test = df_Newtest.values[:, 8]\n",
    "hotwaterheating_test = df_Newtest.values[:, 9]\n",
    "airconditioning_test = df_Newtest.values[:, 10]\n",
    "prefarea_test = df_Newtest.values[:, 11]"
   ]
  },
  {
   "cell_type": "code",
   "execution_count": 128,
   "id": "215d2718-0e7a-48e6-84d5-6855f5445d4d",
   "metadata": {},
   "outputs": [
    {
     "data": {
      "text/plain": [
       "array([[0.],\n",
       "       [1.],\n",
       "       [0.],\n",
       "       [0.],\n",
       "       [0.]])"
      ]
     },
     "execution_count": 128,
     "metadata": {},
     "output_type": "execute_result"
    }
   ],
   "source": [
    "x_0 = np.ones((164, 1)) # creating matrix with column of ones\n",
    "area_test1 = area_test.reshape(164,1)\n",
    "area_test1[:5]\n",
    "\n",
    "x_0 = np.ones((164, 1)) # creating matrix with column of ones\n",
    "bedrooms_test1 = bedrooms_test.reshape(164,1)\n",
    "bedrooms_test1[:5]\n",
    "\n",
    "x_0 = np.ones((164, 1)) # creating matrix with column of ones\n",
    "bathrooms_test1 = bathrooms_test.reshape(164,1)\n",
    "bathrooms_test1[:5]\n",
    "\n",
    "x_0 = np.ones((164, 1)) # creating matrix with column of ones\n",
    "stories_test1 = stories_test.reshape(164,1)\n",
    "stories_test1[:5]\n",
    "\n",
    "x_0 = np.ones((164, 1)) # creating matrix with column of ones\n",
    "parking_test1 = parking_test.reshape(164,1)\n",
    "parking_test1[:5]\n",
    "\n",
    "x_0 = np.ones((164, 1)) # creating matrix with column of ones\n",
    "mainroad_test1 = mainroad_test.reshape(164,1)\n",
    "mainroad_test1[:5]\n",
    "\n",
    "x_0 = np.ones((164, 1)) # creating matrix with column of ones\n",
    "guestroom_test1 = guestroom_test.reshape(164,1)\n",
    "guestroom_test1[:5]\n",
    "\n",
    "x_0 = np.ones((164, 1)) # creating matrix with column of ones\n",
    "basement_test1 = basement_test.reshape(164,1)\n",
    "basement_test1[:5]\n",
    "\n",
    "x_0 = np.ones((164, 1)) # creating matrix with column of ones\n",
    "hotwaterheating_test1 = hotwaterheating_test.reshape(164,1)\n",
    "hotwaterheating_test1[:5]\n",
    "\n",
    "x_0 = np.ones((164, 1)) # creating matrix with column of ones\n",
    "airconditioning_test1 = airconditioning_test.reshape(164,1)\n",
    "airconditioning_test1[:5]\n",
    "\n",
    "x_0 = np.ones((164, 1)) # creating matrix with column of ones\n",
    "prefarea_test1 = prefarea_test.reshape(164,1)\n",
    "prefarea_test1[:5]"
   ]
  },
  {
   "cell_type": "code",
   "execution_count": 129,
   "id": "e1d3ccb1-2af5-43eb-af63-1315f84ae724",
   "metadata": {},
   "outputs": [
    {
     "data": {
      "text/plain": [
       "array([[1.        , 0.16151203, 0.4       , 0.        , 0.33333333,\n",
       "        0.33333333, 1.        , 0.        , 0.        , 0.        ,\n",
       "        0.        , 0.        ],\n",
       "       [1.        , 0.54776632, 0.4       , 0.        , 0.        ,\n",
       "        0.66666667, 1.        , 0.        , 1.        , 0.        ,\n",
       "        0.        , 1.        ]])"
      ]
     },
     "execution_count": 129,
     "metadata": {},
     "output_type": "execute_result"
    }
   ],
   "source": [
    "X12 = np.hstack((x_0,area_test1,bedrooms_test1,bathrooms_test1,stories_test1,parking_test1, mainroad_test1, guestroom_test1, basement_test1, hotwaterheating_test1, airconditioning_test1, prefarea_test1))\n",
    "X12[:2]"
   ]
  },
  {
   "cell_type": "code",
   "execution_count": 130,
   "id": "6a21dc5e-06e6-4556-861c-2ceeaf2c5d65",
   "metadata": {},
   "outputs": [
    {
     "name": "stdout",
     "output_type": "stream",
     "text": [
      "The cost for given values of theta_0 and theta_1 = 0.024499234179060952\n"
     ]
    }
   ],
   "source": [
    "cost = compute_cost(X12, price_test, theta)\n",
    "print('The cost for given values of theta_0 and theta_1 =', cost)"
   ]
  },
  {
   "cell_type": "code",
   "execution_count": 131,
   "id": "9ff4a374-58da-406b-b35a-363244af5238",
   "metadata": {},
   "outputs": [],
   "source": [
    "theta = np.zeros(6)\n",
    "iterations = 1500;\n",
    "alpha = .005;"
   ]
  },
  {
   "cell_type": "code",
   "execution_count": 132,
   "id": "50288f11-7d13-4b84-8869-3032b687a016",
   "metadata": {},
   "outputs": [
    {
     "name": "stdout",
     "output_type": "stream",
     "text": [
      "Final value of theta =  [0.14382533 0.08090122 0.09765716 0.0834845  0.09207396 0.08410115]\n",
      "cost_history =  [0.03277513 0.0325091  0.03224579 ... 0.00578538 0.00578488 0.00578437]\n",
      "cost_history2 =  [0.02432363 0.0241497  0.02397743 ... 0.004335   0.00433458 0.00433416]\n"
     ]
    }
   ],
   "source": [
    "theta, cost_history1, cost_history2 = gradient_descent1(X9, X10, price_train, price_test, theta, alpha, iterations, 0.01)\n",
    "print('Final value of theta = ', theta)\n",
    "print('cost_history = ', cost_history1)\n",
    "print('cost_history2 = ', cost_history2)"
   ]
  },
  {
   "cell_type": "code",
   "execution_count": 133,
   "id": "56e3bbc4-c104-461a-b8dd-756039719e33",
   "metadata": {},
   "outputs": [
    {
     "data": {
      "text/plain": [
       "Text(0.5, 1.0, 'Convergence of gradient descent for eleven inputs')"
      ]
     },
     "execution_count": 133,
     "metadata": {},
     "output_type": "execute_result"
    },
    {
     "data": {
      "image/png": "[encoded data removed]",
      "text/plain": [
       "<Figure size 720x432 with 1 Axes>"
      ]
     },
     "metadata": {
      "needs_background": "light"
     },
     "output_type": "display_data"
    }
   ],
   "source": [
    "plt.plot(range(1, iterations + 1),cost_history1, color='blue') # plotting loss function for all three inputs merged\n",
    "plt.plot(range(1, iterations + 1),cost_history2, color='red') # plotting loss function for all three inputs merged\n",
    "plt.rcParams[\"figure.figsize\"] = (10,6)\n",
    "plt.grid()\n",
    "plt.xlabel('Number of iterations')\n",
    "plt.ylabel('Cost (J)')\n",
    "plt.title('Convergence of gradient descent for Problem 3.b')"
   ]
  }
 ],
 "metadata": {
  "kernelspec": {
   "display_name": "Python 3",
   "language": "python",
   "name": "python3"
  },
  "language_info": {
   "codemirror_mode": {
    "name": "ipython",
    "version": 3
   },
   "file_extension": ".py",
   "mimetype": "text/x-python",
   "name": "python",
   "nbconvert_exporter": "python",
   "pygments_lexer": "ipython3",
   "version": "3.8.8"
  }
 },
 "nbformat": 4,
 "nbformat_minor": 5
}
