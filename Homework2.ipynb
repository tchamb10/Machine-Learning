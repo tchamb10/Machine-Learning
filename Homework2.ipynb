{
 "cells": [
  {
   "cell_type": "code",
   "execution_count": 1,
   "id": "182ed542-a37e-442a-b05e-8cca749c1d8a",
   "metadata": {},
   "outputs": [],
   "source": [
    "import numpy as np\n",
    "import matplotlib.pyplot as plt\n",
    "import pandas as pd\n",
    "from sklearn.model_selection import train_test_split, RepeatedKFold, cross_validate\n",
    "from sklearn.preprocessing import StandardScaler\n",
    "from sklearn.linear_model import LogisticRegression\n",
    "from sklearn.metrics import confusion_matrix,accuracy_score\n",
    "from sklearn import metrics\n",
    "import seaborn as sns\n",
    "from matplotlib.colors import ListedColormap\n",
    "from sklearn.naive_bayes import GaussianNB\n",
    "import warnings\n"
   ]
  },
  {
   "cell_type": "code",
   "execution_count": 2,
   "id": "be153c4e-4086-4b11-a13e-5f4b456021b0",
   "metadata": {},
   "outputs": [],
   "source": [
    "# Problem 1"
   ]
  },
  {
   "cell_type": "code",
   "execution_count": null,
   "id": "7ad41dfe-0b35-49fc-9283-e74ead01aa36",
   "metadata": {},
   "outputs": [],
   "source": [
    "# The confusion matrix is shown in cell 12\n",
    "\n",
    "# The accuracy, Precision, and Recall are all shown in cell 11"
   ]
  },
  {
   "cell_type": "code",
   "execution_count": 3,
   "id": "ee54e82b-0fb6-4330-aae8-36aa99821ef0",
   "metadata": {},
   "outputs": [
    {
     "data": {
      "text/html": [
       "<div>\n",
       "<style scoped>\n",
       "    .dataframe tbody tr th:only-of-type {\n",
       "        vertical-align: middle;\n",
       "    }\n",
       "\n",
       "    .dataframe tbody tr th {\n",
       "        vertical-align: top;\n",
       "    }\n",
       "\n",
       "    .dataframe thead th {\n",
       "        text-align: right;\n",
       "    }\n",
       "</style>\n",
       "<table border=\"1\" class=\"dataframe\">\n",
       "  <thead>\n",
       "    <tr style=\"text-align: right;\">\n",
       "      <th></th>\n",
       "      <th>Pregnancies</th>\n",
       "      <th>Glucose</th>\n",
       "      <th>BloodPressure</th>\n",
       "      <th>SkinThickness</th>\n",
       "      <th>Insulin</th>\n",
       "      <th>BMI</th>\n",
       "      <th>DiabetesPedigreeFunction</th>\n",
       "      <th>Age</th>\n",
       "      <th>Outcome</th>\n",
       "    </tr>\n",
       "  </thead>\n",
       "  <tbody>\n",
       "    <tr>\n",
       "      <th>0</th>\n",
       "      <td>6</td>\n",
       "      <td>148</td>\n",
       "      <td>72</td>\n",
       "      <td>35</td>\n",
       "      <td>0</td>\n",
       "      <td>33.6</td>\n",
       "      <td>0.627</td>\n",
       "      <td>50</td>\n",
       "      <td>1</td>\n",
       "    </tr>\n",
       "    <tr>\n",
       "      <th>1</th>\n",
       "      <td>1</td>\n",
       "      <td>85</td>\n",
       "      <td>66</td>\n",
       "      <td>29</td>\n",
       "      <td>0</td>\n",
       "      <td>26.6</td>\n",
       "      <td>0.351</td>\n",
       "      <td>31</td>\n",
       "      <td>0</td>\n",
       "    </tr>\n",
       "    <tr>\n",
       "      <th>2</th>\n",
       "      <td>8</td>\n",
       "      <td>183</td>\n",
       "      <td>64</td>\n",
       "      <td>0</td>\n",
       "      <td>0</td>\n",
       "      <td>23.3</td>\n",
       "      <td>0.672</td>\n",
       "      <td>32</td>\n",
       "      <td>1</td>\n",
       "    </tr>\n",
       "    <tr>\n",
       "      <th>3</th>\n",
       "      <td>1</td>\n",
       "      <td>89</td>\n",
       "      <td>66</td>\n",
       "      <td>23</td>\n",
       "      <td>94</td>\n",
       "      <td>28.1</td>\n",
       "      <td>0.167</td>\n",
       "      <td>21</td>\n",
       "      <td>0</td>\n",
       "    </tr>\n",
       "    <tr>\n",
       "      <th>4</th>\n",
       "      <td>0</td>\n",
       "      <td>137</td>\n",
       "      <td>40</td>\n",
       "      <td>35</td>\n",
       "      <td>168</td>\n",
       "      <td>43.1</td>\n",
       "      <td>2.288</td>\n",
       "      <td>33</td>\n",
       "      <td>1</td>\n",
       "    </tr>\n",
       "  </tbody>\n",
       "</table>\n",
       "</div>"
      ],
      "text/plain": [
       "   Pregnancies  Glucose  BloodPressure  SkinThickness  Insulin   BMI  \\\n",
       "0            6      148             72             35        0  33.6   \n",
       "1            1       85             66             29        0  26.6   \n",
       "2            8      183             64              0        0  23.3   \n",
       "3            1       89             66             23       94  28.1   \n",
       "4            0      137             40             35      168  43.1   \n",
       "\n",
       "   DiabetesPedigreeFunction  Age  Outcome  \n",
       "0                     0.627   50        1  \n",
       "1                     0.351   31        0  \n",
       "2                     0.672   32        1  \n",
       "3                     0.167   21        0  \n",
       "4                     2.288   33        1  "
      ]
     },
     "execution_count": 3,
     "metadata": {},
     "output_type": "execute_result"
    }
   ],
   "source": [
    "dataset = pd.read_csv('diabetes.csv') # import data\n",
    "dataset.head()"
   ]
  },
  {
   "cell_type": "code",
   "execution_count": 4,
   "id": "8918a537-2119-470f-a4ff-95939d684c42",
   "metadata": {},
   "outputs": [],
   "source": [
    "Y = dataset.iloc[:,8] # Outcome set to Y variable\n",
    "X = dataset.iloc[:,[0,1,2,3,4,5,6,7]] # Other inputs set to X variable"
   ]
  },
  {
   "cell_type": "code",
   "execution_count": 5,
   "id": "419836b8-fb4c-4213-b4bf-c5a96cb4943a",
   "metadata": {},
   "outputs": [],
   "source": [
    "X_train, X_test, Y_train, Y_test = train_test_split(X,Y,test_size=0.2, random_state=0) # splitting the data"
   ]
  },
  {
   "cell_type": "code",
   "execution_count": 6,
   "id": "fbfcab3b-3876-4ab4-9b79-04685357bd30",
   "metadata": {},
   "outputs": [],
   "source": [
    "sc_X = StandardScaler() # setting scaler to scale data\n",
    "X_train = sc_X.fit_transform(X_train) # scaling the data\n",
    "X_test = sc_X.transform(X_test) # scaling the data"
   ]
  },
  {
   "cell_type": "code",
   "execution_count": 7,
   "id": "da4ecc1e-a793-43d9-979e-28445fdb2682",
   "metadata": {},
   "outputs": [
    {
     "data": {
      "text/plain": [
       "LogisticRegression(random_state=0)"
      ]
     },
     "execution_count": 7,
     "metadata": {},
     "output_type": "execute_result"
    }
   ],
   "source": [
    "classifier = LogisticRegression(random_state=0) # setting classifier as log regression\n",
    "classifier.fit(X_train,Y_train) # fitting the training data for log regression"
   ]
  },
  {
   "cell_type": "code",
   "execution_count": 8,
   "id": "60b62f4a-4a77-4a1c-8662-ce62e77aa3b1",
   "metadata": {},
   "outputs": [],
   "source": [
    "Y_pred = classifier.predict(X_test) # predicting the outcome based on test data"
   ]
  },
  {
   "cell_type": "code",
   "execution_count": 9,
   "id": "59381107-259d-465b-8963-4028807c211a",
   "metadata": {},
   "outputs": [
    {
     "data": {
      "text/plain": [
       "array([1, 0, 0, 1, 0, 0, 1, 1, 0], dtype=int64)"
      ]
     },
     "execution_count": 9,
     "metadata": {},
     "output_type": "execute_result"
    }
   ],
   "source": [
    "Y_pred[0:9]"
   ]
  },
  {
   "cell_type": "code",
   "execution_count": 10,
   "id": "a81f79d0-d12a-457b-a796-157b3d3008db",
   "metadata": {},
   "outputs": [
    {
     "data": {
      "text/plain": [
       "array([[98,  9],\n",
       "       [18, 29]], dtype=int64)"
      ]
     },
     "execution_count": 10,
     "metadata": {},
     "output_type": "execute_result"
    }
   ],
   "source": [
    "cnf_matrix = confusion_matrix(Y_test,Y_pred) # setting up confusion matrix\n",
    "cnf_matrix"
   ]
  },
  {
   "cell_type": "code",
   "execution_count": 11,
   "id": "538d9546-99c1-45d8-b551-99da83103602",
   "metadata": {},
   "outputs": [
    {
     "name": "stdout",
     "output_type": "stream",
     "text": [
      "Accuracy: 0.8246753246753247\n",
      "Precision: 0.7631578947368421\n",
      "Recall: 0.6170212765957447\n"
     ]
    }
   ],
   "source": [
    "print(\"Accuracy:\",metrics.accuracy_score(Y_test,Y_pred)) # Accuracy for Log Regression\n",
    "print(\"Precision:\",metrics.precision_score(Y_test,Y_pred)) # Precision for log Regression\n",
    "print(\"Recall:\",metrics.recall_score(Y_test,Y_pred)) # Recall for log Regression"
   ]
  },
  {
   "cell_type": "code",
   "execution_count": 12,
   "id": "e820a5a2-4b6a-4327-8c27-b8aff5213303",
   "metadata": {},
   "outputs": [
    {
     "data": {
      "text/plain": [
       "Text(0.5, 257.44, 'Predicted label')"
      ]
     },
     "execution_count": 12,
     "metadata": {},
     "output_type": "execute_result"
    },
    {
     "data": {
      "image/png": "[encoded data removed]",
      "text/plain": [
       "<Figure size 432x288 with 2 Axes>"
      ]
     },
     "metadata": {
      "needs_background": "light"
     },
     "output_type": "display_data"
    }
   ],
   "source": [
    "# plotting confusion matrix\n",
    "class_names = [0,1]\n",
    "fig, ax = plt.subplots()\n",
    "tick_marks = np.arange(len(class_names))\n",
    "plt.xticks(tick_marks,class_names)\n",
    "plt.yticks(tick_marks,class_names)\n",
    "\n",
    "sns.heatmap(pd.DataFrame(cnf_matrix), annot=True, cmap=\"YlGnBu\", fmt='g')\n",
    "ax.xaxis.set_label_position(\"top\")\n",
    "plt.tight_layout()\n",
    "plt.title('Confusion Matrix', y=1.1)\n",
    "plt.ylabel('Actual label')\n",
    "plt.xlabel('Predicted label')"
   ]
  },
  {
   "cell_type": "code",
   "execution_count": null,
   "id": "52f037e2-f3ae-4798-a406-459fabdd6a78",
   "metadata": {},
   "outputs": [],
   "source": []
  },
  {
   "cell_type": "code",
   "execution_count": null,
   "id": "f0faf7e4-eddc-4fb3-a8d8-f81b0e95a59b",
   "metadata": {},
   "outputs": [],
   "source": []
  },
  {
   "cell_type": "code",
   "execution_count": null,
   "id": "60fb078d-9842-410c-bf5e-d4d8f782f66a",
   "metadata": {},
   "outputs": [],
   "source": []
  },
  {
   "cell_type": "code",
   "execution_count": null,
   "id": "1b976199-bcc3-46c8-b139-d30ca6c0c863",
   "metadata": {},
   "outputs": [],
   "source": []
  },
  {
   "cell_type": "code",
   "execution_count": 13,
   "id": "68d290c9-5028-41be-b22b-3e23759f239d",
   "metadata": {},
   "outputs": [],
   "source": [
    "# Problem 2"
   ]
  },
  {
   "cell_type": "code",
   "execution_count": 14,
   "id": "cc296d82-2fd5-471f-a379-411feb57069b",
   "metadata": {},
   "outputs": [],
   "source": [
    "# The Logistic Regression is more accurate than Naive Bays from my results\n",
    "# Meaning this methad is less accurate than the method (Logistic Regression) that\n",
    "# was used in Problem 1, this is shown in cell 19"
   ]
  },
  {
   "cell_type": "code",
   "execution_count": null,
   "id": "b81e4196-dc96-4dee-92f2-fe1634a14e10",
   "metadata": {},
   "outputs": [],
   "source": [
    "# The confusion matrix is shown in cell 20\n",
    "\n",
    "# The accuracy, Precision, and Recall are shown in cell 19"
   ]
  },
  {
   "cell_type": "code",
   "execution_count": 15,
   "id": "88eac100-02be-498b-b2d2-496f653ff6da",
   "metadata": {},
   "outputs": [
    {
     "data": {
      "text/plain": [
       "GaussianNB()"
      ]
     },
     "execution_count": 15,
     "metadata": {},
     "output_type": "execute_result"
    }
   ],
   "source": [
    "classifier = GaussianNB() # setting classifier to Naive Bays\n",
    "classifier.fit(X_train, Y_train) # fitting the data to the classifier using training data"
   ]
  },
  {
   "cell_type": "code",
   "execution_count": 16,
   "id": "8286b1e2-d421-475d-aea9-0990cf4560cd",
   "metadata": {},
   "outputs": [],
   "source": [
    "Y2_pred = classifier.predict(X_test) # predicting outcome"
   ]
  },
  {
   "cell_type": "code",
   "execution_count": 17,
   "id": "1834cec9-fc20-4cbf-a5d9-71adae0d47df",
   "metadata": {},
   "outputs": [
    {
     "data": {
      "text/plain": [
       "array([1, 0, 0, 1, 0, 0, 1, 1, 1, 0, 1, 1, 0, 1, 0, 0, 1, 0, 0, 0, 1, 0,\n",
       "       0, 0, 0, 0, 0, 1, 0, 0, 0, 0, 0, 0, 0, 1, 1, 0, 0, 1, 0, 0, 0, 1,\n",
       "       1, 0, 0, 0, 0, 0, 0, 0, 1, 1, 0, 0, 0, 0, 0, 0, 1, 1, 0, 1, 1, 1,\n",
       "       1, 0, 0, 0, 0, 0, 0, 1, 1, 0, 0, 1, 0, 0, 0, 0, 0, 0, 0, 0, 0, 0,\n",
       "       1, 0, 0, 0, 0, 0, 1, 0, 0, 1, 1, 0, 0, 0, 0, 0, 1, 0, 0, 0, 0, 1,\n",
       "       0, 0, 1, 1, 1, 1, 0, 1, 0, 1, 0, 1, 0, 1, 0, 0, 0, 0, 0, 0, 0, 0,\n",
       "       0, 1, 0, 0, 0, 0, 1, 0, 0, 0, 0, 0, 0, 0, 0, 0, 0, 0, 0, 0, 0, 0],\n",
       "      dtype=int64)"
      ]
     },
     "execution_count": 17,
     "metadata": {},
     "output_type": "execute_result"
    }
   ],
   "source": [
    "Y2_pred"
   ]
  },
  {
   "cell_type": "code",
   "execution_count": 18,
   "id": "c3dfa6e8-5073-45e6-96c3-08eac2230e85",
   "metadata": {},
   "outputs": [
    {
     "data": {
      "text/plain": [
       "array([[93, 14],\n",
       "       [18, 29]], dtype=int64)"
      ]
     },
     "execution_count": 18,
     "metadata": {},
     "output_type": "execute_result"
    }
   ],
   "source": [
    "cm = confusion_matrix(Y_test, Y2_pred) # setting up confusion matrix\n",
    "cm"
   ]
  },
  {
   "cell_type": "code",
   "execution_count": 19,
   "id": "1d1f3aa1-4471-4246-a427-1ae65a306cde",
   "metadata": {},
   "outputs": [
    {
     "name": "stdout",
     "output_type": "stream",
     "text": [
      "Accuracy: 0.7922077922077922\n",
      "Precision: 0.6744186046511628\n",
      "Recall: 0.6170212765957447\n"
     ]
    }
   ],
   "source": [
    "print(\"Accuracy:\",metrics.accuracy_score(Y_test,Y2_pred)) # Accuracy for Naive Bays\n",
    "print(\"Precision:\",metrics.precision_score(Y_test,Y2_pred)) # Precision for Naive Bays\n",
    "print(\"Recall:\",metrics.recall_score(Y_test,Y2_pred)) # Recall for Naive Bays"
   ]
  },
  {
   "cell_type": "code",
   "execution_count": 20,
   "id": "d407619c-670d-4156-908a-6569ba4b27c2",
   "metadata": {},
   "outputs": [
    {
     "data": {
      "text/plain": [
       "Text(0.5, 257.44, 'Predicted label')"
      ]
     },
     "execution_count": 20,
     "metadata": {},
     "output_type": "execute_result"
    },
    {
     "data": {
      "image/png": "[encoded data removed]",
      "text/plain": [
       "<Figure size 432x288 with 2 Axes>"
      ]
     },
     "metadata": {
      "needs_background": "light"
     },
     "output_type": "display_data"
    }
   ],
   "source": [
    "# plotting confusion matrix\n",
    "class_names = [0,1]\n",
    "fig, ax = plt.subplots()\n",
    "tick_marks = np.arange(len(class_names))\n",
    "plt.xticks(tick_marks,class_names)\n",
    "plt.yticks(tick_marks,class_names)\n",
    "\n",
    "sns.heatmap(pd.DataFrame(cm), annot=True, cmap=\"YlGnBu\", fmt='g')\n",
    "ax.xaxis.set_label_position(\"top\")\n",
    "plt.tight_layout()\n",
    "plt.title('Confusion Matrix', y=1.1)\n",
    "plt.ylabel('Actual label')\n",
    "plt.xlabel('Predicted label')"
   ]
  },
  {
   "cell_type": "code",
   "execution_count": null,
   "id": "b1cac120-733b-4580-b9fa-0a53f0c55cc3",
   "metadata": {},
   "outputs": [],
   "source": []
  },
  {
   "cell_type": "code",
   "execution_count": null,
   "id": "380c1134-6fb4-4c9e-8414-89abefd10687",
   "metadata": {},
   "outputs": [],
   "source": []
  },
  {
   "cell_type": "code",
   "execution_count": null,
   "id": "cc471bd2-df32-4a70-a065-4685075eeac7",
   "metadata": {},
   "outputs": [],
   "source": []
  },
  {
   "cell_type": "code",
   "execution_count": null,
   "id": "abd8357d-8149-4ed5-a8e1-bfe148d45c5f",
   "metadata": {},
   "outputs": [],
   "source": []
  },
  {
   "cell_type": "code",
   "execution_count": 21,
   "id": "42a43a2c-5404-4743-9356-a028f9f9745d",
   "metadata": {},
   "outputs": [],
   "source": [
    "# Problem 3 k = 5"
   ]
  },
  {
   "cell_type": "code",
   "execution_count": 22,
   "id": "f726c4d1-fee4-45d1-b897-434708bcb325",
   "metadata": {},
   "outputs": [],
   "source": [
    "# Logisitc Regression in Problem 1 is more accurate than k-fold when k = 5 shown in Cell 22"
   ]
  },
  {
   "cell_type": "code",
   "execution_count": 23,
   "id": "d0df30e5-19cd-4598-bf0c-04a91c8cfbe6",
   "metadata": {},
   "outputs": [],
   "source": [
    "num_k = RepeatedKFold(n_splits = 5, n_repeats = 5, random_state = 0) # using K-fold cross validation for k = 5\n",
    "classifier = LogisticRegression(random_state=0) # setting classifier for log regression (doing k-fold of log regression)\n",
    "Y3_pred = cross_validate(classifier, X, Y, scoring = {'accuracy', 'precision', 'recall'}, cv = num_k, n_jobs = -1) # predicting outcome "
   ]
  },
  {
   "cell_type": "code",
   "execution_count": 24,
   "id": "0518371b-3029-45fa-983b-4c96d57687fc",
   "metadata": {},
   "outputs": [
    {
     "name": "stdout",
     "output_type": "stream",
     "text": [
      "K-fold cross-validation k = 5 \n",
      "\n",
      "Accuracy:  0.7705967235379001\n",
      "Precision:  0.720218694678401\n",
      "Recall:  0.5638606745383078\n"
     ]
    }
   ],
   "source": [
    "print(\"K-fold cross-validation k = 5 \\n\") # Accuracy, Precision, and Recall\n",
    "print(\"Accuracy: \", np.mean(Y3_pred['test_accuracy']))\n",
    "print(\"Precision: \", np.mean(Y3_pred['test_precision']))\n",
    "print(\"Recall: \", np.mean(Y3_pred['test_recall']))"
   ]
  },
  {
   "cell_type": "code",
   "execution_count": 25,
   "id": "0dafced2-f4c2-418d-a692-9dad1ea19da6",
   "metadata": {},
   "outputs": [],
   "source": [
    "# Problem 3 k = 10"
   ]
  },
  {
   "cell_type": "code",
   "execution_count": 26,
   "id": "e1ac17b3-13ab-4f23-be42-07e39e84449a",
   "metadata": {},
   "outputs": [],
   "source": [
    "# Logisitc Regression in Problem 1 is more accurate than k-fold when k = 10 shown in Cell 28"
   ]
  },
  {
   "cell_type": "code",
   "execution_count": 27,
   "id": "49fc7f94-ba10-441b-aed6-cc9462e5b35a",
   "metadata": {},
   "outputs": [],
   "source": [
    "num_k = RepeatedKFold(n_splits = 10, n_repeats = 10, random_state = 0) # repeating the same steps from cells 23 and 24 for k = 10\n",
    "classifier = LogisticRegression(random_state=0)\n",
    "Y3_pred = cross_validate(classifier, X, Y, scoring = {'accuracy', 'precision', 'recall'}, cv = num_k, n_jobs = -1)"
   ]
  },
  {
   "cell_type": "code",
   "execution_count": 28,
   "id": "48935ab9-8cf2-4227-818e-9c8950b8f0cd",
   "metadata": {},
   "outputs": [
    {
     "name": "stdout",
     "output_type": "stream",
     "text": [
      "K-fold cross-validation k = 10 \n",
      "\n",
      "Accuracy:  0.7754938482570062\n",
      "Precision:  0.7241785807699511\n",
      "Recall:  0.5727296205268064\n"
     ]
    }
   ],
   "source": [
    "print(\"K-fold cross-validation k = 10 \\n\") # Accuracy, Precision, and Recall\n",
    "print(\"Accuracy: \", np.mean(Y3_pred['test_accuracy']))\n",
    "print(\"Precision: \", np.mean(Y3_pred['test_precision']))\n",
    "print(\"Recall: \", np.mean(Y3_pred['test_recall']))"
   ]
  },
  {
   "cell_type": "code",
   "execution_count": null,
   "id": "69bd803a-c864-4e6f-b6d8-82309ce1a359",
   "metadata": {},
   "outputs": [],
   "source": []
  },
  {
   "cell_type": "code",
   "execution_count": null,
   "id": "9715807a-e216-44f2-8b6e-ff83000c8830",
   "metadata": {},
   "outputs": [],
   "source": []
  },
  {
   "cell_type": "code",
   "execution_count": null,
   "id": "9b8da19c-a3ad-4c26-9531-a7c1784fe7c7",
   "metadata": {},
   "outputs": [],
   "source": []
  },
  {
   "cell_type": "code",
   "execution_count": null,
   "id": "1558db02-5a99-4f6b-aa82-a8eb1e0f24b2",
   "metadata": {},
   "outputs": [],
   "source": []
  },
  {
   "cell_type": "code",
   "execution_count": 29,
   "id": "d02f613b-187f-4fe4-bc2a-f3810a7e636f",
   "metadata": {},
   "outputs": [],
   "source": [
    "# Problem 4 k = 5"
   ]
  },
  {
   "cell_type": "code",
   "execution_count": null,
   "id": "ec7121fe-a21d-49e9-8640-ddac534aaa5a",
   "metadata": {},
   "outputs": [],
   "source": [
    "# When looping Naive Bays, you get separate data for accuracy, precision, and recall. Then you average them together \n",
    "# which doesn't make any sense to do. This is why k-fold for Naive Bays is not needed"
   ]
  },
  {
   "cell_type": "code",
   "execution_count": null,
   "id": "abbd986f-2bed-4b42-8fa8-5bf55bbb890b",
   "metadata": {},
   "outputs": [],
   "source": [
    "# For k = 5, our accuracy compared to problem 2 is less accurate, this makes sense because of what was stated earlier\n",
    "# we are splitting the same data up k separate amount of times, none of the data correlates with each other"
   ]
  },
  {
   "cell_type": "code",
   "execution_count": 30,
   "id": "3adcd2b4-3e74-413b-981c-342e5a6a02b4",
   "metadata": {},
   "outputs": [],
   "source": [
    "num_k = RepeatedKFold(n_splits = 5, n_repeats = 5, random_state = 0) # K-fold for Naive Bays\n",
    "classifier = GaussianNB() # setting classifier to Naive Bays\n",
    "Y3_pred = cross_validate(classifier, X, Y, scoring = {'accuracy', 'precision', 'recall'}, cv = num_k, n_jobs = -1) # predicting outcome"
   ]
  },
  {
   "cell_type": "code",
   "execution_count": 31,
   "id": "6bafd11f-b472-4452-a8e5-70dfc7eb909f",
   "metadata": {},
   "outputs": [
    {
     "name": "stdout",
     "output_type": "stream",
     "text": [
      "K-fold cross-validation k = 5 \n",
      "\n",
      "Accuracy:  0.7515898480604362\n",
      "Precision:  0.6584235973031567\n",
      "Recall:  0.5980968033980192\n"
     ]
    }
   ],
   "source": [
    "print(\"K-fold cross-validation k = 5 \\n\") # Accuracy, Precision, and Recall\n",
    "print(\"Accuracy: \", np.mean(Y3_pred['test_accuracy']))\n",
    "print(\"Precision: \", np.mean(Y3_pred['test_precision']))\n",
    "print(\"Recall: \", np.mean(Y3_pred['test_recall']))"
   ]
  },
  {
   "cell_type": "code",
   "execution_count": 32,
   "id": "038ee2d1-1255-489b-bf42-71f1dc62d063",
   "metadata": {},
   "outputs": [],
   "source": [
    "# Problem 4 k = 10"
   ]
  },
  {
   "cell_type": "code",
   "execution_count": null,
   "id": "e9555612-ea22-40a8-ae33-98ad771609a4",
   "metadata": {},
   "outputs": [],
   "source": [
    "# When looping Naive Bays, you get separate data for accuracy, precision, and recall. Then you average them together \n",
    "# which doesn't make any sense to do. This is why k-fold for Naive Bays is not needed"
   ]
  },
  {
   "cell_type": "code",
   "execution_count": null,
   "id": "42fa1574-0494-481d-87c5-ce70667539d4",
   "metadata": {},
   "outputs": [],
   "source": [
    "# For k = 10, our accuracy compared to problem 2 is less accurate, this makes sense because of what was stated earlier\n",
    "# we are splitting the same data up k separate amount of times, none of the data correlates with each other"
   ]
  },
  {
   "cell_type": "code",
   "execution_count": 33,
   "id": "4e28565c-bf8e-4ec8-8cae-23d64fcc5847",
   "metadata": {},
   "outputs": [],
   "source": [
    "num_k = RepeatedKFold(n_splits = 10, n_repeats = 10, random_state = 0) # repeating cells 30 and 31 for k=10\n",
    "classifier = GaussianNB()\n",
    "Y3_pred = cross_validate(classifier, X, Y, scoring = {'accuracy', 'precision', 'recall'}, cv = num_k, n_jobs = -1)"
   ]
  },
  {
   "cell_type": "code",
   "execution_count": 34,
   "id": "c2c74408-5cbc-4f0c-ac5f-b7c290dab63a",
   "metadata": {},
   "outputs": [
    {
     "name": "stdout",
     "output_type": "stream",
     "text": [
      "K-fold cross-validation k = 10 \n",
      "\n",
      "Accuracy:  0.7523120300751879\n",
      "Precision:  0.6575639731593639\n",
      "Recall:  0.596102629011288\n"
     ]
    }
   ],
   "source": [
    "print(\"K-fold cross-validation k = 10 \\n\") # Accuracy, Precision, and Recall\n",
    "print(\"Accuracy: \", np.mean(Y3_pred['test_accuracy']))\n",
    "print(\"Precision: \", np.mean(Y3_pred['test_precision']))\n",
    "print(\"Recall: \", np.mean(Y3_pred['test_recall']))"
   ]
  }
 ],
 "metadata": {
  "kernelspec": {
   "display_name": "Python 3",
   "language": "python",
   "name": "python3"
  },
  "language_info": {
   "codemirror_mode": {
    "name": "ipython",
    "version": 3
   },
   "file_extension": ".py",
   "mimetype": "text/x-python",
   "name": "python",
   "nbconvert_exporter": "python",
   "pygments_lexer": "ipython3",
   "version": "3.8.8"
  }
 },
 "nbformat": 4,
 "nbformat_minor": 5
}
