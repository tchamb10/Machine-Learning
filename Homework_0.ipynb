{
 "cells": [
  {
   "cell_type": "code",
   "execution_count": 1,
   "id": "560bb323-6f81-4d23-8165-6dfdf646e1c5",
   "metadata": {},
   "outputs": [],
   "source": [
    "# Machine Learning Homework 0, Linear Regression"
   ]
  },
  {
   "cell_type": "code",
   "execution_count": 2,
   "id": "759cccc5-451d-4951-8388-1ec558081746",
   "metadata": {},
   "outputs": [],
   "source": [
    "# problem 1 c. the first input, X1, had the lowest cost when the learning rate is equal to .01, the final cost of X1 was .98922091"
   ]
  },
  {
   "cell_type": "code",
   "execution_count": 3,
   "id": "9747e367-fdb7-4544-a435-4a4f5b9ecb9e",
   "metadata": {},
   "outputs": [],
   "source": [
    "# problem 1 d. the higher the alpha to a certain degree, the lower the cost becomes, if you lower the alpha, the cost becomes greater"
   ]
  },
  {
   "cell_type": "code",
   "execution_count": 4,
   "id": "17ddf13f-0deb-4c68-aa3a-c29752bb8b47",
   "metadata": {},
   "outputs": [],
   "source": [
    "# problem 2 c. increasing alpha to a certain degree lowers the cost, but if the alpha is too high, the program breaks. The lower alpha becomes, the higher the cost becomes"
   ]
  },
  {
   "cell_type": "code",
   "execution_count": 5,
   "id": "453dd0e5-d299-4e31-8e20-e699cf3985ad",
   "metadata": {},
   "outputs": [],
   "source": [
    "#problem 2 d. for (1,1,1) = 2.986291508817803, for (2,0,4) = 0.02166889586533388, for (3,2,1) = -0.0011437145686333944"
   ]
  },
  {
   "cell_type": "code",
   "execution_count": 6,
   "id": "c4c27105-bff7-488e-b16c-764b828cd7bc",
   "metadata": {},
   "outputs": [],
   "source": [
    "import numpy as np\n",
    "import pandas as pd\n",
    "import matplotlib.pyplot as plt"
   ]
  },
  {
   "cell_type": "code",
   "execution_count": 7,
   "id": "1c5b3335-81ec-41ec-93fe-79633bafb994",
   "metadata": {},
   "outputs": [
    {
     "data": {
      "text/plain": [
       "99"
      ]
     },
     "execution_count": 7,
     "metadata": {},
     "output_type": "execute_result"
    }
   ],
   "source": [
    "df = pd.read_csv('D3.csv')\n",
    "df.head()\n",
    "M = len(df)\n",
    "M"
   ]
  },
  {
   "cell_type": "code",
   "execution_count": 8,
   "id": "5b911b9e-c099-420c-8591-f2fd361050fe",
   "metadata": {},
   "outputs": [
    {
     "name": "stdout",
     "output_type": "stream",
     "text": [
      "x1 =  [0.04040404 0.08080808 0.12121212 0.16161616 0.2020202  0.24242424\n",
      " 0.28282828 0.32323232 0.36363636 0.4040404  0.44444444 0.48484848\n",
      " 0.52525253 0.56565657 0.60606061 0.64646465 0.68686869 0.72727273\n",
      " 0.76767677 0.80808081 0.84848485 0.88888889 0.92929293 0.96969697\n",
      " 1.01010101 1.05050505 1.09090909 1.13131313 1.17171717 1.21212121\n",
      " 1.25252525 1.29292929 1.33333333 1.37373737 1.41414141 1.45454545\n",
      " 1.49494949 1.53535354 1.57575758 1.61616162 1.65656566 1.6969697\n",
      " 1.73737374 1.77777778 1.81818182 1.85858586 1.8989899  1.93939394\n",
      " 1.97979798 2.02020202 2.06060606 2.1010101  2.14141414 2.18181818\n",
      " 2.22222222 2.26262626 2.3030303  2.34343434 2.38383838 2.42424242\n",
      " 2.46464646 2.50505051 2.54545455 2.58585859 2.62626263 2.66666667\n",
      " 2.70707071 2.74747475 2.78787879 2.82828283 2.86868687 2.90909091\n",
      " 2.94949495 2.98989899 3.03030303 3.07070707 3.11111111 3.15151515\n",
      " 3.19191919 3.23232323 3.27272727 3.31313131 3.35353535 3.39393939\n",
      " 3.43434343 3.47474747 3.51515152 3.55555556 3.5959596  3.63636364\n",
      " 3.67676768 3.71717172 3.75757576 3.7979798  3.83838384 3.87878788\n",
      " 3.91919192 3.95959596 4.        ] x2 =  [0.13494949 0.82989899 1.52484848 2.21979798 2.91474747 3.60969697\n",
      " 0.30464646 0.99959596 1.69454545 2.38949495 3.08444444 3.77939394\n",
      " 0.47434343 1.16929293 1.86424242 2.55919192 3.25414141 3.94909091\n",
      " 0.6440404  1.3389899  2.03393939 2.72888889 3.42383838 0.11878788\n",
      " 0.81373737 1.50868687 2.20363636 2.89858586 3.59353535 0.28848485\n",
      " 0.98343434 1.67838384 2.37333333 3.06828283 3.76323232 0.45818182\n",
      " 1.15313131 1.84808081 2.5430303  3.2379798  3.93292929 0.62787879\n",
      " 1.32282828 2.01777778 2.71272727 3.40767677 0.10262626 0.79757576\n",
      " 1.49252525 2.18747475 2.88242424 3.57737374 0.27232323 0.96727273\n",
      " 1.66222222 2.35717172 3.05212121 3.74707071 0.4420202  1.1369697\n",
      " 1.83191919 2.52686869 3.22181818 3.91676768 0.61171717 1.30666667\n",
      " 2.00161616 2.69656566 3.39151515 0.08646465 0.78141414 1.47636364\n",
      " 2.17131313 2.86626263 3.56121212 0.25616162 0.95111111 1.64606061\n",
      " 2.3410101  3.0359596  3.73090909 0.42585859 1.12080808 1.81575758\n",
      " 2.51070707 3.20565657 3.90060606 0.59555556 1.29050505 1.98545455\n",
      " 2.68040404 3.37535354 0.07030303 0.76525253 1.46020202 2.15515152\n",
      " 2.85010101 3.54505051 0.24      ] x3 =  [0.88848485 1.3369697  1.78545455 2.23393939 2.68242424 3.13090909\n",
      " 3.57939394 0.02787879 0.47636364 0.92484848 1.37333333 1.82181818\n",
      " 2.27030303 2.71878788 3.16727273 3.61575758 0.06424242 0.51272727\n",
      " 0.96121212 1.40969697 1.85818182 2.30666667 2.75515152 3.20363636\n",
      " 3.65212121 0.10060606 0.54909091 0.99757576 1.44606061 1.89454545\n",
      " 2.3430303  2.79151515 3.24       3.68848485 0.1369697  0.58545455\n",
      " 1.03393939 1.48242424 1.93090909 2.37939394 2.82787879 3.27636364\n",
      " 3.72484848 0.17333333 0.62181818 1.07030303 1.51878788 1.96727273\n",
      " 2.41575758 2.86424242 3.31272727 3.76121212 0.20969697 0.65818182\n",
      " 1.10666667 1.55515152 2.00363636 2.45212121 2.90060606 3.34909091\n",
      " 3.79757576 0.24606061 0.69454545 1.1430303  1.59151515 2.04\n",
      " 2.48848485 2.9369697  3.38545455 3.83393939 0.28242424 0.73090909\n",
      " 1.17939394 1.62787879 2.07636364 2.52484848 2.97333333 3.42181818\n",
      " 3.87030303 0.31878788 0.76727273 1.21575758 1.66424242 2.11272727\n",
      " 2.56121212 3.00969697 3.45818182 3.90666667 0.35515152 0.80363636\n",
      " 1.25212121 1.70060606 2.14909091 2.59757576 3.04606061 3.49454545\n",
      " 3.9430303  0.39151515 0.84      ] y =  [ 2.6796499   2.96848981  3.25406475  3.53637472  3.81541972  4.09119974\n",
      "  2.36371479  3.83296487  4.09894997  4.3616701   4.62112526  4.87731544\n",
      "  3.13024065  3.37990089  3.62629616  3.86942645  5.30929177  5.54589212\n",
      "  3.77922749  4.00929789  4.23610332  4.45964378  4.67991926  2.89692977\n",
      "  3.1106753   4.52115587  4.72837146  4.93232207  5.13300772  3.33042839\n",
      "  3.52458409  3.71547481  3.90310057  4.08746135  5.46855715  3.64638799\n",
      "  3.82095385  3.99225473  4.16029065  4.32506159  4.48656756  2.64480856\n",
      "  2.79978458  4.15149563  4.29994171  4.44512281  2.58703894  2.7256901\n",
      "  2.86107628  2.9931975   3.12205373  3.247645    2.56997129  2.68903261\n",
      "  2.80482896  2.91736034  3.02662674  3.13262817  1.23536462  1.3348361\n",
      "  1.43104261  2.72398415  2.81366071  2.9000723   0.98321892  1.06310057\n",
      "  1.13971724  1.21306894  1.28315566 -0.65002258  0.6135342   0.673826\n",
      "  0.73085284  0.7846147   0.83511159 -1.1176565  -1.07368956 -1.03298759\n",
      " -0.99555059  0.23862143  0.26952848 -1.70282944 -1.67845234 -1.6573402\n",
      " -1.63949305 -1.62491086 -1.61359365 -3.60554141 -2.40075414 -2.39923185\n",
      " -2.40097453 -2.40598218 -4.41425481 -4.4257924  -4.44059497 -4.45866252\n",
      " -4.47999504 -3.30459253 -5.33245499]\n"
     ]
    }
   ],
   "source": [
    "x1 = df.values[:, 0] # get input values from first column\n",
    "x2 = df.values[:, 1] # get input values from second column\n",
    "x3 = df.values[:, 2] # get input values from third column\n",
    "y = df.values[:, 3] # get output values from fourth column\n",
    "print('x1 = ', x1[: 99], 'x2 = ', x2[: 99], 'x3 = ', x3[: 99], 'y = ', y[: 99],)"
   ]
  },
  {
   "cell_type": "code",
   "execution_count": 9,
   "id": "ad4624a8-834b-4b10-8151-aadb7304b33e",
   "metadata": {},
   "outputs": [
    {
     "data": {
      "text/plain": [
       "array([[0.04040404],\n",
       "       [0.08080808],\n",
       "       [0.12121212],\n",
       "       [0.16161616],\n",
       "       [0.2020202 ]])"
      ]
     },
     "execution_count": 9,
     "metadata": {},
     "output_type": "execute_result"
    }
   ],
   "source": [
    "x_0 = np.ones((99, 1)) # creating matrix with column of ones\n",
    "x_1 = x1.reshape(99, 1) # reshaping matrix for X1\n",
    "x_1[: 5]"
   ]
  },
  {
   "cell_type": "code",
   "execution_count": 10,
   "id": "cd24b5da-cd12-47df-ae2c-75f3b99f306a",
   "metadata": {},
   "outputs": [
    {
     "data": {
      "text/plain": [
       "array([[0.13494949],\n",
       "       [0.82989899],\n",
       "       [1.52484848],\n",
       "       [2.21979798],\n",
       "       [2.91474747]])"
      ]
     },
     "execution_count": 10,
     "metadata": {},
     "output_type": "execute_result"
    }
   ],
   "source": [
    "x_0 = np.ones((99, 1)) # creating matrix with column of ones\n",
    "x_2 = x2.reshape(99, 1) # reshaping matrix for X1\n",
    "x_2[: 5]"
   ]
  },
  {
   "cell_type": "code",
   "execution_count": 11,
   "id": "d375d308-e657-41d6-b0c8-1ed27593c619",
   "metadata": {},
   "outputs": [
    {
     "data": {
      "text/plain": [
       "array([[0.88848485],\n",
       "       [1.3369697 ],\n",
       "       [1.78545455],\n",
       "       [2.23393939],\n",
       "       [2.68242424]])"
      ]
     },
     "execution_count": 11,
     "metadata": {},
     "output_type": "execute_result"
    }
   ],
   "source": [
    "x_0 = np.ones((99, 1)) # creating matrix with column of ones\n",
    "x_3 = x3.reshape(99, 1) # reshaping matrix for X1\n",
    "x_3[: 5]"
   ]
  },
  {
   "cell_type": "code",
   "execution_count": 12,
   "id": "b13c4851-2a6b-4a28-bf29-e1490587c870",
   "metadata": {},
   "outputs": [
    {
     "data": {
      "text/plain": [
       "array([[1.        , 0.04040404],\n",
       "       [1.        , 0.08080808],\n",
       "       [1.        , 0.12121212],\n",
       "       [1.        , 0.16161616],\n",
       "       [1.        , 0.2020202 ]])"
      ]
     },
     "execution_count": 12,
     "metadata": {},
     "output_type": "execute_result"
    }
   ],
   "source": [
    "X1 = np.hstack((x_0, x_1)) # using hstack function to stack the ones matrix with the reshaped matrix for X1\n",
    "X1[:5]"
   ]
  },
  {
   "cell_type": "code",
   "execution_count": 13,
   "id": "be1cad2d-c696-4cc3-be48-e4fc5ea53363",
   "metadata": {},
   "outputs": [
    {
     "data": {
      "text/plain": [
       "array([[1.        , 0.13494949],\n",
       "       [1.        , 0.82989899],\n",
       "       [1.        , 1.52484848],\n",
       "       [1.        , 2.21979798],\n",
       "       [1.        , 2.91474747]])"
      ]
     },
     "execution_count": 13,
     "metadata": {},
     "output_type": "execute_result"
    }
   ],
   "source": [
    "X2 = np.hstack((x_0, x_2)) # using hstack function to stack the ones matrix with the reshaped matrix for X2\n",
    "X2[:5]"
   ]
  },
  {
   "cell_type": "code",
   "execution_count": 14,
   "id": "1458ac3c-1f95-415e-b040-8f3d0ab078dd",
   "metadata": {},
   "outputs": [
    {
     "data": {
      "text/plain": [
       "array([[1.        , 0.88848485],\n",
       "       [1.        , 1.3369697 ],\n",
       "       [1.        , 1.78545455],\n",
       "       [1.        , 2.23393939],\n",
       "       [1.        , 2.68242424]])"
      ]
     },
     "execution_count": 14,
     "metadata": {},
     "output_type": "execute_result"
    }
   ],
   "source": [
    "X3 = np.hstack((x_0, x_3)) # using hstack function to stack the ones matrix with the reshaped matrix for X3\n",
    "X3[:5]"
   ]
  },
  {
   "cell_type": "code",
   "execution_count": 15,
   "id": "f4726895-a33e-4867-b4dc-c7a904843508",
   "metadata": {},
   "outputs": [
    {
     "data": {
      "text/plain": [
       "array([0., 0.])"
      ]
     },
     "execution_count": 15,
     "metadata": {},
     "output_type": "execute_result"
    }
   ],
   "source": [
    "theta = np.zeros(2)\n",
    "theta"
   ]
  },
  {
   "cell_type": "code",
   "execution_count": 16,
   "id": "b5cca5c2-5b04-462f-98a3-741b452779b0",
   "metadata": {},
   "outputs": [],
   "source": [
    "def compute_cost(X, y, theta): # computing cost for theta\n",
    "    predictions = X.dot(theta)\n",
    "    errors = np.subtract(predictions, y)\n",
    "    sqrErrors = np.square(errors)\n",
    "    j = 1 / (2 * 99) * np.sum(sqrErrors) \n",
    "    \n",
    "    return j"
   ]
  },
  {
   "cell_type": "code",
   "execution_count": 17,
   "id": "cf715d03-9457-4919-8b3d-e2d4ae37e0eb",
   "metadata": {},
   "outputs": [
    {
     "name": "stdout",
     "output_type": "stream",
     "text": [
      "The cost for given values of theta_0 and theta_1 = 5.483015861682611\n"
     ]
    }
   ],
   "source": [
    "cost = compute_cost(X1, y, theta) # cost for each theta value\n",
    "print('The cost for given values of theta_0 and theta_1 =', cost)"
   ]
  },
  {
   "cell_type": "code",
   "execution_count": 18,
   "id": "5f6e249f-f986-452a-9df8-f32a0efb413d",
   "metadata": {},
   "outputs": [],
   "source": [
    "def gradient_descent(X, y, theta, alpha, iterations): # computing the cost for linear regression\n",
    "    cost_history = np.zeros(iterations)\n",
    "    \n",
    "    for i in range(iterations):\n",
    "        predictions = X.dot(theta)\n",
    "        errors = np.subtract(predictions, y)\n",
    "        sum_delta = (alpha / M) * X.transpose().dot(errors);\n",
    "        theta = theta - sum_delta;\n",
    "        cost_history[i] = compute_cost(X, y, theta)\n",
    "        \n",
    "    return theta, cost_history"
   ]
  },
  {
   "cell_type": "code",
   "execution_count": 19,
   "id": "401c9bee-03b2-4244-bf9d-819b46ba5db9",
   "metadata": {},
   "outputs": [],
   "source": [
    "theta = [0.,0.]\n",
    "iterations = 1500;\n",
    "alpha = .01;"
   ]
  },
  {
   "cell_type": "code",
   "execution_count": 20,
   "id": "3bffcaa9-81cc-4d2b-84c2-34f5a0c41a02",
   "metadata": {},
   "outputs": [
    {
     "name": "stdout",
     "output_type": "stream",
     "text": [
      "Final value of theta =  [ 5.75752967 -1.97114532]\n",
      "cost_history =  [5.4416155  5.40304386 5.36697031 ... 0.98927932 0.98925005 0.98922091]\n"
     ]
    }
   ],
   "source": [
    "theta, cost_history = gradient_descent(X1, y, theta, alpha, iterations)\n",
    "print('Final value of theta = ', theta)\n",
    "print('cost_history = ', cost_history)"
   ]
  },
  {
   "cell_type": "code",
   "execution_count": 21,
   "id": "001bed46-b07e-4e47-a3b8-b9d969055513",
   "metadata": {},
   "outputs": [
    {
     "data": {
      "text/plain": [
       "Text(0.5, 1.0, 'Linear Regression for X1')"
      ]
     },
     "execution_count": 21,
     "metadata": {},
     "output_type": "execute_result"
    },
    {
     "data": {
      "image/png": "[encoded data removed]",
      "text/plain": [
       "<Figure size 432x288 with 1 Axes>"
      ]
     },
     "metadata": {
      "needs_background": "light"
     },
     "output_type": "display_data"
    }
   ],
   "source": [
    "plt.scatter(X1[:,1], y, color = 'red', marker = '+', label = 'Training Data') # plotting linear regression for X1\n",
    "plt.plot(X1[:,1], X1.dot(theta), color = 'green', label = 'Linear Regression')\n",
    "plt.title('Linear Regression for X1')"
   ]
  },
  {
   "cell_type": "code",
   "execution_count": 22,
   "id": "33ffb6c9-7def-4988-87ab-5d7b4665d890",
   "metadata": {},
   "outputs": [
    {
     "data": {
      "text/plain": [
       "Text(0.5, 1.0, 'Convergence of gradient descent for X1')"
      ]
     },
     "execution_count": 22,
     "metadata": {},
     "output_type": "execute_result"
    },
    {
     "data": {
      "image/png": "[encoded data removed]",
      "text/plain": [
       "<Figure size 432x288 with 1 Axes>"
      ]
     },
     "metadata": {
      "needs_background": "light"
     },
     "output_type": "display_data"
    }
   ],
   "source": [
    "plt.plot(range(1, iterations + 1),cost_history, color='blue') # plotting loss function for X1\n",
    "plt.rcParams[\"figure.figsize\"] = (10,6)\n",
    "plt.grid()\n",
    "plt.xlabel('Number of iterations')\n",
    "plt.ylabel('Cost (J)')\n",
    "plt.title('Convergence of gradient descent for X1')"
   ]
  },
  {
   "cell_type": "code",
   "execution_count": null,
   "id": "bed4ae90-ee17-4668-a01c-ff10f8c16e62",
   "metadata": {},
   "outputs": [],
   "source": []
  },
  {
   "cell_type": "code",
   "execution_count": 23,
   "id": "e4db679b-bb2a-40bb-9cbe-d3ed044518f4",
   "metadata": {},
   "outputs": [],
   "source": [
    "# X2"
   ]
  },
  {
   "cell_type": "code",
   "execution_count": 24,
   "id": "cc18c0e1-861f-4b16-81e0-c795b8b9ea76",
   "metadata": {},
   "outputs": [
    {
     "name": "stdout",
     "output_type": "stream",
     "text": [
      "The cost for given values of theta_0 and theta_1 = 7.881424905292713\n"
     ]
    }
   ],
   "source": [
    "cost = compute_cost(X2, y, theta)\n",
    "print('The cost for given values of theta_0 and theta_1 =', cost)"
   ]
  },
  {
   "cell_type": "code",
   "execution_count": 25,
   "id": "23b3da5f-a7fc-4fe4-9aad-2a3d1d975307",
   "metadata": {},
   "outputs": [
    {
     "name": "stdout",
     "output_type": "stream",
     "text": [
      "Final value of theta =  [0.93878766 0.46720195]\n",
      "cost_history =  [7.77155741 7.67288287 7.58409103 ... 3.62449066 3.62447137 3.62445216]\n"
     ]
    }
   ],
   "source": [
    "theta, cost_history = gradient_descent(X2, y, theta, alpha, iterations)\n",
    "print('Final value of theta = ', theta)\n",
    "print('cost_history = ', cost_history)"
   ]
  },
  {
   "cell_type": "code",
   "execution_count": 26,
   "id": "0eeebca8-cee0-4a99-9690-cd9bc8428a75",
   "metadata": {},
   "outputs": [
    {
     "data": {
      "text/plain": [
       "Text(0.5, 1.0, 'Linear Regression for X2')"
      ]
     },
     "execution_count": 26,
     "metadata": {},
     "output_type": "execute_result"
    },
    {
     "data": {
      "image/png": "[encoded data removed]",
      "text/plain": [
       "<Figure size 720x432 with 1 Axes>"
      ]
     },
     "metadata": {
      "needs_background": "light"
     },
     "output_type": "display_data"
    }
   ],
   "source": [
    "plt.scatter(X2[:,1], y, color = 'red', marker = '+', label = 'Training Data') # plotting linear regression for X2\n",
    "plt.plot(X2[:,1], X2.dot(theta), color = 'green', label = 'Linear Regression')\n",
    "plt.title('Linear Regression for X2')"
   ]
  },
  {
   "cell_type": "code",
   "execution_count": 27,
   "id": "661211de-5d24-4d20-90eb-84255220e257",
   "metadata": {},
   "outputs": [
    {
     "data": {
      "text/plain": [
       "Text(0.5, 1.0, 'Convergence of gradient descent for X2')"
      ]
     },
     "execution_count": 27,
     "metadata": {},
     "output_type": "execute_result"
    },
    {
     "data": {
      "image/png": "[encoded data removed]",
      "text/plain": [
       "<Figure size 720x432 with 1 Axes>"
      ]
     },
     "metadata": {
      "needs_background": "light"
     },
     "output_type": "display_data"
    }
   ],
   "source": [
    "plt.plot(range(1, iterations + 1),cost_history, color='blue') # plotting loss function for X2\n",
    "plt.rcParams[\"figure.figsize\"] = (10,6)\n",
    "plt.grid()\n",
    "plt.xlabel('Number of iterations')\n",
    "plt.ylabel('Cost (J)')\n",
    "plt.title('Convergence of gradient descent for X2')"
   ]
  },
  {
   "cell_type": "code",
   "execution_count": null,
   "id": "876ed57e-dc9c-4ec4-9a95-9901ed8f28bc",
   "metadata": {},
   "outputs": [],
   "source": []
  },
  {
   "cell_type": "code",
   "execution_count": 28,
   "id": "680d9b7d-15fd-4818-8872-78aef7f96d3c",
   "metadata": {},
   "outputs": [],
   "source": [
    "# X3"
   ]
  },
  {
   "cell_type": "code",
   "execution_count": 29,
   "id": "9759e414-e2c4-40d6-888c-3b34528b8c40",
   "metadata": {},
   "outputs": [
    {
     "name": "stdout",
     "output_type": "stream",
     "text": [
      "The cost for given values of theta_0 and theta_1 = 4.272730420280937\n"
     ]
    }
   ],
   "source": [
    "cost = compute_cost(X3, y, theta)\n",
    "print('The cost for given values of theta_0 and theta_1 =', cost)"
   ]
  },
  {
   "cell_type": "code",
   "execution_count": 30,
   "id": "38fd7e3c-2c08-4e2d-bf28-43dd35594fd7",
   "metadata": {},
   "outputs": [
    {
     "name": "stdout",
     "output_type": "stream",
     "text": [
      "Final value of theta =  [ 2.74302548 -0.47230436]\n",
      "cost_history =  [4.2548015  4.23872147 4.22427582 ... 3.6509414  3.65093856 3.65093574]\n"
     ]
    }
   ],
   "source": [
    "theta, cost_history = gradient_descent(X3, y, theta, alpha, iterations)\n",
    "print('Final value of theta = ', theta)\n",
    "print('cost_history = ', cost_history)"
   ]
  },
  {
   "cell_type": "code",
   "execution_count": 31,
   "id": "fc3f8242-11f4-403b-8720-9726c24844b7",
   "metadata": {},
   "outputs": [
    {
     "data": {
      "text/plain": [
       "Text(0.5, 1.0, 'Linear Regression for X3')"
      ]
     },
     "execution_count": 31,
     "metadata": {},
     "output_type": "execute_result"
    },
    {
     "data": {
      "image/png": "[encoded data removed]",
      "text/plain": [
       "<Figure size 720x432 with 1 Axes>"
      ]
     },
     "metadata": {
      "needs_background": "light"
     },
     "output_type": "display_data"
    }
   ],
   "source": [
    "plt.scatter(X3[:,1], y, color = 'red', marker = '+', label = 'Training Data') # plotting linear regression for X3\n",
    "plt.plot(X3[:,1], X3.dot(theta), color = 'green', label = 'Linear Regression')\n",
    "plt.title('Linear Regression for X3')"
   ]
  },
  {
   "cell_type": "code",
   "execution_count": 32,
   "id": "5fe8c955-2f1c-43ae-9a69-20c804e47e3c",
   "metadata": {},
   "outputs": [
    {
     "data": {
      "text/plain": [
       "Text(0.5, 1.0, 'Convergence of gradient descent for X3')"
      ]
     },
     "execution_count": 32,
     "metadata": {},
     "output_type": "execute_result"
    },
    {
     "data": {
      "image/png": "[encoded data removed]",
      "text/plain": [
       "<Figure size 720x432 with 1 Axes>"
      ]
     },
     "metadata": {
      "needs_background": "light"
     },
     "output_type": "display_data"
    }
   ],
   "source": [
    "plt.plot(range(1, iterations + 1),cost_history, color='blue') # plotting loss function for X3\n",
    "plt.rcParams[\"figure.figsize\"] = (10,6)\n",
    "plt.grid()\n",
    "plt.xlabel('Number of iterations')\n",
    "plt.ylabel('Cost (J)')\n",
    "plt.title('Convergence of gradient descent for X3')"
   ]
  },
  {
   "cell_type": "code",
   "execution_count": null,
   "id": "37b31b7c-9fc2-4ad9-a7b0-5d4b194d4eaf",
   "metadata": {},
   "outputs": [],
   "source": []
  },
  {
   "cell_type": "code",
   "execution_count": null,
   "id": "fbba9633-7417-429b-a853-7297511e748e",
   "metadata": {},
   "outputs": [],
   "source": []
  },
  {
   "cell_type": "code",
   "execution_count": 33,
   "id": "9cdba6b7-41c1-4d97-9971-8422f30db225",
   "metadata": {},
   "outputs": [],
   "source": [
    "# PROBLEM 2"
   ]
  },
  {
   "cell_type": "code",
   "execution_count": 34,
   "id": "6273abd3-9377-4c87-8c22-a56164470986",
   "metadata": {},
   "outputs": [
    {
     "data": {
      "text/plain": [
       "array([0., 0., 0., 0.])"
      ]
     },
     "execution_count": 34,
     "metadata": {},
     "output_type": "execute_result"
    }
   ],
   "source": [
    "theta = np.zeros(4)\n",
    "theta"
   ]
  },
  {
   "cell_type": "code",
   "execution_count": 35,
   "id": "a9b289cc-f34c-4052-9ee2-da4d526b8298",
   "metadata": {},
   "outputs": [
    {
     "data": {
      "text/plain": [
       "array([[1.        , 0.04040404, 0.13494949, 0.88848485],\n",
       "       [1.        , 0.08080808, 0.82989899, 1.3369697 ],\n",
       "       [1.        , 0.12121212, 1.52484848, 1.78545455],\n",
       "       [1.        , 0.16161616, 2.21979798, 2.23393939],\n",
       "       [1.        , 0.2020202 , 2.91474747, 2.68242424]])"
      ]
     },
     "execution_count": 35,
     "metadata": {},
     "output_type": "execute_result"
    }
   ],
   "source": [
    "X4 = np.hstack((x_0, x_1, x_2, x_3))\n",
    "X4[:5]"
   ]
  },
  {
   "cell_type": "code",
   "execution_count": 36,
   "id": "5f737730-3029-4077-bc9d-a25ccd7a8969",
   "metadata": {},
   "outputs": [
    {
     "name": "stdout",
     "output_type": "stream",
     "text": [
      "The cost for given values of theta_0 and theta_1 = 5.483015861682611\n"
     ]
    }
   ],
   "source": [
    "cost = compute_cost(X4, y, theta)\n",
    "print('The cost for given values of theta_0 and theta_1 =', cost)"
   ]
  },
  {
   "cell_type": "code",
   "execution_count": 37,
   "id": "8715e66b-c3b4-4264-b99e-cc5cee5ba6f2",
   "metadata": {},
   "outputs": [
    {
     "name": "stdout",
     "output_type": "stream",
     "text": [
      "Final value of theta =  [ 4.21970086 -1.86902258  0.75060993 -0.1149967 ]\n",
      "cost_history =  [5.18323354 4.94729184 4.75868156 ... 0.78413267 0.78398186 0.78383134]\n"
     ]
    }
   ],
   "source": [
    "theta, cost_history = gradient_descent(X4, y, theta, alpha, iterations)\n",
    "print('Final value of theta = ', theta)\n",
    "print('cost_history = ', cost_history)"
   ]
  },
  {
   "cell_type": "code",
   "execution_count": 38,
   "id": "7ef64ba1-c43e-4270-9fc8-8d1e0077e4ec",
   "metadata": {},
   "outputs": [
    {
     "data": {
      "text/plain": [
       "Text(0.5, 1.0, 'Convergence of gradient descent for all three inputs')"
      ]
     },
     "execution_count": 38,
     "metadata": {},
     "output_type": "execute_result"
    },
    {
     "data": {
      "image/png": "[encoded data removed]",
      "text/plain": [
       "<Figure size 720x432 with 1 Axes>"
      ]
     },
     "metadata": {
      "needs_background": "light"
     },
     "output_type": "display_data"
    }
   ],
   "source": [
    "plt.plot(range(1, iterations + 1),cost_history, color='blue') # plotting loss function for all three inputs merged\n",
    "plt.rcParams[\"figure.figsize\"] = (10,6)\n",
    "plt.grid()\n",
    "plt.xlabel('Number of iterations')\n",
    "plt.ylabel('Cost (J)')\n",
    "plt.title('Convergence of gradient descent for all three inputs')"
   ]
  },
  {
   "cell_type": "code",
   "execution_count": 39,
   "id": "2c93d06a-68fd-42e3-817f-ec65817f20ef",
   "metadata": {},
   "outputs": [],
   "source": [
    "def prediction(X1, X2, X3): # function that predicts values at certain X1, X2, and X3 For question 2 part D\n",
    "    Input = [1, X1, X2, X3] \n",
    "    Y_prediction = 0\n",
    "    for i in range(len(Input)):\n",
    "        j = Input[i]*theta[i]\n",
    "        Y_prediction = Y_prediction + j \n",
    "    print('Predicted Y Value: ', Y_prediction)"
   ]
  },
  {
   "cell_type": "code",
   "execution_count": 40,
   "id": "8c66142c-6da4-44de-974f-bff93a2b7498",
   "metadata": {},
   "outputs": [
    {
     "name": "stdout",
     "output_type": "stream",
     "text": [
      "Predicted Y Value:  2.986291508817803\n",
      "<function prediction at 0x000001E0C43B8EE0>\n",
      "Predicted Y Value:  0.02166889586533388\n",
      "<function prediction at 0x000001E0C43B8EE0>\n",
      "Predicted Y Value:  -0.0011437145686333944\n",
      "<function prediction at 0x000001E0C43B8EE0>\n"
     ]
    }
   ],
   "source": [
    "prediction(1,1,1) # prediction for (1,1,1)\n",
    "print(prediction)\n",
    "prediction(2,0,4) # prediction for (2,0,4)\n",
    "print(prediction)\n",
    "prediction(3,2,1) # prediction for (3,2,1)\n",
    "print(prediction)"
   ]
  }
 ],
 "metadata": {
  "kernelspec": {
   "display_name": "Python 3",
   "language": "python",
   "name": "python3"
  },
  "language_info": {
   "codemirror_mode": {
    "name": "ipython",
    "version": 3
   },
   "file_extension": ".py",
   "mimetype": "text/x-python",
   "name": "python",
   "nbconvert_exporter": "python",
   "pygments_lexer": "ipython3",
   "version": "3.8.8"
  }
 },
 "nbformat": 4,
 "nbformat_minor": 5
}
